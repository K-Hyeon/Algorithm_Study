{
 "cells": [
  {
   "cell_type": "markdown",
   "id": "d92c7071-708d-4bab-8dfe-066b4fedb656",
   "metadata": {},
   "source": [
    "## 격자 위의 ELICE\n",
    "##### 시간 제한: 7초\n",
    "#### 엘리스는 N×N 격자 모양의 미로에 갇혀버렸다! 가장 왼쪽 위 칸의 좌표는 (1,1)이고 가장 오른쪽 아래 칸의 좌표는(N,N)이다. 엘리스는 위대한 마법사이기 때문에 미로 위에 흩어져 있는 글자들을 순서대로 모아 단어 ELICE를 만든다면, 그 자리에서 즉시 순간이동 마법을 이용해 미로를 탈출할 수 있다고 한다. 엘리스는 현재 (1,1)에 위치해 있다. 모든 격자에는 양의 정수가 에 쓰여져 있다. 몇몇 칸에는 글자가 놓여 있을 수 있다. 엘리스가 있는 칸에 글자가 놓여 있는 경우, 원한다면 그 글자를 얻을 수 있다. 글자를 얻는다면 다시 이 칸에 도달해도 다시 한 번 글자를 얻을 수는 없다. 이렇게 모은 글자를 얻은 순서대로 이었을 때, 단어 ELICE가 된다면 순간이동 마법을 사용할 수 있다. 엘리스가 어떠한 격자 칸에서 다른 격자 칸으로 이동하고 싶다면, 상하좌우 한 방향을 골라 인접한 격자 칸으로 이동할 수 있다. (단 미로를 벗어날 수는 없다.) 엘리스가 어떤 칸에서 인접한 칸으로 이동할 때, 두 칸위에 쓰여 있는 정수의 합만큼의 시간이 걸린다. 예를 들어 아래 예제1과 같이 3이 쓰여 있는 (1,2)격자에서 4가 쓰여 있는 (1,3)격자로 이동하려면 7의 단위 시간이 필요하다. 미로에는 정확히 2개의 E와, 1개의 L, 1개의 I, 1개의 C문자가 존재한다. 엘리스가 순간이동을 마법을 사용해 미로를 탈출하는 최소 단위 시간을 알려주자."
   ]
  },
  {
   "cell_type": "markdown",
   "id": "6bc49688-ce55-4dd2-9dc4-6240fc82638a",
   "metadata": {
    "jp-MarkdownHeadingCollapsed": true
   },
   "source": [
    "#### [ 입력 ]\n",
    "##### 첫째 줄에 정수 N이 주어진다.\n",
    "- 3≤N≤1000\n",
    "##### 둘째 줄부터 N+1번째 줄까지 ai,j가 주어진다. i+1번째 줄에 들어오는 j번째 정수는 ai,j이고, 격자 (i,j)에 쓰여있는 정수를 의미한다.\n",
    "- 1≤ai,j≤1000\n",
    "##### N+2번째 줄부터 N+6번째 줄까지는 정수 r, c가 주어진다. 각 줄에 주어지는 정보는, 격자 (r,c)에 순서대로 글자 E, L, I, C, E가 놓여있음을 의미한다.\n",
    "- 1≤r,c≤N\n",
    "##### N+2번째 줄에 입력된 위치의 E와 N+6번째 줄에 입력된 위치의 E는 프로그램 내에서 동일한 글자로 취급한다.\n",
    "\n",
    "#### [ 출력 ]\n",
    "##### 첫째 줄에 엘리스가 미로를 탈출하는 최소 단위 시간을 출력한다."
   ]
  },
  {
   "cell_type": "markdown",
   "id": "d95bbaa6-0446-4b93-8476-bd4e66bf9e6a",
   "metadata": {},
   "source": [
    "#### 입력 예시\n",
    "##### 3\n",
    "##### 2 3 4\n",
    "##### 1 4 3\n",
    "##### 1 1 1\n",
    "##### 1 1\n",
    "##### 2 1\n",
    "##### 3 1\n",
    "##### 3 2\n",
    "##### 3 3\n",
    "\n",
    "#### 출력 예시\n",
    "##### 9"
   ]
  },
  {
   "cell_type": "code",
   "execution_count": 1,
   "id": "ee88b4d6-31a4-4330-898f-399abb0c2565",
   "metadata": {},
   "outputs": [
    {
     "name": "stdin",
     "output_type": "stream",
     "text": [
      " 11 3 2 2\n",
      " 3 12\n",
      " 5 10\n",
      " 7 8\n"
     ]
    },
    {
     "name": "stdout",
     "output_type": "stream",
     "text": [
      "9\n"
     ]
    }
   ],
   "source": [
    "# input = __import__(\"sys\").stdin.readline\n",
    "n, m, l, t = map(int, input().split()) # 시간, 신도 수, 친구 수, 최소 기도 인원\n",
    "a = [0] * n\n",
    "for _ in range(m):\n",
    "    i, j = map(int, input().split())\n",
    "    for k in range(i - 1, j - 1):\n",
    "        a[k] += 1\n",
    "d = [0] * (l + 1) #-~l\n",
    "c = [0] * (t + 1) #-~t\n",
    "for i in range(n):\n",
    "    if a[i] >= t:\n",
    "        while len(c) > 1 and not c[-1]:\n",
    "            c.pop()\n",
    "        for i in range(len(c) - 1):\n",
    "            c[i + 1] += c[i]\n",
    "        d = [\n",
    "            max(d[i - j] + c[j] for j in range(min(i + 1, len(c)))) + 1\n",
    "            for i in range(l + 1)\n",
    "        ]\n",
    "        c = [0] * (t + 1) #-~t\n",
    "    else:\n",
    "        c[t - a[i]] += 1\n",
    "while len(c) > 1 and not c[-1]:\n",
    "    c.pop()\n",
    "for i in range(len(c) - 1):\n",
    "    c[i + 1] += c[i]\n",
    "d = [max(d[i - j] + c[j] for j in range(min(i + 1, len(c)))) for i in range(l + 1)]\n",
    "print(d[-1])"
   ]
  },
  {
   "cell_type": "code",
   "execution_count": 57,
   "id": "a2ccf731-36d6-4a30-ba30-b35f25424e89",
   "metadata": {},
   "outputs": [
    {
     "name": "stdin",
     "output_type": "stream",
     "text": [
      " 11 3 2 2\n",
      " 3 12\n",
      " 5 10\n",
      " 7 8\n"
     ]
    },
    {
     "name": "stdout",
     "output_type": "stream",
     "text": [
      "9\n"
     ]
    }
   ],
   "source": [
    "N, M, K, T = map(int, input().split()) # 시간, 신도 수, 친구 수, 최소 기도 인원\n",
    "\n",
    "start = N\n",
    "array = [0] * (N+1)\n",
    "for _ in range(M):\n",
    "    a, b = map(int, input().split())\n",
    "    for i in range(a-1, b):\n",
    "        array[i] += 1\n",
    "    start = min(start, a)\n",
    "\n",
    "result = 0\n",
    "time = 0\n",
    "add_time = []\n",
    "array = array[start-1:]\n",
    "for i in range(len(array)):\n",
    "    if array[i] < T:\n",
    "        time += 1\n",
    "        if (i == (len(array)-1)) and (time > 0):\n",
    "            add_time.append(time)\n",
    "            time = 0\n",
    "    elif array[i] >= T:\n",
    "        result += 1\n",
    "        if time > 0:\n",
    "            add_time.append(time)\n",
    "            time = 0\n",
    "\n",
    "sorted(add_time, reverse=True)\n",
    "if len(add_time) > K:\n",
    "    print(sum(add_time[:K+1])+result-1)\n",
    "else:\n",
    "    print(sum(add_time)+result-1)"
   ]
  }
 ],
 "metadata": {
  "kernelspec": {
   "display_name": "Python 3 (ipykernel)",
   "language": "python",
   "name": "python3"
  },
  "language_info": {
   "codemirror_mode": {
    "name": "ipython",
    "version": 3
   },
   "file_extension": ".py",
   "mimetype": "text/x-python",
   "name": "python",
   "nbconvert_exporter": "python",
   "pygments_lexer": "ipython3",
   "version": "3.12.4"
  }
 },
 "nbformat": 4,
 "nbformat_minor": 5
}
