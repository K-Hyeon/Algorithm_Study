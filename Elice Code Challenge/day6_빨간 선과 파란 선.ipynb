{
 "cells": [
  {
   "cell_type": "markdown",
   "id": "e294fdcb-08d5-48f6-9f36-5682189f8e70",
   "metadata": {},
   "source": [
    "## 빨간 선과 파란 선\n",
    "##### 시간 제한: 1초\n",
    "#### N개의 정점이 있다. 차례마다 다음을 반복해서 N개의 정점 사이에 간선을 연결하려고 한다.\n",
    "- 먼저 2개의 서로 연결되지 않은 정점 u와 v를 고른다.\n",
    "- 그 이후, u가 포함된 연결 요소의 모든 정점들 각각에서, v가 포함된 연결 요소의 모든 정점들 각각으로 간선을 추가한다. 간선의 색은 빨간색 혹은 파란색이다.\n",
    "#### k번째 차례에 사용할 색깔이 주어질 때, 정점을 골라서 얻을 수 있는 빨간 간선 개수의 최솟값을 구하여라."
   ]
  },
  {
   "cell_type": "markdown",
   "id": "9d46d850-0412-45b5-b89e-959c8c3915f2",
   "metadata": {},
   "source": [
    "##### 입력: 첫 번째 줄에 정점의 수 N이 주어진다.\n",
    "##### 2≤N≤30\n",
    "##### 두 번째 줄에 각 차례에 사용할 색깔을 표시하는 N−1개의 수가 공백을 구분으로 주어진다. 숫자가 0이면 빨간 간선을, 1이면 파란 간선을 사용한다는 뜻이다. 입력되는 모든 수들은 정수이다.\n",
    "##### 출력: 문제의 조건을 만족하면서 간선을 연결할 때, 얻을 수 있는 빨간 간선 개수의 최솟값을 출력한다."
   ]
  },
  {
   "cell_type": "markdown",
   "id": "c11e7c9b-516a-451b-9228-e7b29a79ee98",
   "metadata": {},
   "source": [
    "#### 입력 예시\n",
    "##### 5\n",
    "##### 1 1 0 1\n",
    "\n",
    "#### 출력 예시\n",
    "##### 1"
   ]
  },
  {
   "cell_type": "code",
   "execution_count": 63,
   "id": "8989c0d3-b16c-4143-8294-bbbc91924f0d",
   "metadata": {},
   "outputs": [
    {
     "name": "stdin",
     "output_type": "stream",
     "text": [
      " 6\n",
      " 1 1 1 1 0\n"
     ]
    },
    {
     "name": "stdout",
     "output_type": "stream",
     "text": [
      "5\n"
     ]
    }
   ],
   "source": [
    "n = int(input())\n",
    "c = list(map(int,input().split()))\n",
    "\n",
    "dp = dict()\n",
    "dp[tuple([1] * n)] = 0\n",
    "queue = [tuple([1] * n)]\n",
    "queueIndex = 0\n",
    "while len(queue) > queueIndex:\n",
    "    v = queue[queueIndex]\n",
    "    queueIndex += 1\n",
    "    for i in range(len(v)):\n",
    "        for j in range(i + 1, len(v)):\n",
    "            u = []\n",
    "            for k in range(len(v)):\n",
    "                if k == j:\n",
    "                    u[i] += v[k]\n",
    "                else:\n",
    "                    u.append(v[k])\n",
    "            u = tuple(sorted(u))\n",
    "            if u not in dp:\n",
    "                dp[u] = dp[v] + v[i] * v[j] * (1 - c[n - len(v)])\n",
    "                queue.append(u)\n",
    "            else:\n",
    "                dp[u] = min(dp[u], dp[v] + v[i] * v[j] * (1 - c[n - len(v)]))\n",
    "print(dp[(n,)])"
   ]
  },
  {
   "cell_type": "code",
   "execution_count": 3,
   "id": "fcf4b061-0315-4249-8568-135815155bfa",
   "metadata": {},
   "outputs": [
    {
     "name": "stdin",
     "output_type": "stream",
     "text": [
      " 5\n",
      " 1 1 0 1\n"
     ]
    },
    {
     "name": "stdout",
     "output_type": "stream",
     "text": [
      "1\n"
     ]
    }
   ],
   "source": [
    "N = int(input())\n",
    "array = list(map(int, input().split()))\n",
    "\n",
    "if len(array)//2 >= array.count(0): print(array.count(0))\n",
    "else:\n",
    "    node_set = [[i, i+1] for i in range(1, N, 2)]\n",
    "    cnt = array.count(0) - N//2\n",
    "    while cnt != 0:\n",
    "        for i in range(0, len(node_set)//2):\n",
    "            if cnt != 0:\n",
    "                node_set[i] += node_set.pop()\n",
    "                cnt -= 1\n",
    "    \n",
    "    result = 0\n",
    "    for i in node_set:\n",
    "        result += (len(i)*(len(i)-1))/2\n",
    "    print(int(result))"
   ]
  }
 ],
 "metadata": {
  "kernelspec": {
   "display_name": "Python 3 (ipykernel)",
   "language": "python",
   "name": "python3"
  },
  "language_info": {
   "codemirror_mode": {
    "name": "ipython",
    "version": 3
   },
   "file_extension": ".py",
   "mimetype": "text/x-python",
   "name": "python",
   "nbconvert_exporter": "python",
   "pygments_lexer": "ipython3",
   "version": "3.12.4"
  }
 },
 "nbformat": 4,
 "nbformat_minor": 5
}
