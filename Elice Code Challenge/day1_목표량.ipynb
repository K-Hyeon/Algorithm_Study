{
 "cells": [
  {
   "cell_type": "markdown",
   "id": "4aa60b2e-6284-47ca-9aeb-e487fdb0c849",
   "metadata": {},
   "source": [
    "## 목표량\n",
    "##### 시간 제한: 1초\n",
    "#### 엘리스 토끼는 목표량을 정해 수학 문제를 열심히 풉니다. 목표량은 정수입니다. 내일 풀 수학 문제의 개수는 오늘 푼 문제 개수의 수와 숫자의 구성이 같으면서, 오늘 푼 문제 개수의 수보다 큰 수 중 가장 작은 수입니다. 예를 들어, 오늘 67문제를 풀었으면 다음 날 76문제를 풉니다. 오늘 푼 문제의 개수를 줬을 때 다음날 풀 문제의 개수를 출력하는 프로그램을 작성하세요."
   ]
  },
  {
   "cell_type": "markdown",
   "id": "565d16ac-5c0e-40fa-83e5-d08da675f101",
   "metadata": {},
   "source": [
    "##### 입력: 첫 번째 줄에 오늘 푼 문제의 개수인 자연수 N을 입력합니다. (1≤N≤999999)\n",
    "##### 출력: 다음날 풀 문제의 개수를 출력합니다."
   ]
  },
  {
   "cell_type": "markdown",
   "id": "e4c4b480-53f2-4f85-8ffd-323bbc12a727",
   "metadata": {},
   "source": [
    "#### 입력 예시\n",
    "##### 364\n",
    "\n",
    "#### 출력 예시\n",
    "##### 436"
   ]
  },
  {
   "cell_type": "code",
   "execution_count": 39,
   "id": "0495308f-2ef4-4eea-be41-e2cf30e779a6",
   "metadata": {},
   "outputs": [
    {
     "name": "stdin",
     "output_type": "stream",
     "text": [
      " 1024\n"
     ]
    },
    {
     "name": "stdout",
     "output_type": "stream",
     "text": [
      "1042\n"
     ]
    }
   ],
   "source": [
    "from itertools import permutations\n",
    "\n",
    "str_nums = input()\n",
    "nums = [int(num) for num in str_nums]\n",
    "Pnums = permutations(nums, len(nums))\n",
    "\n",
    "array = []\n",
    "for Pnum in Pnums:\n",
    "    num = int(''.join(map(str, Pnum)))\n",
    "    if num > int(str_nums):\n",
    "        array.append(num)\n",
    "\n",
    "print(min(array))"
   ]
  },
  {
   "cell_type": "code",
   "execution_count": 8,
   "id": "5d2baefd-490a-4209-bb96-abc2e0e3202b",
   "metadata": {},
   "outputs": [
    {
     "name": "stdin",
     "output_type": "stream",
     "text": [
      " 364\n"
     ]
    },
    {
     "name": "stdout",
     "output_type": "stream",
     "text": [
      "436\n"
     ]
    }
   ],
   "source": [
    "s = list(input())\n",
    "for i in range(len(s) - 2, -1, -1):\n",
    "    if s[i] < s[i + 1]:\n",
    "        break\n",
    "else:\n",
    "    print(0)\n",
    "    exit()\n",
    "for j in range(len(s) - 1, i, -1):\n",
    "    if s[j] > s[i]:\n",
    "        break\n",
    "s[i], s[j] = s[j], s[i]\n",
    "s[i + 1 :] = s[:i:-1]\n",
    "print(\"\".join(s))"
   ]
  }
 ],
 "metadata": {
  "kernelspec": {
   "display_name": "Python 3 (ipykernel)",
   "language": "python",
   "name": "python3"
  },
  "language_info": {
   "codemirror_mode": {
    "name": "ipython",
    "version": 3
   },
   "file_extension": ".py",
   "mimetype": "text/x-python",
   "name": "python",
   "nbconvert_exporter": "python",
   "pygments_lexer": "ipython3",
   "version": "3.12.4"
  }
 },
 "nbformat": 4,
 "nbformat_minor": 5
}
