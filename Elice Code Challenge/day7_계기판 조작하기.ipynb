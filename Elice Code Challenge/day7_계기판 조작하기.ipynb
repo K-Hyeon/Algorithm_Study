{
 "cells": [
  {
   "cell_type": "markdown",
   "id": "d92c7071-708d-4bab-8dfe-066b4fedb656",
   "metadata": {},
   "source": [
    "## 계기판 조작하기\n",
    "##### 시간 제한: 1초\n",
    "#### 엘리스는 악질 중고차 딜러인 체셔를 싫어해 체셔를 골탕 먹이려고 합니다. 엘리스는 순식간에 자동차 주행거리 계기판을 조작할 수 있는 기술을 가지고 있습니다. 엘리스는 차를 구경하겠다고 체셔에게 부탁한 뒤 구경하는 시간 동안 계기판의 주행거리를 더 크게 조작해 체셔가 당황하게 만들 예정입니다. 원래 자동차의 주행거리가 N킬로미터면 여러분은 체셔에게 들키지 않도록 주행거리를 N보다 크면서, 가장 작은 수로 늘려놓으려고 합니다. 이때, 조작한 값은 서로 다른 K개의 숫자로 이루어져야 합니다. 예를 들어, 100000이란 수는 1과 0으로 이루어져 있으므로, 2개의 숫자로 이루어진 수입니다. N과 K를 줬을 때 조작할 수 있는 주행거리의 최솟값을 출력하는 프로그램을 작성하세요."
   ]
  },
  {
   "cell_type": "markdown",
   "id": "6bc49688-ce55-4dd2-9dc4-6240fc82638a",
   "metadata": {},
   "source": [
    "##### 입력: 첫 번째 줄에 자연수 N과 K를 입력합니다. (1≤N≤10^7, 1≤K≤10) 주행거리를 조작한 값이 전과 비교해 더 큰 경우만 입력합니다.\n",
    "##### 출력: 첫 번째 줄에 조작할 수 있는 주행거리의 최솟값을 출력합니다."
   ]
  },
  {
   "cell_type": "markdown",
   "id": "d95bbaa6-0446-4b93-8476-bd4e66bf9e6a",
   "metadata": {},
   "source": [
    "#### 입력 예시\n",
    "##### 100000 3\n",
    "\n",
    "#### 출력 예시\n",
    "##### 100002"
   ]
  },
  {
   "cell_type": "code",
   "execution_count": null,
   "id": "a2ccf731-36d6-4a30-ba30-b35f25424e89",
   "metadata": {},
   "outputs": [],
   "source": [
    "from functools import reduce\n",
    "\n",
    "n, k = map(int, input().split())\n",
    "used = [False for _ in range(10)]\n",
    "nofd, arr = len(str(n)), [int(x) for x in str(n)]\n",
    "\n",
    "\n",
    "def magic_num(m, l):\n",
    "    if l < 0 or l > m:\n",
    "        return -1\n",
    "    if (m, l) == (0, 0):\n",
    "        return 0\n",
    "    digit_t = [x for x in range(10) if used[x]]\n",
    "    digit_f = [x for x in range(10) if not used[x]]\n",
    "    digit = sorted(digit_t[:1] + digit_f[:l])\n",
    "    return reduce(lambda x, y: 10 * x + y, digit[:1] * (m - l) + digit_f[:l], 0)\n",
    "\n",
    "\n",
    "if k > nofd:\n",
    "    print(\"10\" + \"\".join(map(str, range(2, k))))\n",
    "elif n > int(\"9\" * (nofd - k) + \"\".join(map(str, range(9, 9 - k, -1)))):\n",
    "    print(\"100\" + \"0\" * (nofd - k) + \"\".join(map(str, range(2, k))))\n",
    "else:\n",
    "    count, idx = 0, nofd - 1\n",
    "    for i in range(nofd):\n",
    "        if not used[arr[i]]:\n",
    "            count, used[arr[i]] = count + 1, True\n",
    "            if count > k:\n",
    "                idx = i\n",
    "                break\n",
    "    if count == k:\n",
    "        print(n)\n",
    "    else:\n",
    "        result = -1\n",
    "        for i in range(idx, -1, -1):\n",
    "            for j in range(10):\n",
    "                used[j] = False\n",
    "            for j in range(i):\n",
    "                used[arr[j]] = True\n",
    "            for j in range(arr[i] + 1, 10):\n",
    "                temp, used[j] = used[j], True\n",
    "                result = magic_num(nofd - 1 - i, k - sum(used))\n",
    "                if result >= 0:\n",
    "                    print(\n",
    "                        n\n",
    "                        - (n % (10 ** (nofd - i)))\n",
    "                        + j * (10 ** (nofd - i - 1))\n",
    "                        + result\n",
    "                    )\n",
    "                    break\n",
    "                used[j] = temp\n",
    "            if result >= 0:\n",
    "                break"
   ]
  },
  {
   "cell_type": "code",
   "execution_count": 1,
   "id": "62461fe7-22b1-46b3-ac69-b50a28edcbc2",
   "metadata": {},
   "outputs": [
    {
     "name": "stdin",
     "output_type": "stream",
     "text": [
      " 100000 3\n"
     ]
    },
    {
     "name": "stdout",
     "output_type": "stream",
     "text": [
      "100002\n"
     ]
    }
   ],
   "source": [
    "def check(k):\n",
    "    return 10**(k-1)\n",
    "\n",
    "def len_set(x):\n",
    "    return len(set(str(x)))\n",
    "\n",
    "def distance(N, K):\n",
    "    current = max(N + 1, check(K))\n",
    "    while True:\n",
    "        if len_set(current) == K:\n",
    "            return current\n",
    "        current += 1\n",
    "\n",
    "N, K = map(int, input().split())\n",
    "print(distance(N, K))"
   ]
  }
 ],
 "metadata": {
  "kernelspec": {
   "display_name": "Python 3 (ipykernel)",
   "language": "python",
   "name": "python3"
  },
  "language_info": {
   "codemirror_mode": {
    "name": "ipython",
    "version": 3
   },
   "file_extension": ".py",
   "mimetype": "text/x-python",
   "name": "python",
   "nbconvert_exporter": "python",
   "pygments_lexer": "ipython3",
   "version": "3.12.4"
  }
 },
 "nbformat": 4,
 "nbformat_minor": 5
}
