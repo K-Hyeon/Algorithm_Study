{
 "cells": [
  {
   "cell_type": "markdown",
   "id": "d92c7071-708d-4bab-8dfe-066b4fedb656",
   "metadata": {},
   "source": [
    "## 강림제\n",
    "##### 시간 제한: 1초\n",
    "#### 코더 랜드에는 \"엘리스\"라는 신을 믿는 종교가 있습니다. 신실한 신도 체셔는 엘리스를 지상에 강림할 수 있게 해주는 강림제를 열려고 합니다. 체셔는 신도들에게 초대장을 돌리고, 초대장을 받은 신도들은 모두 자신이 언제 와서 언제 떠날 것인지 답변을 해주었습니다. 강림제가 시작되고 강림제에 참여 중인 사람들은 모두 기도를 시작합니다. 기도 중인 신도가 T명 이상이 되는 순간 엘리스가 지상에 강림하고 T명 미만이 되면 다시 사라진다고 합니다. 강림제를 담당하는 체셔는 기도 중인 신도가 T명 미만이 되면 엘리스가 강림하지 못한다는 것을 알고 급하게 자신의 친구 K명을 부르려고 합니다. 하지만 체셔의 친구들은 부끄러움이 많아서 체셔의 친구들을 제외한 신도가 T명 이상이 되는 순간 다 같이 강림제에서 나가 버리고 돌아오지 않는다고 합니다. 또한 기도 중인 인원이 T명 이상이면 체셔의 친구들은 강림제에 들어가지 않습니다. 단, 아직 들어가지 않은 체셔의 친구들은 이후 기도 인원이 T명 미만이 되면 강림제에 들어갈 수 있습니다. 체셔는 각각의 친구들을 적절한 시각에 강림제에 투입해 최대한 오랫동안 엘리스를 지상에 강림시키려고 합니다. 꼭 K명 모두 투입할 필요는 없습니다. 체셔는 엘리스를 얼마나 오랫동안 지상에 머물게 할 수 있는지 구하는 프로그램을 작성하세요."
   ]
  },
  {
   "cell_type": "markdown",
   "id": "6bc49688-ce55-4dd2-9dc4-6240fc82638a",
   "metadata": {
    "jp-MarkdownHeadingCollapsed": true
   },
   "source": [
    "#### [ 입력 ]\n",
    "##### 첫째 줄에 강림제가 진행되는 시간 N, 강림제에 초대한 신도의 수 M, 체셔의 친구 수 K, 엘리스가 강림하기 위해 필요한 최소의 기도 인원 T를 입력합니다. 모든 입력은 자연수입니다.\n",
    "- 1≤N,M,K≤300\n",
    "- 1≤T≤M\n",
    "##### 둘째 줄부터 M개의 줄에 걸쳐 줄마다 ai, bi를 입력합니다. i번째 사람은 시각 ai에 기도에 참여하고, 시각 bi에 강림제를 떠납니다.\n",
    "- 1≤ai≤N\n",
    "- ai<bi≤N+1\n",
    "##### 강림제가 시작되는 시각은 1을 기준으로 합니다.\n",
    "\n",
    "#### [ 출력 ]\n",
    "##### 체셔의 친구들을 강림제에 투입했을 때 엘리스가 지상에 강림할 수 있는 최대 시간을 출력합니다."
   ]
  },
  {
   "cell_type": "markdown",
   "id": "d95bbaa6-0446-4b93-8476-bd4e66bf9e6a",
   "metadata": {},
   "source": [
    "#### 입력 예시\n",
    "##### 11 3 2 2\n",
    "##### 3 12\n",
    "##### 5 10\n",
    "##### 7 8\n",
    "\n",
    "#### 출력 예시\n",
    "##### 9"
   ]
  },
  {
   "cell_type": "code",
   "execution_count": 1,
   "id": "ee88b4d6-31a4-4330-898f-399abb0c2565",
   "metadata": {},
   "outputs": [
    {
     "name": "stdin",
     "output_type": "stream",
     "text": [
      " 11 3 2 2\n",
      " 3 12\n",
      " 3 10\n",
      " 7 8\n"
     ]
    },
    {
     "name": "stdout",
     "output_type": "stream",
     "text": [
      "9\n"
     ]
    }
   ],
   "source": [
    "# input = __import__(\"sys\").stdin.readline\n",
    "n, m, l, t = map(int, input().split()) # 시간, 신도 수, 친구 수, 최소 기도 인원\n",
    "a = [0] * n\n",
    "for _ in range(m):\n",
    "    i, j = map(int, input().split())\n",
    "    for k in range(i - 1, j - 1):\n",
    "        a[k] += 1\n",
    "d = [0] * (l + 1) #-~l\n",
    "c = [0] * (t + 1) #-~t\n",
    "for i in range(n):\n",
    "    if a[i] >= t:\n",
    "        while len(c) > 1 and not c[-1]:\n",
    "            c.pop()\n",
    "        for i in range(len(c) - 1):\n",
    "            c[i + 1] += c[i]\n",
    "        d = [\n",
    "            max(d[i - j] + c[j] for j in range(min(i + 1, len(c)))) + 1\n",
    "            for i in range(l + 1)\n",
    "        ]\n",
    "        c = [0] * (t + 1) #-~t\n",
    "    else:\n",
    "        c[t - a[i]] += 1\n",
    "while len(c) > 1 and not c[-1]:\n",
    "    c.pop()\n",
    "for i in range(len(c) - 1):\n",
    "    c[i + 1] += c[i]\n",
    "d = [max(d[i - j] + c[j] for j in range(min(i + 1, len(c)))) for i in range(l + 1)]\n",
    "print(d[-1])"
   ]
  },
  {
   "cell_type": "code",
   "execution_count": 57,
   "id": "a2ccf731-36d6-4a30-ba30-b35f25424e89",
   "metadata": {},
   "outputs": [
    {
     "name": "stdin",
     "output_type": "stream",
     "text": [
      " 11 3 2 2\n",
      " 3 12\n",
      " 5 10\n",
      " 7 8\n"
     ]
    },
    {
     "name": "stdout",
     "output_type": "stream",
     "text": [
      "9\n"
     ]
    }
   ],
   "source": [
    "N, M, K, T = map(int, input().split()) # 시간, 신도 수, 친구 수, 최소 기도 인원\n",
    "\n",
    "start = N\n",
    "array = [0] * (N+1)\n",
    "for _ in range(M):\n",
    "    a, b = map(int, input().split())\n",
    "    for i in range(a-1, b):\n",
    "        array[i] += 1\n",
    "    start = min(start, a)\n",
    "\n",
    "result = 0\n",
    "time = 0\n",
    "add_time = []\n",
    "array = array[start-1:]\n",
    "for i in range(len(array)):\n",
    "    if array[i] < T:\n",
    "        time += 1\n",
    "        if (i == (len(array)-1)) and (time > 0):\n",
    "            add_time.append(time)\n",
    "            time = 0\n",
    "    elif array[i] >= T:\n",
    "        result += 1\n",
    "        if time > 0:\n",
    "            add_time.append(time)\n",
    "            time = 0\n",
    "\n",
    "sorted(add_time, reverse=True)\n",
    "if len(add_time) > K:\n",
    "    print(sum(add_time[:K+1])+result-1)\n",
    "else:\n",
    "    print(sum(add_time)+result-1)"
   ]
  }
 ],
 "metadata": {
  "kernelspec": {
   "display_name": "Python 3 (ipykernel)",
   "language": "python",
   "name": "python3"
  },
  "language_info": {
   "codemirror_mode": {
    "name": "ipython",
    "version": 3
   },
   "file_extension": ".py",
   "mimetype": "text/x-python",
   "name": "python",
   "nbconvert_exporter": "python",
   "pygments_lexer": "ipython3",
   "version": "3.12.4"
  }
 },
 "nbformat": 4,
 "nbformat_minor": 5
}
