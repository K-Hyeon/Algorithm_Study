{
 "cells": [
  {
   "cell_type": "markdown",
   "id": "0faca916-9c2f-4c07-bb2a-473a56d28956",
   "metadata": {},
   "source": [
    "## 트리 위의 게임\n",
    "##### 시간 제한: 1초\n",
    "#### 정점 N개의 트리에서 두 사람이 게임을 진행하려 한다. 각 정점은 1번부터 N번 까지 번호가 매겨져 있고 루트노드는 1번 노드이다. 게임은 서로 턴을 번갈아 가며 진행되고 트리 위에 놓을 수 있는 말과 함께 진행된다. 두 사람의 점수는 모두 0점으로 시작한다. 각 턴마다 두 사람은 다음과 같은 작업을 반복한다.\n",
    "- 현재 말이 놓여 있는 정점의 번호만큼 자신의 점수에 더한다.\n",
    "- 현재 말이 놓여 있는 정점의 자식 정점이 없다면 그대로 게임을 종료한다. 자식 정점이 존재한다면 자식 정점 중 원하는 자식 정점으로 말을 옮긴다.\n",
    "#### 게임이 종료되었을 때 선공의 점수가 후공의 점수보다 높거나 같다면 선공이 승리하고 아니라면 후공이 승리한다. 두 사람이 최적으로 플레이할 때, 처음 말이 놓여져 있는 정점의 번호에 따라 선공이 이기는지 후공이 이기는지 구해보자."
   ]
  },
  {
   "cell_type": "markdown",
   "id": "f915a4b2-245c-41ce-8c40-8b842c967292",
   "metadata": {},
   "source": [
    "##### 입력: 첫째 줄에 정점의 수 N이 주어진다.\n",
    "#### 1≤N≤100000\n",
    "#### 둘째 줄부터 N−1개의 줄에 간선을 나타내는 정수 u,v가 주어진다.\n",
    "#### 1≤u,v≤N\n",
    "#### 이는 u번 정점과 v번 정점을 잇는 간선이 존재한다는 뜻이다.\n",
    "##### 출력: N개의 줄에 걸쳐 정답을 출력한다. i번째 줄에는 말의 시작위치가 i번 정점일 때의 결과를 출력한다. 선공이 이긴다면 1을 후공이 이긴다면 0을 출력한다."
   ]
  },
  {
   "cell_type": "markdown",
   "id": "fb93cec5-1a81-454a-b530-d3a14d2e43d8",
   "metadata": {},
   "source": [
    "#### 입력 예시\n",
    "##### 5\n",
    "##### 1 3\n",
    "##### 2 1\n",
    "##### 3 4\n",
    "##### 5 1\n",
    "\n",
    "#### 출력 예시\n",
    "##### 1\n",
    "##### 1\n",
    "##### 0\n",
    "##### 1\n",
    "##### 1"
   ]
  },
  {
   "cell_type": "code",
   "execution_count": 1,
   "id": "f7d4f302-1f67-43f0-9206-7c83893d8d50",
   "metadata": {},
   "outputs": [
    {
     "name": "stdin",
     "output_type": "stream",
     "text": [
      " 5\n",
      " 1 3\n",
      " 2 1\n",
      " 3 4\n",
      " 5 1\n"
     ]
    },
    {
     "name": "stdout",
     "output_type": "stream",
     "text": [
      "1\n",
      "1\n",
      "0\n",
      "1\n",
      "1\n"
     ]
    }
   ],
   "source": [
    "from collections import defaultdict\n",
    "\n",
    "N = int(input())\n",
    "tree = defaultdict(list)\n",
    "for i in range(N-1):\n",
    "    u, v = map(int, input().split())\n",
    "    tree[u].append(v)\n",
    "    tree[v].append(u)\n",
    "\n",
    "def dfs(cur, depth, tree, depths):\n",
    "    if depth == 0: depths[cur] = -1\n",
    "    else: depths[cur] = depth % 2\n",
    "    for next in tree[cur]:\n",
    "        if (depths[next] == -1) and (next > cur):\n",
    "            dfs(next, depth + 1, tree, depths)\n",
    "\n",
    "for i in range(1, N+1):\n",
    "    depths = [-1] * (N + 1)\n",
    "    dfs(i, 0, tree, depths)\n",
    "    if (0 in depths) or (max(depths) == -1):\n",
    "        print(1)\n",
    "    else: print(0)"
   ]
  },
  {
   "cell_type": "code",
   "execution_count": 3,
   "id": "c2544f05-464d-4fc0-9ee8-0702b722249d",
   "metadata": {},
   "outputs": [
    {
     "name": "stdin",
     "output_type": "stream",
     "text": [
      " 5\n",
      " 1 3\n",
      " 2 1\n",
      " 3 4\n",
      " 5 1\n"
     ]
    },
    {
     "name": "stdout",
     "output_type": "stream",
     "text": [
      "1\n",
      "1\n",
      "0\n",
      "1\n",
      "1\n"
     ]
    }
   ],
   "source": [
    "from collections import defaultdict\n",
    "\n",
    "v = defaultdict(list)\n",
    "dp = [None]*100050\n",
    "inf = int(1e12)\n",
    "\n",
    "def dfs(x:int, par:int):\n",
    "    global dp, v\n",
    "    ret = inf\n",
    "    \n",
    "    for nxt in v[x]:\n",
    "        if nxt == par: continue\n",
    "            \n",
    "        dfs(nxt, x)\n",
    "        ret = min(ret, dp[nxt])\n",
    "        \n",
    "    if ret == inf: ret = 0\n",
    "    dp[x] = x - ret\n",
    "\n",
    "n = int(input())\n",
    "for _ in range(1, n):\n",
    "    a,b = (map(int,input().split()))\n",
    "    v[a].append(b)\n",
    "    v[b].append(a)\n",
    "\n",
    "dfs(1, 0)\n",
    "\n",
    "for i in range(1,n+1):\n",
    "    print('1' if dp[i]>=0 else '0')"
   ]
  }
 ],
 "metadata": {
  "kernelspec": {
   "display_name": "Python 3 (ipykernel)",
   "language": "python",
   "name": "python3"
  },
  "language_info": {
   "codemirror_mode": {
    "name": "ipython",
    "version": 3
   },
   "file_extension": ".py",
   "mimetype": "text/x-python",
   "name": "python",
   "nbconvert_exporter": "python",
   "pygments_lexer": "ipython3",
   "version": "3.12.4"
  }
 },
 "nbformat": 4,
 "nbformat_minor": 5
}
