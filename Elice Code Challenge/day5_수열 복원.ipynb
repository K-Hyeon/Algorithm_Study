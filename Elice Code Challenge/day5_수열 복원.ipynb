{
 "cells": [
  {
   "cell_type": "markdown",
   "id": "8477fe24-d803-40ea-b213-baeaa8e75825",
   "metadata": {},
   "source": [
    "## 목표량\n",
    "##### 시간 제한: 1초\n",
    "#### 양의 정수로 이루어진 수열 a1, a2,⋯,an이 있습니다.\n",
    "#### 1≤ai≤10^5\n",
    "#### 이 수열에서 각 원소를 선택하거나 선택하지 않음으로써 총 2^n개의 부분 수열을 만들 수 있고, 만들어진 모든 부분 수열의 합인 2^n개의 정수가 주어졌을 때, 원래의 수열 a1, a2,⋯,an을 구하는 프로그램을 작성하세요."
   ]
  },
  {
   "cell_type": "markdown",
   "id": "7fdfb3d9-cfdc-4568-9db1-af43c059a419",
   "metadata": {},
   "source": [
    "##### 입력: 첫째 줄에 정수 n이 주어집니다.\n",
    "##### 1≤n≤15\n",
    "##### 둘째 줄에 이 수열에서 만들 수 있는 모든 부분 수열의 합인 2^n개의 정수 s1, s2,⋯,s2n이 주어집니다.\n",
    "##### 0≤si≤n×10^5\n",
    "##### 출력: 첫째 줄에 원래 수열의 원소를 오름차순으로 출력합니다."
   ]
  },
  {
   "cell_type": "markdown",
   "id": "1a5b37fa-df50-4752-9cc3-1ade7665e6da",
   "metadata": {},
   "source": [
    "#### 입력 예시\n",
    "##### 3\n",
    "##### 1 4 7 3 0 6 5 2\n",
    "\n",
    "#### 출력 예시\n",
    "##### 1 2 4"
   ]
  },
  {
   "cell_type": "code",
   "execution_count": 14,
   "id": "50b8f33d-d62e-41aa-a5f2-ffd0fc6bb82a",
   "metadata": {},
   "outputs": [
    {
     "name": "stdin",
     "output_type": "stream",
     "text": [
      " 3\n",
      " 1 4 7 3 0 6 5 2\n"
     ]
    },
    {
     "name": "stdout",
     "output_type": "stream",
     "text": [
      "1 2 4\n"
     ]
    }
   ],
   "source": [
    "import sys\n",
    "from itertools import combinations\n",
    "\n",
    "def dfs(res, x, sum_, now, m):\n",
    "    if x == len(res):\n",
    "        now.append(sum_ + m)\n",
    "        return\n",
    "    dfs(res, x + 1, sum_, now, m)\n",
    "    dfs(res, x + 1, sum_ + res[x], now, m)\n",
    "\n",
    "def solve():\n",
    "    n = int(input())\n",
    "    v = list(map(int, input().split()))\n",
    "    v.sort()\n",
    "    res = []\n",
    "    now = []\n",
    "    for i in range(1, len(v)):\n",
    "        if v[i] not in now:\n",
    "            m = v[i]\n",
    "            dfs(res, 0, 0, now, m)\n",
    "            res.append(v[i])\n",
    "        now.remove(v[i])\n",
    "    print(' '.join(map(str, res)))\n",
    "\n",
    "if __name__ == \"__main__\":\n",
    "    solve()"
   ]
  }
 ],
 "metadata": {
  "kernelspec": {
   "display_name": "Python 3 (ipykernel)",
   "language": "python",
   "name": "python3"
  },
  "language_info": {
   "codemirror_mode": {
    "name": "ipython",
    "version": 3
   },
   "file_extension": ".py",
   "mimetype": "text/x-python",
   "name": "python",
   "nbconvert_exporter": "python",
   "pygments_lexer": "ipython3",
   "version": "3.12.4"
  }
 },
 "nbformat": 4,
 "nbformat_minor": 5
}
