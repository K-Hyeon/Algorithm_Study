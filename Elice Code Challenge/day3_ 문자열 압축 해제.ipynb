{
 "cells": [
  {
   "cell_type": "markdown",
   "id": "c0524356-9540-4877-95a5-a97a2dc50a13",
   "metadata": {},
   "source": [
    "## 문자열 압축 해제\n",
    "##### 시간 제한: 1초\n",
    "#### 엘리스 토끼는 문자열을 직접 압축 해제하려고 합니다. 압축되지 않은 문자열 S가 주어졌을 때, 이 문자열 중 어떤 부분 문자열은 K(Q)와 같이 압축할 수 있습니다. 이것은 Q라는 문자열이 K 번 반복된다는 뜻입니다. K는 한 자릿수의 정수이고, Q는 0자리 이상의 문자열입니다. 예를 들면, 53(8)은 다음과 같이 압축을 해제할 수 있습니다.\n",
    "#### 53(8) = 5 + 3(8) = 5 + 888 = 5888\n",
    "#### 압축된 문자열이 주어졌을 때, 이 문자열을 다시 압축을 푸는 프로그램을 작성하세요."
   ]
  },
  {
   "cell_type": "markdown",
   "id": "d9cab140-e8b2-415e-833f-ba19042c77cb",
   "metadata": {},
   "source": [
    "##### 입력: 첫째 줄에 압축된 문자열 S를 입력합니다. S의 길이는 최대 50입니다. 문자열은 (, ), 숫자로만 구성되어 있습니다.\n",
    "##### 출력: 압축되지 않은 문자열의 길이를 출력합니다."
   ]
  },
  {
   "cell_type": "markdown",
   "id": "49e07612-a791-4b1e-a41d-66fd1755f75a",
   "metadata": {},
   "source": [
    "#### 입력 예시\n",
    "##### 11(18(72(7)))\n",
    "\n",
    "#### 출력 예시\n",
    "##### 26"
   ]
  },
  {
   "cell_type": "code",
   "execution_count": 8,
   "id": "302ebbe6-a5e3-42cb-8d88-dd11bb83a218",
   "metadata": {},
   "outputs": [
    {
     "name": "stdin",
     "output_type": "stream",
     "text": [
      " 11(18(72(7)))\n"
     ]
    },
    {
     "name": "stdout",
     "output_type": "stream",
     "text": [
      "26\n"
     ]
    }
   ],
   "source": [
    "from collections import deque\n",
    "\n",
    "S = input()\n",
    "lefts = deque([])\n",
    "rights = deque([])\n",
    "for i in range(len(S)):\n",
    "    if S[i] == '(':\n",
    "        lefts.append(i)\n",
    "    elif S[i] == ')':\n",
    "        rights.append(i)\n",
    "\n",
    "temp = 0\n",
    "for _ in range(len(lefts)):\n",
    "    left = lefts.pop()\n",
    "    right = rights.popleft()\n",
    "    num = S[left+1:right]\n",
    "    iter = S[left - 1]\n",
    "    S = S.replace(S[(left-1):right+1], num * int(iter))\n",
    "    temp = (right - left + 1) - len(num*int(iter)) + 1\n",
    "    rights = deque([x - temp for x in rights])\n",
    "print(len(S))"
   ]
  },
  {
   "cell_type": "code",
   "execution_count": 2,
   "id": "e9356e3c-9c60-4026-a2ea-6e351f56ad01",
   "metadata": {},
   "outputs": [
    {
     "name": "stdin",
     "output_type": "stream",
     "text": [
      " 11(18(72(7)))\n"
     ]
    },
    {
     "name": "stdout",
     "output_type": "stream",
     "text": [
      "26\n"
     ]
    }
   ],
   "source": [
    "string = input()\n",
    "\n",
    "stack = []\n",
    "depth_result = [0] * 50\n",
    "depth = 0\n",
    "\n",
    "for ch in string:\n",
    "    if ch != \")\":\n",
    "        if ch == \"(\":\n",
    "            depth += 1\n",
    "            depth_result[depth] = 0\n",
    "        stack += [ch]\n",
    "    else:\n",
    "        for i in range(len(stack) - 1, -1, -1):\n",
    "            if stack[i] == \"(\":\n",
    "                num = depth_result[depth]\n",
    "                for j in stack[i + 1 :]:\n",
    "                    num += 1\n",
    "                depth -= 1\n",
    "                depth_result[depth] += num * int(stack[i - 1])\n",
    "                del stack[i - 1 :]\n",
    "\n",
    "                break\n",
    "print(depth_result[0] + len(stack))"
   ]
  }
 ],
 "metadata": {
  "kernelspec": {
   "display_name": "Python 3 (ipykernel)",
   "language": "python",
   "name": "python3"
  },
  "language_info": {
   "codemirror_mode": {
    "name": "ipython",
    "version": 3
   },
   "file_extension": ".py",
   "mimetype": "text/x-python",
   "name": "python",
   "nbconvert_exporter": "python",
   "pygments_lexer": "ipython3",
   "version": "3.12.4"
  }
 },
 "nbformat": 4,
 "nbformat_minor": 5
}
