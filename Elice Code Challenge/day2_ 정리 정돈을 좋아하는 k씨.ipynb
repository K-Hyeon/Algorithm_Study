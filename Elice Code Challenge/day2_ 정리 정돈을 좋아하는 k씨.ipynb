{
 "cells": [
  {
   "cell_type": "markdown",
   "id": "ff81bfd1-1c69-42b7-898d-2257214533fa",
   "metadata": {},
   "source": [
    "## 정리 정돈을 좋아하는 k씨\n",
    "##### 시간 제한: 1초\n",
    "#### 정리 정돈을 좋아하는 k씨의 본명은 아무도 모릅니다. 사람들은 k씨의 특이한 행동 2가지 때문에 그를 '정리 정돈을 좋아하는 k씨'라고 부릅니다. 그 두 가지 행동은 그가 숫자를 정리하는 일을 하면 아무 규칙없이 나열되어 있는 숫자중 범위를 정한 후 무조건 오름차순으로 정리한다는 것, 그리고 오름차순으로 정리된 숫자 중 k번째 숫자를 선택한다는 것입니다. 예를 들어 a={1,7,6,8,1,6,4,5}라는 수열이 있습니다. 정리정돈을 좋아하는 k씨는 범위를 2에서 5로 정하고, k를 2라고 정했습니다. 그러면 ka = {7,6,8,1}이 되고, 이것을 오름차순으로 정리를 하면 ka = {1,6,7,8}이 됩니다. 그리고 k씨는 2번째인 6을 선택합니다. 배열 a가 주어지고, k씨가 일을 한 횟수가 주어졌을 때, k씨가 고른 숫자를 출력하는 프로그램을 작성하세요."
   ]
  },
  {
   "cell_type": "markdown",
   "id": "16267c64-ce30-4530-b0e6-a1444830fb15",
   "metadata": {},
   "source": [
    "##### 입력: 첫째 줄에 배열의 크기인 정수 n과 k씨가 일한 횟수인 정수 m을 입력합니다. \n",
    "##### (1≤n≤10000, 1≤m≤500) \n",
    "##### 둘째 줄에는 배열에 포함된 정수를 순서대로 입력합니다. 각 정수는 절댓값이 200을 넘지 않는 정수입니다. 다음 줄 부터 m개 줄에 걸쳐 k씨가 고른 범위인 정수 i, j와 정수 k를 입력합니다. \n",
    "##### (1≤i≤j≤n, 1≤k≤j−i+1)\n",
    "##### 출력: k씨가 일할 때마다 k씨가 선택한 숫자를 한 줄에 하나씩 출력합니다."
   ]
  },
  {
   "cell_type": "markdown",
   "id": "62212550-26c3-4d9f-9ac4-34913b62ebf8",
   "metadata": {},
   "source": [
    "#### 입력 예시\n",
    "##### 8 3\n",
    "##### 1 7 6 8 1 6 4 5\n",
    "##### 1 5 3\n",
    "##### 2 6 2\n",
    "##### 4 8 3\n",
    "#### 출력 예시\n",
    "##### 6\n",
    "##### 6\n",
    "##### 5"
   ]
  },
  {
   "cell_type": "code",
   "execution_count": 1,
   "id": "ea63db48-6f01-4142-bc0a-ef1bc9d3d6c9",
   "metadata": {},
   "outputs": [
    {
     "name": "stdin",
     "output_type": "stream",
     "text": [
      " 8 3\n",
      " 1 7 6 8 1 6 4 5\n",
      " 1 5 3\n"
     ]
    },
    {
     "name": "stdout",
     "output_type": "stream",
     "text": [
      "6\n"
     ]
    },
    {
     "name": "stdin",
     "output_type": "stream",
     "text": [
      " 2 6 2\n"
     ]
    },
    {
     "name": "stdout",
     "output_type": "stream",
     "text": [
      "6\n"
     ]
    },
    {
     "name": "stdin",
     "output_type": "stream",
     "text": [
      " 4 8 3\n"
     ]
    },
    {
     "name": "stdout",
     "output_type": "stream",
     "text": [
      "5\n"
     ]
    }
   ],
   "source": [
    "n, m = map(int, input().split())\n",
    "array = list(map(int, input().split()))\n",
    "for _ in range(m):\n",
    "    i, j, k = map(int, input().split())\n",
    "    new_array = array[i-1:j]\n",
    "    new_array.sort()\n",
    "    print(new_array[k-1])"
   ]
  },
  {
   "cell_type": "code",
   "execution_count": null,
   "id": "eaea0c26-b550-4f00-80eb-0b9f30471503",
   "metadata": {},
   "outputs": [],
   "source": [
    "def main():\n",
    "\timport sys\n",
    "\tinput = sys.stdin.read\n",
    "\tdata = input().split()\n",
    "\n",
    "\tn = int(data[0])\n",
    "\tm = int(data[1])\n",
    "\tseq = [int(data[i + 2]) for i in range(n)]\n",
    "\n",
    "\tindex = 2 + n\n",
    "\tresults = []\n",
    "\n",
    "\tfor _ in range(m):\n",
    "\t\ti = int(data[index])\n",
    "\t\tj = int(data[index + 1])\n",
    "\t\tk = int(data[index + 2])\n",
    "\t\tpart = sorted(seq[i - 1:j])\n",
    "\t\tresults.append(part[k - 1])\n",
    "\t\tindex += 3\n",
    "\n",
    "\tfor result in results:\n",
    "\t\tprint(result)\n",
    "\n",
    "if __name__ == \"__main__\":\n",
    "\tmain()"
   ]
  }
 ],
 "metadata": {
  "kernelspec": {
   "display_name": "Python 3 (ipykernel)",
   "language": "python",
   "name": "python3"
  },
  "language_info": {
   "codemirror_mode": {
    "name": "ipython",
    "version": 3
   },
   "file_extension": ".py",
   "mimetype": "text/x-python",
   "name": "python",
   "nbconvert_exporter": "python",
   "pygments_lexer": "ipython3",
   "version": "3.12.4"
  }
 },
 "nbformat": 4,
 "nbformat_minor": 5
}
