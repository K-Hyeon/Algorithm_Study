{
 "cells": [
  {
   "cell_type": "markdown",
   "id": "1554c878-bba5-4fcf-b482-8cfb5baa73f1",
   "metadata": {},
   "source": [
    "## combinations"
   ]
  },
  {
   "cell_type": "code",
   "execution_count": 29,
   "id": "e95f94af-5755-4c35-889f-f7a6d2dd5e74",
   "metadata": {},
   "outputs": [
    {
     "name": "stdin",
     "output_type": "stream",
     "text": [
      " 3 3\n",
      " 1\n",
      " 5\n",
      " 3\n"
     ]
    },
    {
     "name": "stdout",
     "output_type": "stream",
     "text": [
      "4\n"
     ]
    }
   ],
   "source": [
    "# import sys\n",
    "# input = sys.stdin.readline\n",
    "import itertools\n",
    "\n",
    "N, M = map(int, input().split())\n",
    "array = [int(input()) for _ in range(N)]\n",
    "comb = itertools.combinations(array, 2)\n",
    "\n",
    "comb_sub = []\n",
    "for k in comb:\n",
    "    if abs(k[0] - k[1]) > M:\n",
    "        comb_sub.append(abs(k[0] - k[1]))\n",
    "print(min(comb_sub))"
   ]
  },
  {
   "cell_type": "markdown",
   "id": "ba44b251-6593-4ab3-b03c-f261dcb9172d",
   "metadata": {},
   "source": [
    "## 이중 for문"
   ]
  },
  {
   "cell_type": "code",
   "execution_count": 35,
   "id": "72906979-1ed9-4a2f-bd4c-3b1bb74d2a66",
   "metadata": {},
   "outputs": [
    {
     "name": "stdin",
     "output_type": "stream",
     "text": [
      " 3 3\n",
      " 1\n",
      " 3\n",
      " 5\n"
     ]
    },
    {
     "name": "stdout",
     "output_type": "stream",
     "text": [
      "4\n"
     ]
    }
   ],
   "source": [
    "N, M = map(int, input().split())\n",
    "array = [int(input()) for _ in range(N)]\n",
    "\n",
    "min_sub = 1e9\n",
    "for i in range(N):\n",
    "    for j in range(N):\n",
    "        if abs(array[i] - array[j]) > M:\n",
    "            min_sub = min(min_sub, abs(array[i] - array[j]))\n",
    "print(min_sub)"
   ]
  },
  {
   "cell_type": "markdown",
   "id": "a0359b41-80c7-4393-a11c-96c9ce68ea3a",
   "metadata": {},
   "source": [
    "## 투포인터"
   ]
  },
  {
   "cell_type": "code",
   "execution_count": 82,
   "id": "89b95e1e-187c-47ca-8934-ee26f1662caa",
   "metadata": {},
   "outputs": [
    {
     "name": "stdin",
     "output_type": "stream",
     "text": [
      " 3 3\n",
      " 1\n",
      " 3\n",
      " 5\n"
     ]
    },
    {
     "name": "stdout",
     "output_type": "stream",
     "text": [
      "4\n"
     ]
    }
   ],
   "source": [
    "# import sys\n",
    "# input = sys.stdin.readline\n",
    "\n",
    "N, M = map(int, input().split())\n",
    "array = [int(input()) for _ in range(N)]\n",
    "array.sort()\n",
    "\n",
    "min_sub = 1e9 * 2\n",
    "left, right = 0, 1\n",
    "while right < N:\n",
    "    sub = array[right] - array[left]\n",
    "    if sub < M:\n",
    "        right += 1\n",
    "    elif sub > M:\n",
    "        min_sub = min(min_sub, sub)\n",
    "        left += 1\n",
    "    else:\n",
    "        min_sub = M\n",
    "        break\n",
    "print(min_sub)"
   ]
  }
 ],
 "metadata": {
  "kernelspec": {
   "display_name": "Python 3 (ipykernel)",
   "language": "python",
   "name": "python3"
  },
  "language_info": {
   "codemirror_mode": {
    "name": "ipython",
    "version": 3
   },
   "file_extension": ".py",
   "mimetype": "text/x-python",
   "name": "python",
   "nbconvert_exporter": "python",
   "pygments_lexer": "ipython3",
   "version": "3.12.4"
  }
 },
 "nbformat": 4,
 "nbformat_minor": 5
}
