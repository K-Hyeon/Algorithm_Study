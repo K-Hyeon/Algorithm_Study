{
 "cells": [
  {
   "attachments": {},
   "cell_type": "markdown",
   "id": "f9ee2b87-65a4-4572-898d-9d2460b77dbf",
   "metadata": {},
   "source": [
    "# 백준 1062(https://www.acmicpc.net/problem/1062)\n",
    "\n",
    "남극에 사는 김지민 선생님은 학생들이 되도록이면 많은 단어를 읽을 수 있도록 하려고 한다. 그러나 지구온난화로 인해 얼음이 녹아서 곧 학교가 무너지기 때문에, 김지민은 K개의 글자를 가르칠 시간 밖에 없다. 김지민이 가르치고 난 후에는, 학생들은 그 K개의 글자로만 이루어진 단어만을 읽을 수 있다. 김지민은 어떤 K개의 글자를 가르쳐야 학생들이 읽을 수 있는 단어의 개수가 최대가 되는지 고민에 빠졌다.\n",
    "\n",
    "남극언어의 모든 단어는 \"anta\"로 시작되고, \"tica\"로 끝난다. 남극언어에 단어는 N개 밖에 없다고 가정한다. 학생들이 읽을 수 있는 단어의 최댓값을 구하는 프로그램을 작성하시오."
   ]
  },
  {
   "cell_type": "markdown",
   "id": "b9d123c9-60a6-4f8b-844a-aa3789d1bdbc",
   "metadata": {},
   "source": [
    "> 입력: 첫째 줄에 단어의 개수 N과 K가 주어진다. N은 50보다 작거나 같은 자연수이고, K는 26보다 작거나 같은 자연수 또는 0이다. 둘째 줄부터 N개의 줄에 남극 언어의 단어가 주어진다. 단어는 영어 소문자로만 이루어져 있고, 길이가 8보다 크거나 같고, 15보다 작거나 같다. 모든 단어는 중복되지 않는다.\n",
    "\n",
    "> 출력: 첫째 줄에 김지민이 K개의 글자를 가르칠 때, 학생들이 읽을 수 있는 단어 개수의 최댓값을 출력한다."
   ]
  },
  {
   "cell_type": "markdown",
   "id": "3e180a28-6dc7-4007-9a6c-550899a9d41d",
   "metadata": {},
   "source": [
    "## Solution"
   ]
  },
  {
   "cell_type": "code",
   "execution_count": 213,
   "id": "02536e1d-a3bc-4226-a2a7-9d75a495fe56",
   "metadata": {},
   "outputs": [
    {
     "name": "stdin",
     "output_type": "stream",
     "text": [
      " 3 6\n",
      " antarctica\n",
      " antahellotica\n",
      " antacartica\n"
     ]
    },
    {
     "name": "stdout",
     "output_type": "stream",
     "text": [
      "2\n"
     ]
    }
   ],
   "source": [
    "from itertools import combinations\n",
    "import sys\n",
    "input = sys.stdin.readline\n",
    "\n",
    "N, K = map(int, input().split())\n",
    "answer = 0\n",
    "res = set(chr(i) for i in range(97, 123)) - {'a', 'n', 't', 'i', 'c'}\n",
    "data = []\n",
    "for _ in range(N):\n",
    "    word = str(input().rstrip('\\n'))\n",
    "    data.append(word[4:-4])\n",
    "\n",
    "def solve(data,learned):\n",
    "    cnt = 0\n",
    "    for word in data:\n",
    "        canRead = 1\n",
    "        for w in word:\n",
    "            if learned[ord(w)] == 0:\n",
    "                canRead = 0\n",
    "                break\n",
    "        if canRead:\n",
    "            cnt += 1\n",
    "    return cnt\n",
    "\n",
    "if K >= 5:\n",
    "    learned = [0] * 123\n",
    "    for x in {'a', 'n', 't', 'i', 'c'}:\n",
    "        learned[ord(x)] = 1\n",
    "    \n",
    "    for teach in list(combinations(res, K - 5)):\n",
    "        for t in teach:\n",
    "            learned[ord(t)] = 1\n",
    "        cnt = solve(data,learned)\n",
    "        if cnt > answer:\n",
    "            answer = cnt\n",
    "        for t in teach:\n",
    "            learned[ord(t)] = 0\n",
    "    print(answer)\n",
    "else:\n",
    "    print(0)"
   ]
  },
  {
   "cell_type": "code",
   "execution_count": 39,
   "id": "e4ecbc9b-eb53-4537-a887-c59189aea49b",
   "metadata": {},
   "outputs": [
    {
     "name": "stdin",
     "output_type": "stream",
     "text": [
      " 9 8\n",
      " antabtica\n",
      " antaxtica\n",
      " antadtica\n"
     ]
    },
    {
     "name": "stdout",
     "output_type": "stream",
     "text": [
      "3\n"
     ]
    }
   ],
   "source": [
    "from itertools import combinations\n",
    "\n",
    "N, K = map(int, input().split())\n",
    "words = []\n",
    "able = []\n",
    "for _ in range(N):\n",
    "    word = input().strip()[4:-4]\n",
    "    words.append(word)\n",
    "    for w in word:\n",
    "        if w not in (able + ['a', 'n', 't', 'i', 'c']): able.append(w)\n",
    "\n",
    "def solve(words, teach):\n",
    "    cnt = 0\n",
    "    for word in words:\n",
    "        canread = True\n",
    "        for w in word:\n",
    "            if (w not in teach) and (w not in {'a', 'n', 't', 'i', 'c'}):\n",
    "                canread = False\n",
    "                break\n",
    "        if canread: cnt += 1\n",
    "    return cnt\n",
    "\n",
    "answer = 0\n",
    "if K >= 5:\n",
    "    for teach in list(combinations(able, K - 5)):\n",
    "        cnt = solve(words, teach)\n",
    "        answer = max(answer, cnt)\n",
    "    print(answer)\n",
    "else:\n",
    "    print(0)"
   ]
  }
 ],
 "metadata": {
  "kernelspec": {
   "display_name": "Python 3 (ipykernel)",
   "language": "python",
   "name": "python3"
  },
  "language_info": {
   "codemirror_mode": {
    "name": "ipython",
    "version": 3
   },
   "file_extension": ".py",
   "mimetype": "text/x-python",
   "name": "python",
   "nbconvert_exporter": "python",
   "pygments_lexer": "ipython3",
   "version": "3.12.4"
  },
  "widgets": {
   "application/vnd.jupyter.widget-state+json": {
    "state": {},
    "version_major": 2,
    "version_minor": 0
   }
  }
 },
 "nbformat": 4,
 "nbformat_minor": 5
}
