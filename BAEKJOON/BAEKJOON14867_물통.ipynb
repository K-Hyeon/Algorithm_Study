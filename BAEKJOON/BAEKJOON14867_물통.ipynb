{
 "cells": [
  {
   "cell_type": "markdown",
   "id": "fd22ee51",
   "metadata": {},
   "source": [
    "# 백준 14867(https://www.acmicpc.net/problem/14867)\n",
    "\n",
    " \n",
    "용량이 다른 두 개의 빈 물통 A, B가 있다. 이 물통들에 물을 채우고 비우는 일을 반복하여 두 물통을 원하는 상태(목표하는 양의 물을 담은 상태)가 되도록 만들고자 한다. 물통 이외에는 물의 양을 정확히 잴 수 있는 방법이 없으며, 가능한 작업은 다음과 같은 세 종류가 전부이다.\n",
    "\n",
    "[F(x): Fill x]: 물통 x에 물을 가득 채운다. (물을 채우기 전에 물통 x가 비어있는지 여부는 관계없음. 다른 물통은 그대로 둠)\n",
    "[E(x): Empty x]: 물통 x의 물을 모두 버린다. (다른 물통은 그대로 둠)\n",
    "[M(x,y): Move water from x to y)]: 물통 x의 물을 물통 y에 붓는다. 이때 만약 물통 x에 남아 있는 물의 양이 물통 y에 남아 있는 빈 공간보다 적거나 같다면 물통 x의 물을 물통 y에 모두 붓는다. 만약 물통 x에 남아 있는 물의 양이 물통 y에 남아 있는 빈 공간보다 많다면 부을 수 있는 만큼 최대로 부어 물통 y를 꽉 채우고 나머지는 물통 x에 남긴다.\n",
    "예를 들어, 물통 A와 B의 용량이 각각 2리터와 5리터라고 하자. 두 물통 모두 빈 상태에서 시작하여 최종적으로 물통 A에는 2리터, 물통 B에는 4리터 물을 남기길 원할 경우, 다음과 같은 순서로 작업을 수행하면 총 8회의 작업으로 원하는 상태에 도달할 수 있다.\n",
    "\n",
    "(0,0)→[F(B)]→(0,5)→[M(B,A)]→(2,3)→[E(A)]→(0,3)→[M(B,A)]→(2,1)→[E(A)]→(0,1)→[M(B,A)]→(1,0)→[F(B)]→(1,5)→[M(B,A)]→(2,4)\n",
    "\n",
    "하지만, 작업 순서를 아래와 같이 한다면 필요한 작업 총 수가 5회가 된다.\n",
    "\n",
    "(0,0)→[F(A)]→(2,0)→[M(A,B)]→(0,2)→[F(A)]→(2,2)→[M(A,B)]→(0,4)→[F(A)]→(2,4)\n",
    "\n",
    "두 물통의 용량과 원하는 최종 상태를 입력으로 받은 후, 두 물통이 비어 있는 상태에서 시작하여 최종 상태에 도달하기 위한 최소 작업 수를 구하는 프로그램을 작성하시오."
   ]
  },
  {
   "cell_type": "markdown",
   "id": "5e289d69",
   "metadata": {},
   "source": [
    "> 입력: 표준 입력으로 물통 A의 용량을 나타내는 정수 a(1 ≤ a < 100,000), 물통 B의 용량을 나타내는 정수 b(a < b ≤ 100,000), 최종 상태에서 물통 A에 남겨야 하는 물의 용량을 나타내는 정수 c(0 ≤ c ≤ a), 최종 상태에서 물통 B에 남겨야 하는 물의 용량을 나타내는 정수 d(0 ≤ d ≤ b)가 공백으로 분리되어 한 줄에 주어진다.\n",
    "\n",
    "> 출력:  목표 상태에 도달하는 최소 작업 수를 나타내는 정수를 표준 출력으로 출력한다. 만약 목표 상태에 도달하는 방법이 없다면 –1을 출력한다."
   ]
  },
  {
   "attachments": {
    "image.png": {
     "image/png": "[encoded data removed]"
    }
   },
   "cell_type": "markdown",
   "id": "dab1996c",
   "metadata": {},
   "source": [
    "> 서브태스크\n",
    "![image.png](attachment:image.png)"
   ]
  },
  {
   "cell_type": "markdown",
   "id": "f742c2bb",
   "metadata": {},
   "source": [
    "## 1. Python solution1"
   ]
  },
  {
   "cell_type": "code",
   "execution_count": 9,
   "id": "f896a79b",
   "metadata": {},
   "outputs": [
    {
     "name": "stdout",
     "output_type": "stream",
     "text": [
      "2 5 0 1\n",
      "5\n"
     ]
    }
   ],
   "source": [
    "from collections import deque\n",
    "\n",
    "a, b, c, d = map(int, input().split(' '))\n",
    "queue = deque([(0, 0, 0)])\n",
    "visit = set()\n",
    "found = False\n",
    "\n",
    "def visited(dis, nx, ny):\n",
    "    if (nx, ny) not in visit:\n",
    "        queue.append((dis, nx, ny))\n",
    "        visit.add((nx, ny))\n",
    "        \n",
    "while queue:\n",
    "    dis, A, B = queue.popleft()\n",
    "    \n",
    "    if A == c and B == d:\n",
    "        print(dis)\n",
    "        found = True\n",
    "        break\n",
    "        \n",
    "    # F(a)\n",
    "    visited(dis + 1, a, B)\n",
    "    \n",
    "    # F(b)\n",
    "    visited(dis + 1, A, b)\n",
    "    \n",
    "    # E(a)\n",
    "    visited(dis + 1, 0, B)\n",
    "    \n",
    "    # E(b)\n",
    "    visited(dis + 1, A, 0)\n",
    "    \n",
    "    # M(a, b)\n",
    "    if (A + B) < b:\n",
    "        visited(dis + 1, 0, A + B)\n",
    "    else:\n",
    "        visited(dis + 1, A + B - b, b)\n",
    "        \n",
    "    # M(b, a)\n",
    "    if (A + B) < a:\n",
    "        visited(dis + 1, A + B, 0)\n",
    "    else:\n",
    "        visited(dis + 1, a, A + B - a)\n",
    "    \n",
    "if not found:\n",
    "    print(-1)"
   ]
  }
 ],
 "metadata": {
  "kernelspec": {
   "display_name": "Python 3 (ipykernel)",
   "language": "python",
   "name": "python3"
  },
  "language_info": {
   "codemirror_mode": {
    "name": "ipython",
    "version": 3
   },
   "file_extension": ".py",
   "mimetype": "text/x-python",
   "name": "python",
   "nbconvert_exporter": "python",
   "pygments_lexer": "ipython3",
   "version": "3.11.5"
  }
 },
 "nbformat": 4,
 "nbformat_minor": 5
}
