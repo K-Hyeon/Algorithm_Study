{
 "cells": [
  {
   "attachments": {
    "image.png": {
     "image/png": "[encoded data removed]"
    }
   },
   "cell_type": "markdown",
   "id": "fd22ee51",
   "metadata": {},
   "source": [
    "# 백준 10026(https://www.acmicpc.net/problem/10026)\n",
    "\n",
    "적록색약은 빨간색과 초록색의 차이를 거의 느끼지 못한다. 따라서, 적록색약인 사람이 보는 그림은 아닌 사람이 보는 그림과는 좀 다를 수 있다.\n",
    "\n",
    "크기가 N×N인 그리드의 각 칸에 R(빨강), G(초록), B(파랑) 중 하나를 색칠한 그림이 있다. 그림은 몇 개의 구역으로 나뉘어져 있는데, 구역은 같은 색으로 이루어져 있다. 또, 같은 색상이 상하좌우로 인접해 있는 경우에 두 글자는 같은 구역에 속한다. (색상의 차이를 거의 느끼지 못하는 경우도 같은 색상이라 한다)\n",
    "\n",
    "예를 들어, 그림이 아래와 같은 경우에\n",
    "![image.png](attachment:image.png)\n",
    "적록색약이 아닌 사람이 봤을 때 구역의 수는 총 4개이다. (빨강 2, 파랑 1, 초록 1) 하지만, 적록색약인 사람은 구역을 3개 볼 수 있다. (빨강-초록 2, 파랑 1)\n",
    "\n",
    "그림이 입력으로 주어졌을 때, 적록색약인 사람이 봤을 때와 아닌 사람이 봤을 때 구역의 수를 구하는 프로그램을 작성하시오."
   ]
  },
  {
   "cell_type": "markdown",
   "id": "5e289d69",
   "metadata": {},
   "source": [
    "> 입력: 첫째 줄에 N이 주어진다. (1 ≤ N ≤ 100) 둘째 줄부터 N개 줄에는 그림이 주어진다.\n",
    "\n",
    "> 출력: 적록색약이 아닌 사람이 봤을 때의 구역의 개수와 적록색약인 사람이 봤을 때의 구역의 수를 공백으로 구분해 출력한다."
   ]
  },
  {
   "cell_type": "markdown",
   "id": "f742c2bb",
   "metadata": {},
   "source": [
    "## 1. Python solution1"
   ]
  },
  {
   "cell_type": "code",
   "execution_count": 7,
   "id": "fccf2d74",
   "metadata": {
    "scrolled": true
   },
   "outputs": [
    {
     "name": "stdout",
     "output_type": "stream",
     "text": [
      "5\n",
      "RRRBB\n",
      "GGBBB\n",
      "BBBRR\n",
      "BBRRR\n",
      "RRRRR\n",
      "4 3\n"
     ]
    }
   ],
   "source": [
    "import sys\n",
    "input = sys.stdin.readline\n",
    "sys.setrecursionlimit(int(1e5))\n",
    "\n",
    "N = int(input())\n",
    "board = [[] for _ in range(N)]\n",
    "for i in range(N):\n",
    "    for j in input():\n",
    "        board[i].append(j)\n",
    "\n",
    "dx = [-1, 1, 0, 0]\n",
    "dy = [0, 0, -1, 1]\n",
    "def start(x, y):\n",
    "    for i in range(4):\n",
    "        nx = x + dx[i]\n",
    "        ny = y + dy[i]\n",
    "        # 범위를 벗어나는 경우\n",
    "        if (nx < 0) or (nx >= N) or (ny < 0) or (ny >= N):\n",
    "            continue\n",
    "        else:\n",
    "            if (visit[nx][ny] == False) and (board[nx][ny] == board[x][y]):\n",
    "                visit[nx][ny] = True\n",
    "                start(nx, ny)\n",
    "\n",
    "# 적록색약이 아닌 사람\n",
    "result = 0\n",
    "visit = [[False] * N for _ in range(N)]\n",
    "for i in range(N):\n",
    "    for j in range(N):\n",
    "        # 최초 방문\n",
    "        if visit[i][j] == False:\n",
    "            visit[i][j] = True\n",
    "            start(i, j)\n",
    "            result += 1\n",
    "print(result, end=' ')\n",
    "\n",
    "# R을 G로 변환\n",
    "for i in range(N):\n",
    "    for j in range(N):\n",
    "        if board[i][j] == 'R':\n",
    "            board[i][j] = 'G'\n",
    "            \n",
    "# 적록색약인 사람\n",
    "result = 0\n",
    "visit = [[False] * N for _ in range(N)]\n",
    "for i in range(N):\n",
    "    for j in range(N):\n",
    "        # 최초 방문\n",
    "        if visit[i][j] == False:\n",
    "            visit[i][j] = True\n",
    "            start(i, j)\n",
    "            result += 1\n",
    "print(result)"
   ]
  }
 ],
 "metadata": {
  "kernelspec": {
   "display_name": "Python 3 (ipykernel)",
   "language": "python",
   "name": "python3"
  },
  "language_info": {
   "codemirror_mode": {
    "name": "ipython",
    "version": 3
   },
   "file_extension": ".py",
   "mimetype": "text/x-python",
   "name": "python",
   "nbconvert_exporter": "python",
   "pygments_lexer": "ipython3",
   "version": "3.11.5"
  }
 },
 "nbformat": 4,
 "nbformat_minor": 5
}
