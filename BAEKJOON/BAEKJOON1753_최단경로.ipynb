{
 "cells": [
  {
   "cell_type": "markdown",
   "id": "fd22ee51",
   "metadata": {},
   "source": [
    "# 백준 1753(https://www.acmicpc.net/problem/1753)\n",
    "\n",
    "방향그래프가 주어지면 주어진 시작점에서 다른 모든 정점으로의 최단 경로를 구하는 프로그램을 작성하시오. 단, 모든 간선의 가중치는 10 이하의 자연수이다."
   ]
  },
  {
   "cell_type": "markdown",
   "id": "5e289d69",
   "metadata": {},
   "source": [
    "> 입력: 첫째 줄에 정점의 개수 V와 간선의 개수 E가 주어진다. (1 ≤ V ≤ 20,000, 1 ≤ E ≤ 300,000) 모든 정점에는 1부터 V까지 번호가 매겨져 있다고 가정한다. 둘째 줄에는 시작 정점의 번호 K(1 ≤ K ≤ V)가 주어진다. 셋째 줄부터 E개의 줄에 걸쳐 각 간선을 나타내는 세 개의 정수 (u, v, w)가 순서대로 주어진다. 이는 u에서 v로 가는 가중치 w인 간선이 존재한다는 뜻이다. u와 v는 서로 다르며 w는 10 이하의 자연수이다. 서로 다른 두 정점 사이에 여러 개의 간선이 존재할 수도 있음에 유의한다.\n",
    "\n",
    "> 출력: 첫째 줄부터 V개의 줄에 걸쳐, i번째 줄에 i번 정점으로의 최단 경로의 경로값을 출력한다. 시작점 자신은 0으로 출력하고, 경로가 존재하지 않는 경우에는 INF를 출력하면 된다."
   ]
  },
  {
   "cell_type": "markdown",
   "id": "f742c2bb",
   "metadata": {},
   "source": [
    "## 1. Python solution1"
   ]
  },
  {
   "cell_type": "code",
   "execution_count": 6,
   "id": "f7bddca4",
   "metadata": {},
   "outputs": [
    {
     "name": "stdout",
     "output_type": "stream",
     "text": [
      "5 6\n",
      "1\n",
      "5 1 1\n",
      "1 2 2\n",
      "1 3 3\n",
      "1 3 4\n",
      "2 4 5\n",
      "3 3 6\n",
      "0\n",
      "2\n",
      "3\n",
      "7\n",
      "INF\n"
     ]
    }
   ],
   "source": [
    "import sys\n",
    "input = sys.stdin.readline\n",
    "import heapq\n",
    "\n",
    "V, E = map(int, input().split(' ')) # 정점의 개수, 간선의 개수\n",
    "K = int(input()) # 시작 정점의 번호\n",
    "\n",
    "graph = [[] for _ in range(V + 1)]\n",
    "for _ in range(E):\n",
    "    u, v, w = map(int, input().split(' '))\n",
    "    graph[u].append((v, w))\n",
    "    \n",
    "dis = [1e9] * (V + 1)\n",
    "\n",
    "def dijkstra():\n",
    "    q = []\n",
    "    heapq.heappush(q, (0, K))\n",
    "    dis[K] = 0\n",
    "    while q:\n",
    "        dist, now = heapq.heappop(q)\n",
    "        if dis[now] < dist:\n",
    "            continue\n",
    "        \n",
    "        for i in graph[now]:\n",
    "            cost = dist + i[1]\n",
    "            if cost < dis[i[0]]:\n",
    "                dis[i[0]] = cost\n",
    "                heapq.heappush(q, (cost, i[0]))\n",
    "                \n",
    "dijkstra()\n",
    "for i in range(1, V + 1):\n",
    "    if dis[i] == 1e9:\n",
    "        print(\"INF\")\n",
    "    else:\n",
    "        print(dis[i])"
   ]
  }
 ],
 "metadata": {
  "kernelspec": {
   "display_name": "Python 3 (ipykernel)",
   "language": "python",
   "name": "python3"
  },
  "language_info": {
   "codemirror_mode": {
    "name": "ipython",
    "version": 3
   },
   "file_extension": ".py",
   "mimetype": "text/x-python",
   "name": "python",
   "nbconvert_exporter": "python",
   "pygments_lexer": "ipython3",
   "version": "3.11.5"
  }
 },
 "nbformat": 4,
 "nbformat_minor": 5
}
