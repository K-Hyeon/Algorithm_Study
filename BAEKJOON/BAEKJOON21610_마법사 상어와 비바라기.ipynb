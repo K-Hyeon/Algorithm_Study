{
 "cells": [
  {
   "cell_type": "markdown",
   "id": "f9ee2b87-65a4-4572-898d-9d2460b77dbf",
   "metadata": {},
   "source": [
    "# 백준 21610(https://www.acmicpc.net/problem/21610)\n",
    "\n",
    "마법사 상어는 파이어볼, 토네이도, 파이어스톰, 물복사버그 마법을 할 수 있다. 오늘 새로 배운 마법은 비바라기이다. 비바라기를 시전하면 하늘에 비구름을 만들 수 있다. 오늘은 비바라기를 크기가 N×N인 격자에서 연습하려고 한다. 격자의 각 칸에는 바구니가 하나 있고, 바구니는 칸 전체를 차지한다. 바구니에 저장할 수 있는 물의 양에는 제한이 없다. (r, c)는 격자의 r행 c열에 있는 바구니를 의미하고, A[r][c]는 (r, c)에 있는 바구니에 저장되어 있는 물의 양을 의미한다.\n",
    "\n",
    "격자의 가장 왼쪽 윗 칸은 (1, 1)이고, 가장 오른쪽 아랫 칸은 (N, N)이다. 마법사 상어는 연습을 위해 1번 행과 N번 행을 연결했고, 1번 열과 N번 열도 연결했다. 즉, N번 행의 아래에는 1번 행이, 1번 행의 위에는 N번 행이 있고, 1번 열의 왼쪽에는 N번 열이, N번 열의 오른쪽에는 1번 열이 있다.\n",
    "\n",
    "비바라기를 시전하면 (N, 1), (N, 2), (N-1, 1), (N-1, 2)에 비구름이 생긴다. 구름은 칸 전체를 차지한다. 이제 구름에 이동을 M번 명령하려고 한다. i번째 이동 명령은 방향 di과 거리 si로 이루어져 있다. 방향은 총 8개의 방향이 있으며, 8개의 정수로 표현한다. 1부터 순서대로 ←, ↖, ↑, ↗, →, ↘, ↓, ↙ 이다. 이동을 명령하면 다음이 순서대로 진행된다.\n",
    "\n",
    "1. 모든 구름이 di 방향으로 si칸 이동한다.\n",
    "2. 각 구름에서 비가 내려 구름이 있는 칸의 바구니에 저장된 물의 양이 1 증가한다.\n",
    "3. 구름이 모두 사라진다.\n",
    "4. 2에서 물이 증가한 칸 (r, c)에 물복사버그 마법을 시전한다. 물복사버그 마법을 사용하면, 대각선 방향으로 거리가 1인 칸에 물이 있는 바구니의 수만큼 (r, c)에 있는 바구니의 물이 양이 증가한다.\n",
    "  - 이때는 이동과 다르게 경계를 넘어가는 칸은 대각선 방향으로 거리가 1인 칸이 아니다.\n",
    "  - 예를 들어, (N, 2)에서 인접한 대각선 칸은 (N-1, 1), (N-1, 3)이고, (N, N)에서 인접한 대각선 칸은 (N-1, N-1)뿐이다.\n",
    "5. 바구니에 저장된 물의 양이 2 이상인 모든 칸에 구름이 생기고, 물의 양이 2 줄어든다. 이때 구름이 생기는 칸은 3에서 구름이 사라진 칸이 아니어야 한다.\n",
    "\n",
    "M번의 이동이 모두 끝난 후 바구니에 들어있는 물의 양의 합을 구해보자."
   ]
  },
  {
   "cell_type": "markdown",
   "id": "b9d123c9-60a6-4f8b-844a-aa3789d1bdbc",
   "metadata": {},
   "source": [
    "> 입력: 첫째 줄에 N, M이 주어진다. 둘째 줄부터 N개의 줄에는 N개의 정수가 주어진다. r번째 행의 c번째 정수는 A[r][c]를 의미한다. 다음 M개의 줄에는 이동의 정보 di, si가 순서대로 한 줄에 하나씩 주어진다.\n",
    "\n",
    "> 출력: 첫째 줄에 M번의 이동이 모두 끝난 후 바구니에 들어있는 물의 양의 합을 출력한다."
   ]
  },
  {
   "cell_type": "markdown",
   "id": "f742c2bb",
   "metadata": {},
   "source": [
    "## 1. Python solution1"
   ]
  },
  {
   "cell_type": "code",
   "execution_count": 62,
   "id": "866fab58-dbe0-4746-a45b-1f830e0b3d9b",
   "metadata": {},
   "outputs": [
    {
     "name": "stdin",
     "output_type": "stream",
     "text": [
      " 5 4\n",
      " 0 0 1 0 2\n",
      " 2 3 2 1 0\n",
      " 4 3 2 9 0\n",
      " 1 0 2 9 0\n",
      " 8 8 2 1 0\n",
      " 1 3\n",
      " 3 4\n",
      " 8 1\n",
      " 4 8\n"
     ]
    },
    {
     "name": "stdout",
     "output_type": "stream",
     "text": [
      "77\n"
     ]
    }
   ],
   "source": [
    "N, M = map(int, input().split(' '))\n",
    "board = [list(map(int, input().split(' '))) for _ in range(N)]\n",
    "\n",
    "# 차례대로 ←, ↖, ↑, ↗, →, ↘, ↓, ↙ 위치\n",
    "dx = [0, -1, -1, -1, 0, 1, 1, 1]\n",
    "dy = [-1, -1, 0, 1, 1, 1, 0, -1]\n",
    "\n",
    "# 초기 구름\n",
    "clouds = [(N - 1, 0), (N - 1, 1), (N - 2, 0), (N - 2, 1)]\n",
    "\n",
    "# 이동 후 비가 내림\n",
    "def rain(d, s):\n",
    "    positions = []\n",
    "    for cloud in clouds:\n",
    "        x, y = cloud\n",
    "        x = (x + dx[d - 1] * s) % N \n",
    "        y = (y + dy[d - 1] * s) % N\n",
    "        board[x][y] += 1\n",
    "        positions.append((x, y))\n",
    "    return positions\n",
    "\n",
    "for _ in range(M):\n",
    "    d, s = map(int, input().split(' '))\n",
    "    positions = rain(d, s)\n",
    "    for position in positions:\n",
    "        x, y = position\n",
    "        \n",
    "        cnt = 0 # 대각선으로 인접한 물 개수\n",
    "        for i in range(1, 8, 2):\n",
    "            nx = x + dx[i]\n",
    "            ny = y + dy[i]\n",
    "            if (nx >= N) or (nx < 0) or (ny >= N) or (ny < 0): continue\n",
    "            if board[nx][ny] >= 1: cnt += 1\n",
    "        board[x][y] += cnt\n",
    "    positions = set(positions)\n",
    "    \n",
    "    # 새로운 구름\n",
    "    clouds = []\n",
    "    for i in range(N):\n",
    "        for j in range(N):\n",
    "            if (board[i][j] >= 2) and ((i, j) not in positions):\n",
    "                clouds.append((i, j))\n",
    "                board[i][j] -= 2\n",
    "\n",
    "answer = 0\n",
    "for row in board:\n",
    "    answer += sum(row)\n",
    "print(answer)"
   ]
  }
 ],
 "metadata": {
  "kernelspec": {
   "display_name": "Python 3 (ipykernel)",
   "language": "python",
   "name": "python3"
  },
  "language_info": {
   "codemirror_mode": {
    "name": "ipython",
    "version": 3
   },
   "file_extension": ".py",
   "mimetype": "text/x-python",
   "name": "python",
   "nbconvert_exporter": "python",
   "pygments_lexer": "ipython3",
   "version": "3.11.5"
  }
 },
 "nbformat": 4,
 "nbformat_minor": 5
}
