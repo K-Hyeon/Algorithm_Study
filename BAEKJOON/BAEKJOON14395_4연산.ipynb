{
 "cells": [
  {
   "attachments": {},
   "cell_type": "markdown",
   "id": "fd22ee51",
   "metadata": {},
   "source": [
    "# 백준 14395(https://www.acmicpc.net/problem/14395)\n",
    "\n",
    "정수 s가 주어진다. 정수 s의 값을 t로 바꾸는 최소 연산 횟수를 구하는 프로그램을 작성하시오.\n",
    "\n",
    "사용할 수 있는 연산은 아래와 같다.\n",
    "\n",
    "1. s = s + s; (출력: +)\n",
    "2. s = s - s; (출력: -)\n",
    "3. s = s * s; (출력: *)\n",
    "4. s = s / s; (출력: /) (s가 0이 아닐때만 사용 가능)"
   ]
  },
  {
   "cell_type": "markdown",
   "id": "5e289d69",
   "metadata": {},
   "source": [
    "> 입력: 첫째 줄에 s와 t가 주어진다. (1 ≤ s, t ≤ 10^9)\n",
    "\n",
    "> 출력: 첫째 줄에 정수 s를 t로 바꾸는 방법을 출력한다. s와 t가 같은 경우에는 0을, 바꿀 수 없는 경우에는 -1을 출력한다. 가능한 방법이 여러 가지라면, 사전 순으로 앞서는 것을 출력한다. \n",
    "\n",
    "연산의 아스키 코드 순서는 '*', '+', '-', '/' 이다."
   ]
  },
  {
   "cell_type": "markdown",
   "id": "f742c2bb",
   "metadata": {},
   "source": [
    "## 1. Python solution1"
   ]
  },
  {
   "cell_type": "code",
   "execution_count": 9,
   "id": "fccf2d74",
   "metadata": {
    "scrolled": true
   },
   "outputs": [
    {
     "name": "stdout",
     "output_type": "stream",
     "text": [
      "7 256\n",
      "/++**\n"
     ]
    }
   ],
   "source": [
    "from collections import deque\n",
    "\n",
    "s, t = map(int, input().split())\n",
    "\n",
    "if s == t: \n",
    "    print(0)\n",
    "elif t == 1:\n",
    "    print('/')\n",
    "else:\n",
    "    visit = set()\n",
    "    queue = deque()\n",
    "    queue.append((s, ''))\n",
    "    while queue:\n",
    "        value, cal = queue.popleft()\n",
    "        \n",
    "        if value == t:\n",
    "            print(cal)\n",
    "            break\n",
    "        else:\n",
    "            if ((value + value) <= 1e9) and ((value + value) not in visit):\n",
    "                queue.append((value + value, cal + '+'))\n",
    "                visit.add(value + value)\n",
    "            if ((value * value) <= 1e9) and ((value * value) not in visit):\n",
    "                queue.append((value * value, cal + '*'))\n",
    "                visit.add(value * value)\n",
    "            if (value / value) not in visit:\n",
    "                queue.append((value / value, cal + '/'))\n",
    "                visit.add(1)\n",
    "    else:\n",
    "        print(-1)"
   ]
  }
 ],
 "metadata": {
  "kernelspec": {
   "display_name": "Python 3 (ipykernel)",
   "language": "python",
   "name": "python3"
  },
  "language_info": {
   "codemirror_mode": {
    "name": "ipython",
    "version": 3
   },
   "file_extension": ".py",
   "mimetype": "text/x-python",
   "name": "python",
   "nbconvert_exporter": "python",
   "pygments_lexer": "ipython3",
   "version": "3.11.5"
  }
 },
 "nbformat": 4,
 "nbformat_minor": 5
}
