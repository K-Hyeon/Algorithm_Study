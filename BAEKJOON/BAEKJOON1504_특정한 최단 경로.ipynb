{
 "cells": [
  {
   "cell_type": "markdown",
   "id": "fd22ee51",
   "metadata": {},
   "source": [
    "# 백준 1504(https://www.acmicpc.net/problem/1504)\n",
    "\n",
    "방향성이 없는 그래프가 주어진다. 세준이는 1번 정점에서 N번 정점으로 최단 거리로 이동하려고 한다. 또한 세준이는 두 가지 조건을 만족하면서 이동하는 특정한 최단 경로를 구하고 싶은데, 그것은 바로 임의로 주어진 두 정점은 반드시 통과해야 한다는 것이다.\n",
    "\n",
    "세준이는 한번 이동했던 정점은 물론, 한번 이동했던 간선도 다시 이동할 수 있다. 하지만 반드시 최단 경로로 이동해야 한다는 사실에 주의하라. 1번 정점에서 N번 정점으로 이동할 때, 주어진 두 정점을 반드시 거치면서 최단 경로로 이동하는 프로그램을 작성하시오."
   ]
  },
  {
   "cell_type": "markdown",
   "id": "5e289d69",
   "metadata": {},
   "source": [
    "> 입력: 첫째 줄에 정점의 개수 N과 간선의 개수 E가 주어진다. (2 ≤ N ≤ 800, 0 ≤ E ≤ 200,000) 둘째 줄부터 E개의 줄에 걸쳐서 세 개의 정수 a, b, c가 주어지는데, a번 정점에서 b번 정점까지 양방향 길이 존재하며, 그 거리가 c라는 뜻이다. (1 ≤ c ≤ 1,000) 다음 줄에는 반드시 거쳐야 하는 두 개의 서로 다른 정점 번호 v1과 v2가 주어진다. (v1 ≠ v2, v1 ≠ N, v2 ≠ 1) 임의의 두 정점 u와 v사이에는 간선이 최대 1개 존재한다.\n",
    "\n",
    "> 출력: 첫째 줄에 두 개의 정점을 지나는 최단 경로의 길이를 출력한다. 그러한 경로가 없을 때에는 -1을 출력한다."
   ]
  },
  {
   "cell_type": "markdown",
   "id": "f742c2bb",
   "metadata": {},
   "source": [
    "## 1. Python solution1"
   ]
  },
  {
   "cell_type": "code",
   "execution_count": 4,
   "id": "3214ac85",
   "metadata": {},
   "outputs": [
    {
     "name": "stdout",
     "output_type": "stream",
     "text": [
      "4 6\n",
      "1 2 3\n",
      "2 3 3\n",
      "3 4 1\n",
      "1 3 5\n",
      "2 4 5\n",
      "1 4 4\n",
      "2 3\n",
      "7\n"
     ]
    }
   ],
   "source": [
    "import sys\n",
    "input = sys.stdin.readline\n",
    "import heapq\n",
    "\n",
    "N, E = map(int, input().split(' ')) # 정점의 개수, 간선의 개수\n",
    "\n",
    "graph = [[] for _ in range(N + 1)]\n",
    "for _ in range(E):\n",
    "    a, b, c = map(int, input().split(' '))\n",
    "    graph[a].append((b, c))\n",
    "    graph[b].append((a, c))\n",
    "    \n",
    "v1, v2 = map(int, input().split(' ')) # 꼭 거쳐야하는 정점\n",
    "\n",
    "dis = [1e9] * (N + 1)\n",
    "def dijkstra(start):\n",
    "    q = []\n",
    "    heapq.heappush(q, (0, start))\n",
    "    dis[start] = 0\n",
    "    while q:\n",
    "        dist, now = heapq.heappop(q)\n",
    "        \n",
    "        # 이미 처리한 노드\n",
    "        if dis[now] < dist:\n",
    "            continue\n",
    "            \n",
    "        for i in graph[now]:\n",
    "            cost = dist + i[1]\n",
    "            if cost < dis[i[0]]:\n",
    "                dis[i[0]] = cost\n",
    "                heapq.heappush(q, (cost, i[0]))\n",
    "                \n",
    "dijkstra(1)\n",
    "start_v1 = dis[v1]\n",
    "start_v2 = dis[v2]\n",
    "\n",
    "# 테이블 초기화\n",
    "dis = [1e9] * (N + 1)\n",
    "dijkstra(v1)\n",
    "v1_v2 = dis[v2]\n",
    "v1_N = dis[N]\n",
    "\n",
    "# 테이블 초기화\n",
    "dis = [1e9] * (N + 1)\n",
    "dijkstra(v2)\n",
    "v2_v1 = dis[v1]\n",
    "v2_N = dis[N]\n",
    "\n",
    "case1 = start_v1 + v1_v2 + v2_N\n",
    "case2 = start_v2 + v2_v1+ v1_N\n",
    "result = min(case1, case2)\n",
    "\n",
    "if result >= 1e9:\n",
    "    print(-1)\n",
    "else:\n",
    "    print(result)"
   ]
  }
 ],
 "metadata": {
  "kernelspec": {
   "display_name": "Python 3 (ipykernel)",
   "language": "python",
   "name": "python3"
  },
  "language_info": {
   "codemirror_mode": {
    "name": "ipython",
    "version": 3
   },
   "file_extension": ".py",
   "mimetype": "text/x-python",
   "name": "python",
   "nbconvert_exporter": "python",
   "pygments_lexer": "ipython3",
   "version": "3.11.5"
  }
 },
 "nbformat": 4,
 "nbformat_minor": 5
}
