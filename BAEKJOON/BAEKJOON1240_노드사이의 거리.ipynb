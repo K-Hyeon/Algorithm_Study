{
 "cells": [
  {
   "cell_type": "markdown",
   "id": "fd22ee51",
   "metadata": {},
   "source": [
    "# 백준 1240(https://www.acmicpc.net/problem/1240)\n",
    "\n",
    " \n",
    " \n",
    "$N$개의 노드로 이루어진 트리가 주어지고 M개의 두 노드 쌍을 입력받을 때 두 노드 사이의 거리를 출력하라."
   ]
  },
  {
   "cell_type": "markdown",
   "id": "5e289d69",
   "metadata": {},
   "source": [
    "> 입력: 첫째 줄에 노드의 개수 \n",
    "$N$과 거리를 알고 싶은 노드 쌍의 개수 \n",
    "$M$이 입력되고 다음 \n",
    "$N-1$개의 줄에 트리 상에 연결된 두 점과 거리를 입력받는다. 그 다음 줄에는 거리를 알고 싶은 \n",
    "$M$개의 노드 쌍이 한 줄에 한 쌍씩 입력된다.\n",
    "\n",
    "> 출력:  \n",
    "$M$개의 줄에 차례대로 입력받은 두 노드 사이의 거리를 출력한다."
   ]
  },
  {
   "cell_type": "markdown",
   "id": "f742c2bb",
   "metadata": {},
   "source": [
    "## 1. Python solution1"
   ]
  },
  {
   "cell_type": "code",
   "execution_count": 2,
   "id": "fc7f5e44",
   "metadata": {},
   "outputs": [
    {
     "name": "stdout",
     "output_type": "stream",
     "text": [
      "4 2\n",
      "2 1 2\n",
      "4 3 2\n",
      "1 4 3\n",
      "1 2\n",
      "2\n",
      "3 2\n",
      "7\n"
     ]
    }
   ],
   "source": [
    "import sys\n",
    "input = sys.stdin.readline\n",
    "sys.setrecursionlimit(int(1e5))\n",
    "\n",
    "N, M = map(int, input().split(' '))\n",
    "graph = [[] for _ in range(N + 1)]\n",
    "for i in range(N - 1):\n",
    "    a, b, c = map(int, input().split(' '))\n",
    "    graph[a].append((b, c))\n",
    "    graph[b].append((a, c))\n",
    "    \n",
    "def start(x):\n",
    "    for data in graph[x]:\n",
    "        y = data[0]\n",
    "        cost = data[1]\n",
    "        if not visit[y]:\n",
    "            visit[y] = True\n",
    "            dis[y] = dis[x] + cost\n",
    "            start(y)\n",
    "        \n",
    "    \n",
    "for i in range(M):\n",
    "    x, y = map(int, input().split(' '))\n",
    "    visit = [False] * (N + 1)\n",
    "    dis = [-1] * (N + 1)\n",
    "    \n",
    "    visit[x] = True\n",
    "    dis[x] = 0\n",
    "    start(x)\n",
    "    print(dis[y])"
   ]
  }
 ],
 "metadata": {
  "kernelspec": {
   "display_name": "Python 3 (ipykernel)",
   "language": "python",
   "name": "python3"
  },
  "language_info": {
   "codemirror_mode": {
    "name": "ipython",
    "version": 3
   },
   "file_extension": ".py",
   "mimetype": "text/x-python",
   "name": "python",
   "nbconvert_exporter": "python",
   "pygments_lexer": "ipython3",
   "version": "3.11.5"
  }
 },
 "nbformat": 4,
 "nbformat_minor": 5
}
