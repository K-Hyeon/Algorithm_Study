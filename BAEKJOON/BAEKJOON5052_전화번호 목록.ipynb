{
 "cells": [
  {
   "cell_type": "markdown",
   "id": "fd22ee51",
   "metadata": {},
   "source": [
    "# 백준 5052(https://www.acmicpc.net/problem/5052)\n",
    "\n",
    "전화번호 목록이 주어진다. 이때, 이 목록이 일관성이 있는지 없는지를 구하는 프로그램을 작성하시오.\n",
    "\n",
    "전화번호 목록이 일관성을 유지하려면, 한 번호가 다른 번호의 접두어인 경우가 없어야 한다.\n",
    "\n",
    "예를 들어, 전화번호 목록이 아래와 같은 경우를 생각해보자\n",
    "\n",
    "- 긴급전화: 911\n",
    "- 상근: 97 625 999\n",
    "- 선영: 91 12 54 26\n",
    "\n",
    "이 경우에 선영이에게 전화를 걸 수 있는 방법이 없다. 전화기를 들고 선영이 번호의 처음 세 자리를 누르는 순간 바로 긴급전화가 걸리기 때문이다. 따라서, 이 목록은 일관성이 없는 목록이다."
   ]
  },
  {
   "cell_type": "markdown",
   "id": "5e289d69",
   "metadata": {},
   "source": [
    "> 입력: 첫째 줄에 테스트 케이스의 개수 t가 주어진다. (1 ≤ t ≤ 50) 각 테스트 케이스의 첫째 줄에는 전화번호의 수 n이 주어진다. (1 ≤ n ≤ 10000) 다음 n개의 줄에는 목록에 포함되어 있는 전화번호가 하나씩 주어진다. 전화번호의 길이는 길어야 10자리이며, 목록에 있는 두 전화번호가 같은 경우는 없다.\n",
    "\n",
    "> 출력: 각 테스트 케이스에 대해서, 일관성 있는 목록인 경우에는 YES, 아닌 경우에는 NO를 출력한다."
   ]
  },
  {
   "cell_type": "markdown",
   "id": "f742c2bb",
   "metadata": {},
   "source": [
    "## 1. Python solution1"
   ]
  },
  {
   "cell_type": "code",
   "execution_count": 6,
   "id": "3214ac85",
   "metadata": {},
   "outputs": [
    {
     "name": "stdout",
     "output_type": "stream",
     "text": [
      "2\n",
      "3\n",
      "911\n",
      "97625999\n",
      "91125426\n",
      "No\n",
      "5\n",
      "113\n",
      "12340\n",
      "123440\n",
      "12345\n",
      "98346\n",
      "YES\n"
     ]
    }
   ],
   "source": [
    "import sys\n",
    "input = sys.stdin.readline\n",
    "\n",
    "for _ in range(int(input())): # 테스트 케이스 개수\n",
    "    n = int(input()) # 전화 번호의 수\n",
    "    \n",
    "    numbers = []\n",
    "    for _ in range(n):\n",
    "        numbers.append(input().strip())\n",
    "    numbers.sort()\n",
    "    \n",
    "    pass_number = True\n",
    "    for i in range(n - 1):\n",
    "        if len(numbers[i]) < len(numbers[i + 1]):\n",
    "            if numbers[i] == numbers[i + 1][:len(numbers[i])]:\n",
    "                pass_number = False\n",
    "                break\n",
    "                \n",
    "    if pass_number:\n",
    "        print('YES')\n",
    "    else:\n",
    "        print('NO')    "
   ]
  }
 ],
 "metadata": {
  "kernelspec": {
   "display_name": "Python 3 (ipykernel)",
   "language": "python",
   "name": "python3"
  },
  "language_info": {
   "codemirror_mode": {
    "name": "ipython",
    "version": 3
   },
   "file_extension": ".py",
   "mimetype": "text/x-python",
   "name": "python",
   "nbconvert_exporter": "python",
   "pygments_lexer": "ipython3",
   "version": "3.11.5"
  }
 },
 "nbformat": 4,
 "nbformat_minor": 5
}
