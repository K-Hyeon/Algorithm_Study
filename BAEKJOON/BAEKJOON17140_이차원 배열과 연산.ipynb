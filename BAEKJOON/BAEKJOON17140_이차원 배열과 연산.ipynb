{
 "cells": [
  {
   "attachments": {},
   "cell_type": "markdown",
   "id": "fd22ee51",
   "metadata": {},
   "source": [
    "# 백준 17140(https://www.acmicpc.net/problem/17140)\n",
    "\n",
    "크기가 3×3인 배열 A가 있다. 배열의 인덱스는 1부터 시작한다. 1초가 지날때마다 배열에 연산이 적용된다.\n",
    "\n",
    "- R 연산: 배열 A의 모든 행에 대해서 정렬을 수행한다. 행의 개수 ≥ 열의 개수인 경우에 적용된다.\n",
    "- C 연산: 배열 A의 모든 열에 대해서 정렬을 수행한다. 행의 개수 < 열의 개수인 경우에 적용된다.\n",
    "\n",
    "한 행 또는 열에 있는 수를 정렬하려면, 각각의 수가 몇 번 나왔는지 알아야 한다. 그 다음, 수의 등장 횟수가 커지는 순으로, 그러한 것이 여러가지면 수가 커지는 순으로 정렬한다. 그 다음에는 배열 A에 정렬된 결과를 다시 넣어야 한다. 정렬된 결과를 배열에 넣을 때는, 수와 등장 횟수를 모두 넣으며, 순서는 수가 먼저이다.\n",
    "\n",
    "예를 들어, [3, 1, 1]에는 3이 1번, 1가 2번 등장한다. 따라서, 정렬된 결과는 [3, 1, 1, 2]가 된다. 다시 이 배열에는 3이 1번, 1이 2번, 2가 1번 등장한다. 다시 정렬하면 [2, 1, 3, 1, 1, 2]가 된다.\n",
    "\n",
    "정렬된 결과를 배열에 다시 넣으면 행 또는 열의 크기가 달라질 수 있다. R 연산이 적용된 경우에는 가장 큰 행을 기준으로 모든 행의 크기가 변하고, C 연산이 적용된 경우에는 가장 큰 열을 기준으로 모든 열의 크기가 변한다. 행 또는 열의 크기가 커진 곳에는 0이 채워진다. 수를 정렬할 때 0은 무시해야 한다. 예를 들어, [3, 2, 0, 0]을 정렬한 결과는 [3, 2]를 정렬한 결과와 같다.\n",
    "\n",
    "행 또는 열의 크기가 100을 넘어가는 경우에는 처음 100개를 제외한 나머지는 버린다.\n",
    "\n",
    "배열 A에 들어있는 수와 r, c, k가 주어졌을 때, A[r][c]에 들어있는 값이 k가 되기 위한 최소 시간을 구해보자."
   ]
  },
  {
   "cell_type": "markdown",
   "id": "5e289d69",
   "metadata": {},
   "source": [
    "> 입력: 첫째 줄에 r, c, k가 주어진다. (1 ≤ r, c, k ≤ 100) 둘째 줄부터 3개의 줄에 배열 A에 들어있는 수가 주어진다. 배열 A에 들어있는 수는 100보다 작거나 같은 자연수이다.\n",
    "\n",
    "> 출력: A[r][c]에 들어있는 값이 k가 되기 위한 연산의 최소 시간을 출력한다. 100초가 지나도 A[r][c] = k가 되지 않으면 -1을 출력한다."
   ]
  },
  {
   "cell_type": "markdown",
   "id": "f742c2bb",
   "metadata": {},
   "source": [
    "## 1. Python solution1"
   ]
  },
  {
   "cell_type": "code",
   "execution_count": 139,
   "id": "8da02eaf",
   "metadata": {},
   "outputs": [
    {
     "name": "stdout",
     "output_type": "stream",
     "text": [
      "1 2 3\n",
      "1 2 1\n",
      "2 1 3\n",
      "3 3 3\n",
      "2\n"
     ]
    }
   ],
   "source": [
    "r, c, k = map(int, input().split(' '))\n",
    "A = [list(map(int, input().split(' '))) for _ in range(3)]\n",
    "\n",
    "def R(row):\n",
    "    counter = dict()\n",
    "    for x in row:\n",
    "        if x == 0: continue # 0 무시\n",
    "        if x not in counter: counter[x] = 1\n",
    "        else:counter[x] += 1\n",
    "    \n",
    "    # 정렬 1. 수의 등장 횟수가 커지는 순, 2. 수가 커지는 순\n",
    "    sort_counter = sorted(counter.items(), key = lambda x: (x[1], x[0]))\n",
    "    result = []\n",
    "    for val, cnt in sort_counter:\n",
    "        result += [val, cnt]\n",
    "    return result\n",
    "            \n",
    "def transpose(A):\n",
    "    row_len = len(A)\n",
    "    col_len = len(A[0])\n",
    "    \n",
    "    # 전치 행렬\n",
    "    result = [[0] * row_len for _ in range(col_len)]\n",
    "    for i in range(col_len):\n",
    "        for j in range(row_len):\n",
    "            result[i][j] = A[j][i]\n",
    "    return result\n",
    "    \n",
    "def process(matrix, operator):\n",
    "    if operator == 'C': # C 연산인 경우\n",
    "        matrix = transpose(matrix)\n",
    "    max_length = 0\n",
    "    \n",
    "    # 각 행을 기준으로 정렬 수행\n",
    "    for i in range(len(matrix)):\n",
    "        matrix[i] = R(matrix[i])\n",
    "        max_length = max(max_length, len(matrix[i]))\n",
    "    \n",
    "    # 0 채우기\n",
    "    for i in range(len(matrix)):\n",
    "        gap = max_length - len(matrix[i])\n",
    "        matrix[i] += [0] * gap\n",
    "        # 길이가 100을 넘어가지 않도록 자르기\n",
    "        matrix[i] = matrix[i][:100]\n",
    "    if operator == 'C': # C 연산인 경우\n",
    "        matrix = transpose(matrix)\n",
    "    return matrix\n",
    "\n",
    "t = 0\n",
    "while True:\n",
    "    row_len = len(A)\n",
    "    col_len = len(A[0])\n",
    "    \n",
    "    # 범주안\n",
    "    if (row_len >= r) and (col_len >= c):\n",
    "        # 조건 성립\n",
    "        if A[r - 1][c - 1] == k:\n",
    "            print(t)\n",
    "            break\n",
    "    \n",
    "    # 100초가 경과하면 -1 출력\n",
    "    if t == 100:\n",
    "        print(-1)\n",
    "        break\n",
    "        \n",
    "    # R 연산 혹은 C 연산 수행\n",
    "    if row_len >= col_len:\n",
    "        A = process(A, 'R')\n",
    "    else:\n",
    "        A = process(A, 'C')\n",
    "    t += 1 # 1초 증가"
   ]
  }
 ],
 "metadata": {
  "kernelspec": {
   "display_name": "Python 3 (ipykernel)",
   "language": "python",
   "name": "python3"
  },
  "language_info": {
   "codemirror_mode": {
    "name": "ipython",
    "version": 3
   },
   "file_extension": ".py",
   "mimetype": "text/x-python",
   "name": "python",
   "nbconvert_exporter": "python",
   "pygments_lexer": "ipython3",
   "version": "3.11.5"
  }
 },
 "nbformat": 4,
 "nbformat_minor": 5
}
