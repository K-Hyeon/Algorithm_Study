{
 "cells": [
  {
   "cell_type": "markdown",
   "id": "fd22ee51",
   "metadata": {},
   "source": [
    "# 백준 1461(https://www.acmicpc.net/problem/1461)\n",
    "\n",
    "세준이는 도서관에서 일한다. 도서관의 개방시간이 끝나서 세준이는 사람들이 마구 놓은 책을 다시 가져다 놓아야 한다. 세준이는 현재 0에 있고, 사람들이 마구 놓은 책도 전부 0에 있다. 각 책들의 원래 위치가 주어질 때, 책을 모두 제자리에 놔둘 때 드는 최소 걸음 수를 계산하는 프로그램을 작성하시오. 세준이는 한 걸음에 좌표 1칸씩 가며, 책의 원래 위치는 정수 좌표이다. 책을 모두 제자리에 놔둔 후에는 다시 0으로 돌아올 필요는 없다. 그리고 세준이는 한 번에 최대 M권의 책을 들 수 있다."
   ]
  },
  {
   "cell_type": "markdown",
   "id": "5e289d69",
   "metadata": {},
   "source": [
    "> 입력: 첫째 줄에 책의 개수 N과, 세준이가 한 번에 들 수 있는 책의 개수 M이 주어진다. 둘째 줄에는 책의 위치가 주어진다. N과 M은 50보다 작거나 같은 자연수이다. 책의 위치는 0이 아니며, 절댓값은 10,000보다 작거나 같은 정수이다.\n",
    "\n",
    "> 출력: 첫째 줄에 정답을 출력한다."
   ]
  },
  {
   "cell_type": "markdown",
   "id": "f742c2bb",
   "metadata": {},
   "source": [
    "## 1. Python solution1: 17분"
   ]
  },
  {
   "cell_type": "code",
   "execution_count": 50,
   "id": "fc7f5e44",
   "metadata": {},
   "outputs": [
    {
     "name": "stdout",
     "output_type": "stream",
     "text": [
      "8 3\n",
      "-18 -9 -4 50 22 -26 40 -45\n",
      "158\n"
     ]
    }
   ],
   "source": [
    "N, M = map(int, input().split()) # N: 책의 개수, M: 한 번에 들 수 있는 책의 개수\n",
    "location = list(map(int, input().split())) # 책 위치\n",
    "\n",
    "pn = [] # 양수\n",
    "nn = [] # 음수\n",
    "for i in location:\n",
    "    if i > 0:\n",
    "        pn.append(i)\n",
    "    else:\n",
    "        nn.append(abs(i))\n",
    "pn.sort()\n",
    "nn.sort()\n",
    "\n",
    "result = 0\n",
    "for array in [pn, nn]:\n",
    "    remain = len(array) % M\n",
    "    if remain > 0:\n",
    "        result += (2 * array[remain-1])\n",
    "        array = array[remain:]\n",
    "\n",
    "    for i in range(0, len(array), M):\n",
    "        result += (2 * array[i+M-1])\n",
    "            \n",
    "result -= max(max(pn), max(nn))\n",
    "print(result)"
   ]
  },
  {
   "cell_type": "code",
   "execution_count": 11,
   "id": "38697071",
   "metadata": {},
   "outputs": [
    {
     "name": "stdout",
     "output_type": "stream",
     "text": [
      "7 2\n",
      "-37 2 -6 -39 -29 11 -28\n",
      "131\n"
     ]
    }
   ],
   "source": [
    "import heapq\n",
    "\n",
    "N, M = map(int, input().split()) # N: 책의 개수, M: 한 번에 들 수 있는 책의 개수\n",
    "location = list(map(int, input().split())) # 책 위치\n",
    "\n",
    "pn = [] # 양수\n",
    "nn = [] # 음수\n",
    "for i in location:\n",
    "    if i > 0:\n",
    "        heapq.heappush(pn, -i)\n",
    "    else:\n",
    "        heapq.heappush(nn, i)\n",
    "        \n",
    "largest = max(max(location), - min(location))\n",
    "\n",
    "result = 0\n",
    "while pn:\n",
    "    result += heapq.heappop(pn)\n",
    "    for _ in range(M - 1):\n",
    "        if pn:\n",
    "            heapq.heappop(pn)\n",
    "        \n",
    "while nn:\n",
    "    result += heapq.heappop(nn)\n",
    "    for _ in range(M - 1):\n",
    "        if nn:\n",
    "            heapq.heappop(nn)\n",
    "    \n",
    "print(-result * 2 - largest)"
   ]
  },
  {
   "cell_type": "code",
   "execution_count": 10,
   "id": "51b49243",
   "metadata": {},
   "outputs": [
    {
     "name": "stdout",
     "output_type": "stream",
     "text": [
      "7 2\n",
      "-37 2 -6 -39 -29 11 -28\n",
      "131\n"
     ]
    }
   ],
   "source": [
    "N, M = map(int, input().split()) # N: 책의 개수, M: 한 번에 들 수 있는 책의 개수\n",
    "location = list(map(int, input().split())) # 책 위치\n",
    "\n",
    "pn = [] # 양수\n",
    "nn = [] # 음수\n",
    "for i in location:\n",
    "    if i > 0:\n",
    "        pn.append(i)\n",
    "    else:\n",
    "        nn.append(abs(i))\n",
    "pn.sort(reverse = True)\n",
    "nn.sort()\n",
    "\n",
    "dis = []\n",
    "for i in range(len(nn)//M):\n",
    "    dis.append(abs(nn[M*i]))\n",
    "if len(nn) % M > 0:\n",
    "    dis.append(abs(nn[(len(nn)//M)*M]))\n",
    "    \n",
    "for i in range(len(pn)//M):\n",
    "    dis.append(abs(pn[M*i]))\n",
    "if len(pn) % M > 0:\n",
    "    dis.append(abs(pn[(len(pn)//M)*M]))\n",
    "    \n",
    "dis.sort()\n",
    "result = dis.pop()\n",
    "result += 2 * sum(dis)\n",
    "print(result)"
   ]
  }
 ],
 "metadata": {
  "kernelspec": {
   "display_name": "Python 3 (ipykernel)",
   "language": "python",
   "name": "python3"
  },
  "language_info": {
   "codemirror_mode": {
    "name": "ipython",
    "version": 3
   },
   "file_extension": ".py",
   "mimetype": "text/x-python",
   "name": "python",
   "nbconvert_exporter": "python",
   "pygments_lexer": "ipython3",
   "version": "3.11.5"
  }
 },
 "nbformat": 4,
 "nbformat_minor": 5
}
