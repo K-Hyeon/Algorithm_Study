{
 "cells": [
  {
   "attachments": {},
   "cell_type": "markdown",
   "id": "f9ee2b87-65a4-4572-898d-9d2460b77dbf",
   "metadata": {},
   "source": [
    "# 백준 3055(https://www.acmicpc.net/problem/3055)\n",
    "\n",
    "사악한 암흑의 군주 이민혁은 드디어 마법 구슬을 손에 넣었고, 그 능력을 실험해보기 위해 근처의 티떱숲에 홍수를 일으키려고 한다. 이 숲에는 고슴도치가 한 마리 살고 있다. 고슴도치는 제일 친한 친구인 비버의 굴로 가능한 빨리 도망가 홍수를 피하려고 한다.\n",
    "\n",
    "티떱숲의 지도는 R행 C열로 이루어져 있다. 비어있는 곳은 '.'로 표시되어 있고, 물이 차있는 지역은 '*', 돌은 'X'로 표시되어 있다. 비버의 굴은 'D'로, 고슴도치의 위치는 'S'로 나타내어져 있다.\n",
    "\n",
    "매 분마다 고슴도치는 현재 있는 칸과 인접한 네 칸 중 하나로 이동할 수 있다. (위, 아래, 오른쪽, 왼쪽) 물도 매 분마다 비어있는 칸으로 확장한다. 물이 있는 칸과 인접해있는 비어있는 칸(적어도 한 변을 공유)은 물이 차게 된다. 물과 고슴도치는 돌을 통과할 수 없다. 또, 고슴도치는 물로 차있는 구역으로 이동할 수 없고, 물도 비버의 소굴로 이동할 수 없다.\n",
    "\n",
    "티떱숲의 지도가 주어졌을 때, 고슴도치가 안전하게 비버의 굴로 이동하기 위해 필요한 최소 시간을 구하는 프로그램을 작성하시오.\n",
    "\n",
    "고슴도치는 물이 찰 예정인 칸으로 이동할 수 없다. 즉, 다음 시간에 물이 찰 예정인 칸으로 고슴도치는 이동할 수 없다. 이동할 수 있으면 고슴도치가 물에 빠지기 때문이다."
   ]
  },
  {
   "cell_type": "markdown",
   "id": "b9d123c9-60a6-4f8b-844a-aa3789d1bdbc",
   "metadata": {},
   "source": [
    "> 입력: 첫째 줄에 50보다 작거나 같은 자연수 R과 C가 주어진다. 다음 R개 줄에는 티떱숲의 지도가 주어지며, 문제에서 설명한 문자만 주어진다. 'D'와 'S'는 하나씩만 주어진다.\n",
    "\n",
    "> 출력: 첫째 줄에 고슴도치가 비버의 굴로 이동할 수 있는 가장 빠른 시간을 출력한다. 만약, 안전하게 비버의 굴로 이동할 수 없다면, \"KAKTUS\"를 출력한다."
   ]
  },
  {
   "cell_type": "markdown",
   "id": "f742c2bb",
   "metadata": {},
   "source": [
    "## 1. Python solution1"
   ]
  },
  {
   "cell_type": "code",
   "execution_count": 1,
   "id": "5906ae57-7f55-4890-b34b-db11587e6543",
   "metadata": {},
   "outputs": [
    {
     "name": "stdin",
     "output_type": "stream",
     "text": [
      " 3 3\n",
      " D . *\n",
      " . . .\n",
      " . S .\n"
     ]
    },
    {
     "name": "stdout",
     "output_type": "stream",
     "text": [
      "3\n"
     ]
    }
   ],
   "source": [
    "from collections import deque\n",
    "\n",
    "R, C = map(int, input().split())\n",
    "board = [list(input().split()) for _ in range(R)]\n",
    "\n",
    "# 상하좌우\n",
    "dx = [-1, 1, 0, 0]\n",
    "dy = [0, 0, -1, 1]\n",
    "visit = [[-1] * C for _ in range(R)]\n",
    "\n",
    "q = deque()\n",
    "for x in range(R):\n",
    "    for y in range(C):\n",
    "        if board[x][y] == '*': # 물\n",
    "            q.append((x, y))\n",
    "        elif board[x][y] == 'S': # 고슴도치\n",
    "            q.append((x, y))\n",
    "            visit[x][y] = 0\n",
    "\n",
    "while q:\n",
    "    x, y = q.popleft()\n",
    "    cur = board[x][y] # 현재위치visit\n",
    "\n",
    "    for i in range(4):\n",
    "        nx = x + dx[i]\n",
    "        ny = y + dy[i]\n",
    "        \n",
    "        if (nx < 0) or (nx >= R) or (ny < 0) or (ny >= C): continue\n",
    "        if visit[nx][ny] != -1: continue\n",
    "        if board[nx][ny] == '*': continue\n",
    "        if board[nx][ny] == 'X': continue\n",
    "        if (cur == '*') and (board[nx][ny] == 'D'): continue\n",
    "\n",
    "        if cur == 'S':\n",
    "            if board[nx][ny] == 'D':\n",
    "                print(visit[x][y] + 1)\n",
    "                break\n",
    "            visit[nx][ny] = visit[x][y] + 1\n",
    "            \n",
    "        board[nx][ny] = cur\n",
    "        q.append((nx, ny))  # 다음 탐색 위치 추가\n",
    "    else:\n",
    "        continue\n",
    "    break\n",
    "else:\n",
    "    print(\"KAKTUS\")"
   ]
  }
 ],
 "metadata": {
  "kernelspec": {
   "display_name": "Python 3 (ipykernel)",
   "language": "python",
   "name": "python3"
  },
  "language_info": {
   "codemirror_mode": {
    "name": "ipython",
    "version": 3
   },
   "file_extension": ".py",
   "mimetype": "text/x-python",
   "name": "python",
   "nbconvert_exporter": "python",
   "pygments_lexer": "ipython3",
   "version": "3.12.4"
  },
  "widgets": {
   "application/vnd.jupyter.widget-state+json": {
    "state": {},
    "version_major": 2,
    "version_minor": 0
   }
  }
 },
 "nbformat": 4,
 "nbformat_minor": 5
}
