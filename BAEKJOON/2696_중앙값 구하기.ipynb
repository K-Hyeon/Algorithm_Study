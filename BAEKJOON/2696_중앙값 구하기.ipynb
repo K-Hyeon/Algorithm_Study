{
 "cells": [
  {
   "cell_type": "markdown",
   "id": "fd22ee51",
   "metadata": {},
   "source": [
    "# 백준 2696문제(https://www.acmicpc.net/problem/2696)\n",
    "\n",
    "어떤 수열을 읽고, 홀수번째 수를 읽을 때 마다, 지금까지 입력받은 값의 중앙값을 출력하는 프로그램을 작성하시오.\n",
    "\n",
    "예를 들어, 수열이 1, 5, 4, 3, 2 이면, 홀수번째 수는 1번째 수, 3번째 수, 5번째 수이고, 1번째 수를 읽었을 때 중앙값은 1, 3번째 수를 읽었을 때는 4, 5번째 수를 읽었을 때는 3이다."
   ]
  },
  {
   "cell_type": "markdown",
   "id": "5e289d69",
   "metadata": {},
   "source": [
    "> 입력: 첫째 줄에 테스트 케이스의 개수 T(1 ≤ T ≤ 1,000)가 주어진다. 각 테스트 케이스의 첫째 줄에는 수열의 크기 M(1 ≤ M ≤ 9999, M은 홀수)이 주어지고, 그 다음 줄부터 이 수열의 원소가 차례대로 주어진다. 원소는 한 줄에 10개씩 나누어져있고, 32비트 부호있는 정수이다.\n",
    "\n",
    "> 출력: 각 테스트 케이스에 대해 첫째 줄에 출력하는 중앙값의 개수를 출력하고, 둘째 줄에는 홀수 번째 수를 읽을 때 마다 구한 중앙값을 차례대로 공백으로 구분하여 출력한다. 이때, 한 줄에 10개씩 출력해야 한다."
   ]
  },
  {
   "cell_type": "markdown",
   "id": "f742c2bb",
   "metadata": {},
   "source": [
    "## 1. Python solution1"
   ]
  },
  {
   "cell_type": "code",
   "execution_count": null,
   "id": "2d6c91d0",
   "metadata": {},
   "outputs": [],
   "source": [
    "import sys\n",
    "# 빠른 입력 함수 사용\n",
    "input = sys.stdin.readline"
   ]
  },
  {
   "cell_type": "code",
   "execution_count": 3,
   "id": "b2c1d7f4",
   "metadata": {},
   "outputs": [
    {
     "name": "stdout",
     "output_type": "stream",
     "text": [
      "3\n",
      "9\n",
      "1 2 3 4 5 6 7 8 9\n",
      "5\n",
      "1 2 3 4 5 \n",
      "9\n",
      "9 8 7 6 5 4 3 2 1\n",
      "5\n",
      "9 8 7 6 5 \n",
      "23\n",
      "23 41 13 22 -3 24 -31 -11 -8 -7\n",
      "3 5 103 211 -311 -45 -67 -73 -81 -99\n",
      "-33 24 56\n",
      "12\n",
      "23 23 22 22 13 3 5 5 3 -3 \n",
      "-7 -3 \n"
     ]
    }
   ],
   "source": [
    "import heapq\n",
    "\n",
    "def show_result():\n",
    "    print(len(result))\n",
    "    for i in range(len(result)):\n",
    "        print(result[i], end = ' ')\n",
    "        # 한 줄에 10개씩 출력\n",
    "        if (i + 1) % 10 == 0:\n",
    "            print()\n",
    "    print()\n",
    "    \n",
    "for _ in range(int(input())):\n",
    "    m = int(input())\n",
    "    data = []\n",
    "    for i in range((m // 10) + 1):\n",
    "        data.extend(list(map(int, input().split())))\n",
    "    left = []\n",
    "    right = []\n",
    "    median = data[0]\n",
    "    result = [median]\n",
    "    for i in range(1, m):\n",
    "        if data[i] <= median:\n",
    "            heapq.heappush(left, -data[i])\n",
    "        else:\n",
    "            heapq.heappush(right, data[i])\n",
    "        \n",
    "        if i % 2 == 0:\n",
    "            if len(left) > len(right):\n",
    "                heapq.heappush(right, median)\n",
    "                median = -heapq.heappop(left)\n",
    "            elif len(left) < len(right):\n",
    "                heapq.heappush(left, -median)\n",
    "                median = heapq.heappop(right)\n",
    "            result.append(median)\n",
    "    show_result()"
   ]
  }
 ],
 "metadata": {
  "kernelspec": {
   "display_name": "Python 3",
   "language": "python",
   "name": "python3"
  },
  "language_info": {
   "codemirror_mode": {
    "name": "ipython",
    "version": 3
   },
   "file_extension": ".py",
   "mimetype": "text/x-python",
   "name": "python",
   "nbconvert_exporter": "python",
   "pygments_lexer": "ipython3",
   "version": "3.8.8"
  }
 },
 "nbformat": 4,
 "nbformat_minor": 5
}
