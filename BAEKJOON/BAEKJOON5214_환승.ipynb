{
 "cells": [
  {
   "attachments": {},
   "cell_type": "markdown",
   "id": "fd22ee51",
   "metadata": {},
   "source": [
    "# 백준 5214(https://www.acmicpc.net/problem/5214)\n",
    "\n",
    "아주 먼 미래에 사람들이 가장 많이 사용하는 대중교통은 하이퍼튜브이다. 하이퍼튜브 하나는 역 K개를 서로 연결한다. 1번역에서 N번역으로 가는데 방문하는 최소 역의 수는 몇 개일까?"
   ]
  },
  {
   "cell_type": "markdown",
   "id": "5e289d69",
   "metadata": {},
   "source": [
    "> 입력: 첫째 줄에 역의 수 N과 한 하이퍼튜브가 서로 연결하는 역의 개수 K, 하이퍼튜브의 개수 M이 주어진다. (1 ≤ N ≤ 100,000, 1 ≤ K, M ≤ 1000) 다음 M개 줄에는 하이퍼튜브의 정보가 한 줄에 하나씩 주어진다. 총 K개 숫자가 주어지며, 이 숫자는 그 하이퍼튜브가 서로 연결하는 역의 번호이다. \n",
    "\n",
    "> 출력: 첫째 줄에 1번역에서 N번역으로 가는데 방문하는 역의 개수의 최솟값을 출력한다. 만약, 갈 수 없다면 -1을 출력한다."
   ]
  },
  {
   "cell_type": "markdown",
   "id": "f742c2bb",
   "metadata": {},
   "source": [
    "## 1. Python solution1"
   ]
  },
  {
   "cell_type": "code",
   "execution_count": 6,
   "id": "fccf2d74",
   "metadata": {
    "scrolled": true
   },
   "outputs": [
    {
     "name": "stdout",
     "output_type": "stream",
     "text": [
      "9 3 5\n",
      "1 2 3\n",
      "1 4 5\n",
      "3 6 7\n",
      "5 6 7\n",
      "6 8 9\n",
      "4\n"
     ]
    }
   ],
   "source": [
    "import sys\n",
    "input = sys.stdin.readline\n",
    "from collections import deque\n",
    "\n",
    "N, K, M = map(int, input().split(' ')) # 역의 수, 연결 역의 수, 튜브  수\n",
    "graph = [[] for _ in range(N + M+ 1)]\n",
    "for i in range(1, M + 1):\n",
    "    arr = list(map(int, input().split(' ')))\n",
    "    for x in arr:\n",
    "        graph[x].append(N + i)\n",
    "        graph[N + i].append(x)\n",
    "        \n",
    "visit = set([1])\n",
    "queue = deque([(0, 1)])\n",
    "found = False\n",
    "while queue:\n",
    "    cost, now = queue.popleft()\n",
    "    if now == N:\n",
    "        print(cost // 2 + 1)\n",
    "        found = True\n",
    "        break\n",
    "    for y in graph[now]:\n",
    "        if y not in visit:\n",
    "            queue.append((cost + 1, y))\n",
    "            visit.add(y)\n",
    "            \n",
    "if not found:\n",
    "    print(-1)"
   ]
  }
 ],
 "metadata": {
  "kernelspec": {
   "display_name": "Python 3 (ipykernel)",
   "language": "python",
   "name": "python3"
  },
  "language_info": {
   "codemirror_mode": {
    "name": "ipython",
    "version": 3
   },
   "file_extension": ".py",
   "mimetype": "text/x-python",
   "name": "python",
   "nbconvert_exporter": "python",
   "pygments_lexer": "ipython3",
   "version": "3.11.5"
  }
 },
 "nbformat": 4,
 "nbformat_minor": 5
}
