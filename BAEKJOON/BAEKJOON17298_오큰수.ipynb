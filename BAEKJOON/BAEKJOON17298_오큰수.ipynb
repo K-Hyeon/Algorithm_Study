{
 "cells": [
  {
   "cell_type": "markdown",
   "id": "fd22ee51",
   "metadata": {},
   "source": [
    "# 백준 17298문제(https://www.acmicpc.net/problem/17298)\n",
    "\n",
    "크기가 N인 수열 A = A1, A2, ..., AN이 있다. 수열의 각 원소 Ai에 대해서 오큰수 NGE(i)를 구하려고 한다. Ai의 오큰수는 오른쪽에 있으면서 Ai보다 큰 수 중에서 가장 왼쪽에 있는 수를 의미한다. 그러한 수가 없는 경우에 오큰수는 -1이다.\n",
    "\n",
    "예를 들어, A = [3, 5, 2, 7]인 경우 NGE(1) = 5, NGE(2) = 7, NGE(3) = 7, NGE(4) = -1이다. A = [9, 5, 4, 8]인 경우에는 NGE(1) = -1, NGE(2) = 8, NGE(3) = 8, NGE(4) = -1이다."
   ]
  },
  {
   "cell_type": "markdown",
   "id": "5e289d69",
   "metadata": {},
   "source": [
    "> 첫째줄 입력: 수열 A의 크기 N (1 ≤ N ≤ 1,000,000)이 주어진다. \n",
    "> 첫째줄 입력: 수열 A의 원소 A1, A2, ..., AN (1 ≤ Ai ≤ 1,000,000)이 주어진다.\n",
    "\n",
    "> 출력: 총 N개의 수 NGE(1), NGE(2), ..., NGE(N)을 공백으로 구분해 출력한다."
   ]
  },
  {
   "cell_type": "markdown",
   "id": "f742c2bb",
   "metadata": {},
   "source": [
    "## 1. Python solution1"
   ]
  },
  {
   "cell_type": "code",
   "execution_count": 7,
   "id": "efa63efc",
   "metadata": {},
   "outputs": [
    {
     "name": "stdout",
     "output_type": "stream",
     "text": [
      "4\n",
      "9 5 4 8\n",
      "-1 8 8 -1 "
     ]
    }
   ],
   "source": [
    "n = int(input())\n",
    "arr = list(map(int, input().split(' ')))\n",
    "\n",
    "stack = []\n",
    "NGE = [-1] * n\n",
    "\n",
    "for i in range(n):\n",
    "    x = arr[i]\n",
    "    if len(stack) == 0 or stack[-1][0] >= x:\n",
    "        # (수, 인덱스)\n",
    "        stack.append((x, i))\n",
    "    else:\n",
    "        while len(stack) > 0:\n",
    "            previous, index = stack.pop()\n",
    "            if previous >= x:\n",
    "                stack.append((previous, index))\n",
    "                break\n",
    "            else:\n",
    "                NGE[index] = x\n",
    "        stack.append((x, i))\n",
    "        \n",
    "for x in NGE:\n",
    "    print(x, end=' ')"
   ]
  },
  {
   "cell_type": "markdown",
   "id": "4129a1c3",
   "metadata": {},
   "source": [
    "## 1. Python solution2"
   ]
  },
  {
   "cell_type": "code",
   "execution_count": 8,
   "id": "f90b85d9",
   "metadata": {},
   "outputs": [
    {
     "name": "stdout",
     "output_type": "stream",
     "text": [
      "4\n",
      "9 5 4 8\n",
      "-1 8 8 -1\n"
     ]
    }
   ],
   "source": [
    "n = int(input())\n",
    "arr = list(map(int, input().split(' ')))\n",
    "\n",
    "stack = []\n",
    "NGE = [-1] * n\n",
    "\n",
    "for i in range(1, n):\n",
    "    while stack and arr[stack[-1]] < arr[i]:\n",
    "        NGE[stack.pop()] = arr[i]\n",
    "    stack.append(i)\n",
    "\n",
    "print(*NGE)"
   ]
  }
 ],
 "metadata": {
  "kernelspec": {
   "display_name": "Python 3",
   "language": "python",
   "name": "python3"
  },
  "language_info": {
   "codemirror_mode": {
    "name": "ipython",
    "version": 3
   },
   "file_extension": ".py",
   "mimetype": "text/x-python",
   "name": "python",
   "nbconvert_exporter": "python",
   "pygments_lexer": "ipython3",
   "version": "3.8.8"
  }
 },
 "nbformat": 4,
 "nbformat_minor": 5
}
