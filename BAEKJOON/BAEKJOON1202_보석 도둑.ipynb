{
 "cells": [
  {
   "cell_type": "markdown",
   "id": "fd22ee51",
   "metadata": {},
   "source": [
    "# 백준 1202(https://www.acmicpc.net/problem/1202)\n",
    "\n",
    "세계적인 도둑 상덕이는 보석점을 털기로 결심했다.\n",
    "\n",
    "상덕이가 털 보석점에는 보석이 총 N개 있다. 각 보석은 무게 Mi와 가격 Vi를 가지고 있다. 상덕이는 가방을 K개 가지고 있고, 각 가방에 담을 수 있는 최대 무게는 Ci이다. 가방에는 최대 한 개의 보석만 넣을 수 있다.\n",
    "\n",
    "상덕이가 훔칠 수 있는 보석의 최대 가격을 구하는 프로그램을 작성하시오."
   ]
  },
  {
   "cell_type": "markdown",
   "id": "5e289d69",
   "metadata": {},
   "source": [
    "> 입력: 첫째 줄에 N과 K가 주어진다. (1 ≤ N, K ≤ 300,000) 다음 N개 줄에는 각 보석의 정보 Mi와 Vi가 주어진다. (0 ≤ Mi, Vi ≤ 1,000,000) 다음 K개 줄에는 가방에 담을 수 있는 최대 무게 Ci가 주어진다. (1 ≤ Ci ≤ 100,000,000) 모든 숫자는 양의 정수이다.\n",
    "\n",
    "> 출력: 첫째 줄에 상덕이가 훔칠 수 있는 보석 가격의 합의 최댓값을 출력한다."
   ]
  },
  {
   "cell_type": "markdown",
   "id": "f742c2bb",
   "metadata": {},
   "source": [
    "## 1. Python solution1"
   ]
  },
  {
   "cell_type": "code",
   "execution_count": 5,
   "id": "26d92233",
   "metadata": {},
   "outputs": [
    {
     "name": "stdout",
     "output_type": "stream",
     "text": [
      "3 2\n",
      "1 65\n",
      "5 23\n",
      "2 99\n",
      "10\n",
      "2\n",
      "164\n"
     ]
    }
   ],
   "source": [
    "import sys\n",
    "input = sys.stdin.readline\n",
    "import heapq\n",
    "\n",
    "N, K = map(int, input().split(' ')) # 보석의 개수, 가방의 개수\n",
    "\n",
    "gems = []\n",
    "for _ in range(N):\n",
    "    M, V = map(int, input().split(' ')) # 보석의 무게, 가격\n",
    "    gems.append((M, V))\n",
    "gems.sort()\n",
    "\n",
    "bags = []\n",
    "for _ in range(K):\n",
    "    bags.append(int(input())) # 가방에 담을 수 있는 최대 무게\n",
    "bags.sort()\n",
    "\n",
    "heap = []\n",
    "cur = 0\n",
    "result = 0\n",
    "for bag in bags:\n",
    "    while cur < N:\n",
    "        m, v = gems[cur]\n",
    "        if bag >= m:\n",
    "            heapq.heappush(heap, -v)\n",
    "            cur += 1\n",
    "        else:\n",
    "            break\n",
    "    \n",
    "    if len(heap) > 0:\n",
    "        value = -heapq.heappop(heap)\n",
    "        result += value\n",
    "        \n",
    "print(result)"
   ]
  }
 ],
 "metadata": {
  "kernelspec": {
   "display_name": "Python 3 (ipykernel)",
   "language": "python",
   "name": "python3"
  },
  "language_info": {
   "codemirror_mode": {
    "name": "ipython",
    "version": 3
   },
   "file_extension": ".py",
   "mimetype": "text/x-python",
   "name": "python",
   "nbconvert_exporter": "python",
   "pygments_lexer": "ipython3",
   "version": "3.11.5"
  }
 },
 "nbformat": 4,
 "nbformat_minor": 5
}
