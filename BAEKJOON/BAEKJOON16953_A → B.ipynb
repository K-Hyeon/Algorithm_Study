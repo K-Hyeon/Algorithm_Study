{
 "cells": [
  {
   "cell_type": "markdown",
   "id": "fd22ee51",
   "metadata": {},
   "source": [
    "# 백준 16953(https://www.acmicpc.net/problem/16953)\n",
    "\n",
    "정수 A를 B로 바꾸려고 한다. 가능한 연산은 다음과 같은 두 가지이다.\n",
    "\n",
    "- 2를 곱한다.\n",
    "- 1을 수의 가장 오른쪽에 추가한다. \n",
    "\n",
    "A를 B로 바꾸는데 필요한 연산의 최솟값을 구해보자."
   ]
  },
  {
   "cell_type": "markdown",
   "id": "5e289d69",
   "metadata": {},
   "source": [
    "> 입력: 첫째 줄에 A, B (1 ≤ A < B ≤ 109)가 주어진다.\n",
    "\n",
    "> 출력: A를 B로 바꾸는데 필요한 연산의 최솟값에 1을 더한 값을 출력한다. 만들 수 없는 경우에는 -1을 출력한다."
   ]
  },
  {
   "cell_type": "markdown",
   "id": "f742c2bb",
   "metadata": {},
   "source": [
    "## 1. Python solution1"
   ]
  },
  {
   "cell_type": "code",
   "execution_count": 2,
   "id": "fc7f5e44",
   "metadata": {},
   "outputs": [
    {
     "name": "stdout",
     "output_type": "stream",
     "text": [
      "4 42\n",
      "-1\n"
     ]
    }
   ],
   "source": [
    "import sys\n",
    "input = sys.stdin.readline\n",
    "from collections import deque\n",
    "\n",
    "A, B = map(int, input().split(' '))\n",
    "\n",
    "queue = deque([])\n",
    "queue.append((A, 1))\n",
    "count = 0\n",
    "\n",
    "while queue:\n",
    "    value, dis = queue.popleft()\n",
    "    if value > B:\n",
    "        continue\n",
    "    if value == B:\n",
    "        print(dis)\n",
    "        break\n",
    "    queue.append((value * 2, dis + 1))\n",
    "    queue.append((int(str(value) + '1'), dis + 1))\n",
    "else:\n",
    "    print(-1)"
   ]
  },
  {
   "cell_type": "markdown",
   "id": "62c375a5",
   "metadata": {},
   "source": [
    "## 2. Python solution2"
   ]
  },
  {
   "cell_type": "code",
   "execution_count": 3,
   "id": "d143cdf9",
   "metadata": {},
   "outputs": [
    {
     "name": "stdout",
     "output_type": "stream",
     "text": [
      "4 42\n",
      "-1\n"
     ]
    }
   ],
   "source": [
    "import sys\n",
    "input = sys.stdin.readline\n",
    "\n",
    "A, B = map(int, input().split(' '))\n",
    "count = 1\n",
    "\n",
    "while (B != A):\n",
    "    count += 1\n",
    "    num = B\n",
    "    if (B % 10) == 1:\n",
    "        B //= 10\n",
    "    elif (B % 2) == 0:\n",
    "        B //= 2\n",
    "        \n",
    "    if num == B:\n",
    "        print(-1)\n",
    "        break\n",
    "    \n",
    "else:\n",
    "    print(count)"
   ]
  }
 ],
 "metadata": {
  "kernelspec": {
   "display_name": "Python 3 (ipykernel)",
   "language": "python",
   "name": "python3"
  },
  "language_info": {
   "codemirror_mode": {
    "name": "ipython",
    "version": 3
   },
   "file_extension": ".py",
   "mimetype": "text/x-python",
   "name": "python",
   "nbconvert_exporter": "python",
   "pygments_lexer": "ipython3",
   "version": "3.11.5"
  }
 },
 "nbformat": 4,
 "nbformat_minor": 5
}
