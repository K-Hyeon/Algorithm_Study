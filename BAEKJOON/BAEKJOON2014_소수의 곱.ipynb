{
 "cells": [
  {
   "cell_type": "markdown",
   "id": "fd22ee51",
   "metadata": {},
   "source": [
    "# 백준 2014문제(https://www.acmicpc.net/problem/2014)\n",
    "\n",
    "K개의 소수가 있다. 이때, 이 소수들 중에서 몇 개를 곱해서 얻게 되는 수들이 있을 것이다. 소수들을 선택할 때에는 같은 수를 선택해도 되며, 주어지는 소수 자체도 포함시키자.\n",
    "\n",
    "예를 들어 세 소수가 2, 5, 7이었다면, 이러한 곱들을 오름차순으로 나타내 보면, 2, 4, 5, 7, 8, 10, 14, 16, 20, 25, 28, 32, 35, 등이 된다.\n",
    "\n",
    "K개의 소수가 주어졌을 때, 이러한 소수의 곱들 중에서 N번째 수를 구해 보자. 단 정답은 231보다 작은 자연수이다."
   ]
  },
  {
   "cell_type": "markdown",
   "id": "5e289d69",
   "metadata": {},
   "source": [
    "> 입력: 첫째 줄에 K(1 ≤ K ≤ 100), N(1 ≤ N ≤ 100,000)이 주어진다. 다음 줄에는 K개의 소수가 오름차순으로 주어진다. 같은 소수가 여러 번 주어지는 경우는 없으며, 주어지는 소수는 모두 541보다 작거나 같은 자연수이다.\n",
    "\n",
    "> 출력: 첫째 줄에 문제에서 설명한 대로 소수의 곱을 나열했을 때, N번째 오는 것을 출력한다."
   ]
  },
  {
   "cell_type": "markdown",
   "id": "f742c2bb",
   "metadata": {},
   "source": [
    "## 1. Python solution1"
   ]
  },
  {
   "cell_type": "code",
   "execution_count": 3,
   "id": "b2c1d7f4",
   "metadata": {},
   "outputs": [
    {
     "name": "stdout",
     "output_type": "stream",
     "text": [
      "4 19\n",
      "2 3 5 7\n",
      "27\n"
     ]
    }
   ],
   "source": [
    "import heapq\n",
    "\n",
    "k, n = map(int, input().split(' '))\n",
    "data = list(map(int, input().split(' ')))\n",
    "\n",
    "heap = []\n",
    "visited = set()\n",
    "max_value = max(data)\n",
    "\n",
    "# 초기 원소를 힙에 삽입\n",
    "for x in data:\n",
    "    heapq.heappush(heap, x)\n",
    "    \n",
    "for i in range(n-1):\n",
    "    element = heapq.heappop(heap)\n",
    "    for x in data:\n",
    "        now = element * x\n",
    "        if len(heap) >= n and max_value < now:\n",
    "            continue\n",
    "        if now not in visited:\n",
    "            heapq.heappush(heap, now)\n",
    "            max_value = max(max_value, now)\n",
    "            visited.add(now)\n",
    "\n",
    "print(heapq.heappop(heap))"
   ]
  },
  {
   "cell_type": "markdown",
   "id": "8577ceaa",
   "metadata": {},
   "source": [
    "## 2. Python solution2"
   ]
  },
  {
   "cell_type": "code",
   "execution_count": 8,
   "id": "a8048b0a",
   "metadata": {},
   "outputs": [
    {
     "name": "stdout",
     "output_type": "stream",
     "text": [
      "4 19\n",
      "2 3 5 7\n",
      "27\n"
     ]
    }
   ],
   "source": [
    "import heapq\n",
    "\n",
    "k, n = map(int, input().split())\n",
    "data = list(map(int, input().split()))\n",
    "heap = []\n",
    "\n",
    "# 초기 원소를 힙에 삽입\n",
    "for d in data:\n",
    "    heapq.heappush(heap, d)\n",
    "\n",
    "for _ in range(n):\n",
    "    num = heapq.heappop(heap)\n",
    "    for i in range(k):\n",
    "        temp = num * data[i]\n",
    "        heapq.heappush(heap, temp)\n",
    "\n",
    "        if num % data[i] == 0:\n",
    "            break\n",
    "\n",
    "print(num)"
   ]
  }
 ],
 "metadata": {
  "kernelspec": {
   "display_name": "Python 3",
   "language": "python",
   "name": "python3"
  },
  "language_info": {
   "codemirror_mode": {
    "name": "ipython",
    "version": 3
   },
   "file_extension": ".py",
   "mimetype": "text/x-python",
   "name": "python",
   "nbconvert_exporter": "python",
   "pygments_lexer": "ipython3",
   "version": "3.8.8"
  }
 },
 "nbformat": 4,
 "nbformat_minor": 5
}
