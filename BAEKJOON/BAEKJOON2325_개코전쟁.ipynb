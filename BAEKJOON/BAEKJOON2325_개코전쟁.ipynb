{
 "cells": [
  {
   "cell_type": "markdown",
   "id": "fd22ee51",
   "metadata": {},
   "source": [
    "# 백준 2325(https://www.acmicpc.net/problem/2325)\n",
    "\n",
    "“앙두레 강”이 개미와 코끼리 결혼식에서 기차를 아름답게 만드는 것을 실패했기 때문에 식장이 아수라장이 되고 결혼이 물거품이 되어버렸다. 급기야는 왕국 간에 분쟁으로 이어져 개미왕국은 코끼리왕국을 공격하기로 결정하였다. 동물나라 지도에서 개미왕국은 1번 정점에 위치해 있고 코끼리왕국은 N번 정점에 위치해 있다. 따라서 개미왕국이 1번 정점에서 N번 정점으로 공격을 하러 가는 상황이다. (개미왕국은 최단거리로 이동을 하게 되고, 코끼리왕국은 움직이지 않는다)\n",
    "\n",
    "“개미”와 “코끼리”의 앞 글자를 따서 이 전쟁은 “개코전쟁”으로 역사에 기억된다.\n",
    "\n",
    "“앙두레 강”은 자신 때문에 발생한 이 전쟁을 어떻게든 막으려고 한다. 협상을 할 시간을 벌기 위해 개미왕국이 코끼리왕국에 도착하는 시간을 최대한 늦추려고 한다. 그래서 “앙두레 강”은 사자왕국의 도움을 빌어 도로 중 딱 하나를 파괴하려고 하는데 어느 도로를 파괴해야 개미왕국이 최단거리로 가더라도 그 거리를 최대로 할 수 있을까?\n",
    "\n",
    "“앙두레 강”를 도와 1번 정점에서 N번 정점으로의 최단거리가 최대가 되도록 도로 하나를 파괴하도록 하자. (어떤 하나의 도로를 파괴하더라도 1번 정점에서 N번 정점으로 도달 가능하다)"
   ]
  },
  {
   "cell_type": "markdown",
   "id": "5e289d69",
   "metadata": {},
   "source": [
    "> 입력: 첫 줄에 N과 M이 입력된다. N은 정점의 개수이고 M은 도로의 수이다. (1 ≤ N ≤ 1000, 1 ≤ M ≤ N×(N-1)/2) 다음 줄부터 M개의 줄에 도로의 정보가 입력된다. i+1번째 줄에는 i번째 도로의 정보 xi yi zi가 입력되고 이 도로는 정점 xi와 정점 yi를 잇는 도로이며 지나는데 zi만큼의 시간이 걸린다는 것을 의미한다. 두 정점사이에는 두 개 이상의 길이 존재하지 않고 모든 도로는 양방향이며 한 도로를 파괴하는 것은 양방향의 길 모두를 파괴하는 것이다. (1 ≤ xi, yi ≤ N, 1 ≤ zi ≤ 1000)\n",
    "\n",
    "> 출력: 적당한 도로하나를 파괴했을 때 1번 정점에서 N번 정점으로의 최단거리의 최댓값을 출력한다."
   ]
  },
  {
   "cell_type": "markdown",
   "id": "f742c2bb",
   "metadata": {},
   "source": [
    "## 1. Python solution1"
   ]
  },
  {
   "cell_type": "code",
   "execution_count": 12,
   "id": "ab1dd274",
   "metadata": {},
   "outputs": [
    {
     "name": "stdout",
     "output_type": "stream",
     "text": [
      "5 6\n",
      "1 2 4\n",
      "1 3 3\n",
      "2 3 1\n",
      "2 4 4\n",
      "2 5 7\n",
      "4 5 1\n",
      "11\n"
     ]
    }
   ],
   "source": [
    "import sys\n",
    "input = sys.stdin.readline\n",
    "from collections import deque\n",
    "import heapq\n",
    "\n",
    "N, M = map(int, input().split(' ')) # 정점의 수, 도로의 수\n",
    "\n",
    "graph = [[] for _ in range(N + 1)]\n",
    "for _ in range(M):\n",
    "    x, y, z = map(int, input().split(' '))\n",
    "    graph[x].append((y, z))\n",
    "    graph[y].append((x, z))\n",
    "\n",
    "start, end = 1, N\n",
    "dis = [1e9] * (N + 1)\n",
    "def dijkstra(a, b):\n",
    "    q = []\n",
    "    heapq.heappush(q, (0, start))\n",
    "    dis[start] = 0\n",
    "    while q:\n",
    "        dist, now = heapq.heappop(q)\n",
    "        \n",
    "        # 이미 처리한 노드\n",
    "        if dis[now] < dist:\n",
    "            continue\n",
    "            \n",
    "        for i in graph[now]:\n",
    "            # a,b 간선 무시\n",
    "            if (i[0] == a) and (now == b): \n",
    "                continue\n",
    "            elif (i[0] == b) and (now == a):\n",
    "                continue\n",
    "                \n",
    "            cost = dist + i[1]\n",
    "            if cost < dis[i[0]]:\n",
    "                dis[i[0]] = cost\n",
    "                heapq.heappush(q, (cost, i[0]))\n",
    "                \n",
    "def bfs():\n",
    "    q = deque()\n",
    "    visit = set()\n",
    "    removes = set()\n",
    "    q.append(end)\n",
    "    \n",
    "    while q:\n",
    "        now = q.popleft()\n",
    "        \n",
    "        if now == start:\n",
    "            continue\n",
    "            \n",
    "        for i in graph[now]:\n",
    "            cost = dis[i[0]] + i[1]\n",
    "            if cost == dis[now]:\n",
    "                removes.add((i[0], now))\n",
    "                if i[0] not in visit:\n",
    "                    q.append(i[0])\n",
    "                    visit.add(i[0])\n",
    "    return removes\n",
    "                \n",
    "dijkstra(-1, -1)\n",
    "removes = bfs()\n",
    "\n",
    "result = 0\n",
    "for a, b in removes:\n",
    "    dis = [1e9] * (N + 1)\n",
    "    dijkstra(a, b)\n",
    "    result = max(result, dis[end])\n",
    "print(result)"
   ]
  }
 ],
 "metadata": {
  "kernelspec": {
   "display_name": "Python 3 (ipykernel)",
   "language": "python",
   "name": "python3"
  },
  "language_info": {
   "codemirror_mode": {
    "name": "ipython",
    "version": 3
   },
   "file_extension": ".py",
   "mimetype": "text/x-python",
   "name": "python",
   "nbconvert_exporter": "python",
   "pygments_lexer": "ipython3",
   "version": "3.11.5"
  }
 },
 "nbformat": 4,
 "nbformat_minor": 5
}
