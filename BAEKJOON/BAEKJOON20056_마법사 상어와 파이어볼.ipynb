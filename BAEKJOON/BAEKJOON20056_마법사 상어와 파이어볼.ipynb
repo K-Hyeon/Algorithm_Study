{
 "cells": [
  {
   "attachments": {
    "ad3e5c6a-11ec-4b05-b9b9-b45feb03d3ba.png": {
     "image/png": "[encoded data removed]"
    }
   },
   "cell_type": "markdown",
   "id": "f9ee2b87-65a4-4572-898d-9d2460b77dbf",
   "metadata": {},
   "source": [
    "# 백준 20056(https://www.acmicpc.net/problem/20056)\n",
    "\n",
    "어른 상어가 마법사가 되었고, 파이어볼을 배웠다.\r\n",
    "\r\n",
    "마법사 상어가 크기가 N×N인 격자에 파이어볼 M개를 발사했다. 가장 처음에 파이어볼은 각자 위치에서 이동을 대기하고 있다. i번 파이어볼의 위치는 (ri, ci), 질량은 mi이고, 방향은 di, 속력은 si이다. 위치 (r, c)는 r행 c열을 의미한다.\r\n",
    "\r\n",
    "격자의 행과 열은 1번부터 N번까지 번호가 매겨져 있고, 1번 행은 N번과 연결되어 있고, 1번 열은 N번 열과 연결되어 있다.\r\n",
    "\r\n",
    "파이어볼의 방향은 어떤 칸과 인접한 8개의 칸의 방향을 의미하며, 정수로는 다\n",
    "\n",
    "![image.png](attachment:ad3e5c6a-11ec-4b05-b9b9-b45feb03d3ba.png)\n",
    "\n",
    "마법사 상어가 모든 파이어볼에게 이동을 명령하면 다음이 일들이 일어난다.\r\n",
    "1. \r\n",
    "모든 파이어볼이 자신의 방향 di로 속력 si칸 만큼 이동한다- .\r\n",
    "이동하는 중에는 같은 칸에 여러 개의 파이어볼이 있을 수도 있\n",
    "2. 다.\r\n",
    "이동이 모두 끝난 뒤, 2개 이상의 파이어볼이 있는 칸에서는 다음과 같은 일이 일어1) 난다.\r\n",
    "같은 칸에 있는 파이어볼은 모두 하나로 합2) 쳐진다.\r\n",
    "파이어볼은 4개의 파이어볼로 나3) 누어진다.\r\n",
    "나누어진 파이어볼의 질량, 속력, 방향은 다3-1) 음과 같다.\r\n",
    "질량은 ⌊(합쳐진 파이어볼 질량의 합3-2) )/5⌋이다.\r\n",
    "속력은 ⌊(합쳐진 파이어볼 속력의 합)/(합쳐진 파이어볼의3-3)  개수)⌋이다.\r\n",
    "합쳐지는 파이어볼의 방향이 모두 홀수이거나 모두 짝수이면, 방향은 0, 2, 4, 6이 되고, 그렇지 않으면 1, 3, 4) 5, 7이 된다.\r\n",
    "질량이 0인 파이어볼은 \n",
    "소멸되어 없어진다.\r\n",
    "마법사 상어가 이동을 K번 명령한 후, 남아있는 파이어볼 질량의 합을 구해보자.음과 같다."
   ]
  },
  {
   "cell_type": "markdown",
   "id": "b9d123c9-60a6-4f8b-844a-aa3789d1bdbc",
   "metadata": {},
   "source": [
    "> 입력: 첫째 줄에 N, M이 주어진다. 둘째 줄부터 N개의 줄에는 N개의 정수가 주어진다. r번째 행의 c번째 정수는 A[r][c]를 의미한다. 다음 M개의 줄에는 이동의 정보 di, si가 순서대로 한 줄에 하나씩 주어진다.\n",
    "\n",
    "> 출력: 첫째 줄에 M번의 이동이 모두 끝난 후 바구니에 들어있는 물의 양의 합을 출력한다."
   ]
  },
  {
   "cell_type": "markdown",
   "id": "f742c2bb",
   "metadata": {},
   "source": [
    "## 1. Python solution1"
   ]
  },
  {
   "cell_type": "code",
   "execution_count": 60,
   "id": "5906ae57-7f55-4890-b34b-db11587e6543",
   "metadata": {},
   "outputs": [
    {
     "name": "stdin",
     "output_type": "stream",
     "text": [
      " 4 2 1\n",
      " 1 1 5 2 2\n",
      " 1 4 7 1 6\n"
     ]
    },
    {
     "name": "stdout",
     "output_type": "stream",
     "text": [
      "8\n"
     ]
    }
   ],
   "source": [
    "N, M, K = map(int, input().split())\n",
    "fireballs = []\n",
    "for _ in range(M):\n",
    "    _r, _c, _m, _s, _d = list(map(int, input().split()))\n",
    "    fireballs.append([_r-1, _c-1, _m, _s, _d])\n",
    "\n",
    "MAP = [[[] for _ in range(N)] for _ in range(N)]\n",
    "\n",
    "dx = [-1, -1, 0, 1, 1, 1, 0, -1]\n",
    "dy = [0, 1, 1, 1, 0, -1, -1, -1]\n",
    "\n",
    "for _ in range(K):\n",
    "    # 파이어볼 이동\n",
    "    while fireballs:\n",
    "        cr, cc, cm, cs, cd = fireballs.pop(0)\n",
    "        nr = (cr + cs * dx[cd]) % N  # 1번-N번 행 연결되어있기 때문\n",
    "        nc = (cc + cs * dy[cd]) % N\n",
    "        MAP[nr][nc].append([cm, cs, cd])\n",
    "\n",
    "    # 2개 이상인지 체크\n",
    "    for r in range(N):\n",
    "        for c in range(N):\n",
    "            # 2개 이상인 경우 -> 4개의 파이어볼로 쪼개기\n",
    "            if len(MAP[r][c]) > 1:\n",
    "                sum_m, sum_s, cnt_odd, cnt_even, cnt = 0, 0, 0, 0, len(MAP[r][c])\n",
    "                while MAP[r][c]:\n",
    "                    _m, _s, _d = MAP[r][c].pop(0)\n",
    "                    sum_m += _m\n",
    "                    sum_s += _s\n",
    "                    if _d % 2:\n",
    "                        cnt_odd += 1\n",
    "                    else:\n",
    "                        cnt_even += 1\n",
    "                if cnt_odd == cnt or cnt_even == cnt:  # 모두 홀수이거나 모두 짝수인 경우\n",
    "                    nd = [0, 2, 4, 6]\n",
    "                else:\n",
    "                    nd = [1, 3, 5, 7]\n",
    "                if sum_m//5:  # 질량 0이면 소멸\n",
    "                    for d in nd:\n",
    "                        fireballs.append([r, c, sum_m//5, sum_s//cnt, d])\n",
    "\n",
    "            # 1개인 경우\n",
    "            if len(MAP[r][c]) == 1:\n",
    "                fireballs.append([r, c] + MAP[r][c].pop())\n",
    "\n",
    "print(sum([f[2] for f in fireballs]))"
   ]
  }
 ],
 "metadata": {
  "kernelspec": {
   "display_name": "Python 3 (ipykernel)",
   "language": "python",
   "name": "python3"
  },
  "language_info": {
   "codemirror_mode": {
    "name": "ipython",
    "version": 3
   },
   "file_extension": ".py",
   "mimetype": "text/x-python",
   "name": "python",
   "nbconvert_exporter": "python",
   "pygments_lexer": "ipython3",
   "version": "3.11.5"
  },
  "widgets": {
   "application/vnd.jupyter.widget-state+json": {
    "state": {},
    "version_major": 2,
    "version_minor": 0
   }
  }
 },
 "nbformat": 4,
 "nbformat_minor": 5
}
