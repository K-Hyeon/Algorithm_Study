{
 "cells": [
  {
   "cell_type": "markdown",
   "id": "fd22ee51",
   "metadata": {},
   "source": [
    "# 백준 4803(https://www.acmicpc.net/problem/4803)\n",
    "\n",
    " \n",
    "그래프는 정점과 간선으로 이루어져 있다. 두 정점 사이에 경로가 있다면, 두 정점은 연결되어 있다고 한다. 연결 요소는 모든 정점이 서로 연결되어 있는 정점의 부분집합이다. 그래프는 하나 또는 그 이상의 연결 요소로 이루어져 있다.\n",
    "\n",
    "트리는 사이클이 없는 연결 요소이다. 트리에는 여러 성질이 있다. 예를 들어, 트리는 정점이 n개, 간선이 n-1개 있다. 또, 임의의 두 정점에 대해서 경로가 유일하다.\n",
    "\n",
    "그래프가 주어졌을 때, 트리의 개수를 세는 프로그램을 작성하시오."
   ]
  },
  {
   "cell_type": "markdown",
   "id": "5e289d69",
   "metadata": {},
   "source": [
    "> 입력: 입력은 여러 개의 테스트 케이스로 이루어져 있다. 각 테스트 케이스의 첫째 줄에는 n ≤ 500과 m ≤ n(n-1)/2을 만족하는 정점의 개수 n과 간선의 개수 m이 주어진다. 다음 m개의 줄에는 간선을 나타내는 두 개의 정수가 주어진다. 같은 간선은 여러 번 주어지지 않는다. 정점은 1번부터 n번까지 번호가 매겨져 있다. 입력의 마지막 줄에는 0이 두 개 주어진다.\n",
    "\n",
    "> 출력:  입력으로 주어진 그래프에 트리가 없다면 \"No trees.\"를, 한 개라면 \"There is one tree.\"를, T개(T > 1)라면 \"A forest of T trees.\"를 테스트 케이스 번호와 함께 출력한다."
   ]
  },
  {
   "cell_type": "markdown",
   "id": "f742c2bb",
   "metadata": {},
   "source": [
    "## 1. Python solution1"
   ]
  },
  {
   "cell_type": "code",
   "execution_count": 18,
   "id": "f896a79b",
   "metadata": {},
   "outputs": [
    {
     "name": "stdout",
     "output_type": "stream",
     "text": [
      "6 3\n",
      "1 2\n",
      "2 3\n",
      "3 4\n",
      "Case 1: A forest of 3 trees.\n",
      "6 5\n",
      "1 2\n",
      "2 3\n",
      "3 4\n",
      "4 5\n",
      "5 6\n",
      "Case 2: There is one tree.\n",
      "6 6\n",
      "1 2\n",
      "2 3\n",
      "1 3\n",
      "4 5\n",
      "5 6\n",
      "6 4\n",
      "Case 3: No trees.\n",
      "0 0\n"
     ]
    }
   ],
   "source": [
    "import sys\n",
    "input = sys.stdin.readline\n",
    "sys.setrecursionlimit(int(1e5))\n",
    "\n",
    "def start(x, prev):\n",
    "    visit[x] = True\n",
    "    for y in graph[x]:\n",
    "        if visit[y]:\n",
    "            if y != prev:\n",
    "                return True\n",
    "        else:\n",
    "            if start(y, x):\n",
    "                return True\n",
    "    return False\n",
    "\n",
    "test_case = 1\n",
    "while True:\n",
    "    n, m = map(int, input().split(' '))\n",
    "    if (n == 0) and (m == 0): break\n",
    "        \n",
    "    graph = [[] for _ in range(n + 1)]\n",
    "    visit = [False] * (n + 1)\n",
    "    for _ in range(m):\n",
    "        a, b = map(int, input().split(' '))\n",
    "        graph[a].append(b)\n",
    "        graph[b].append(a)        \n",
    "    \n",
    "    count = 0\n",
    "    for x in range(1, n + 1):\n",
    "        if visit[x] == False:\n",
    "            if start(x, 0) == False:\n",
    "                count += 1\n",
    "    if count == 0:\n",
    "        print(f'Case {test_case}: No trees.')\n",
    "    elif count == 1:\n",
    "        print(f'Case {test_case}: There is one tree.')\n",
    "    else:\n",
    "        print(f'Case {test_case}: A forest of {count} trees.')\n",
    "    test_case += 1"
   ]
  }
 ],
 "metadata": {
  "kernelspec": {
   "display_name": "Python 3 (ipykernel)",
   "language": "python",
   "name": "python3"
  },
  "language_info": {
   "codemirror_mode": {
    "name": "ipython",
    "version": 3
   },
   "file_extension": ".py",
   "mimetype": "text/x-python",
   "name": "python",
   "nbconvert_exporter": "python",
   "pygments_lexer": "ipython3",
   "version": "3.11.5"
  }
 },
 "nbformat": 4,
 "nbformat_minor": 5
}
