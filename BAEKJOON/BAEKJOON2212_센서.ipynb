{
 "cells": [
  {
   "cell_type": "markdown",
   "id": "fd22ee51",
   "metadata": {},
   "source": [
    "# 백준 2212(https://www.acmicpc.net/problem/2212)\n",
    "\n",
    "한국도로공사는 고속도로의 유비쿼터스화를 위해 고속도로 위에 N개의 센서를 설치하였다. 문제는 이 센서들이 수집한 자료들을 모으고 분석할 몇 개의 집중국을 세우는 일인데, 예산상의 문제로, 고속도로 위에 최대 K개의 집중국을 세울 수 있다고 한다.\n",
    "\n",
    "각 집중국은 센서의 수신 가능 영역을 조절할 수 있다. 집중국의 수신 가능 영역은 고속도로 상에서 연결된 구간으로 나타나게 된다. N개의 센서가 적어도 하나의 집중국과는 통신이 가능해야 하며, 집중국의 유지비 문제로 인해 각 집중국의 수신 가능 영역의 길이의 합을 최소화해야 한다.\n",
    "\n",
    "편의를 위해 고속도로는 평면상의 직선이라고 가정하고, 센서들은 이 직선 위의 한 기점인 원점으로부터의 정수 거리의 위치에 놓여 있다고 하자. 따라서, 각 센서의 좌표는 정수 하나로 표현된다. 이 상황에서 각 집중국의 수신 가능영역의 거리의 합의 최솟값을 구하는 프로그램을 작성하시오. 단, 집중국의 수신 가능영역의 길이는 0 이상이며 모든 센서의 좌표가 다를 필요는 없다."
   ]
  },
  {
   "cell_type": "markdown",
   "id": "5e289d69",
   "metadata": {},
   "source": [
    "> 입력: 첫째 줄에 센서의 개수 N(1 ≤ N ≤ 10,000), 둘째 줄에 집중국의 개수 K(1 ≤ K ≤ 1000)가 주어진다. 셋째 줄에는 N개의 센서의 좌표가 한 개의 정수로 N개 주어진다. 각 좌표 사이에는 빈 칸이 하나 있으며, 좌표의 절댓값은 1,000,000 이하이다.\n",
    "\n",
    "> 출력: 첫째 줄에 문제에서 설명한 최대 K개의 집중국의 수신 가능 영역의 길이의 합의 최솟값을 출력한다."
   ]
  },
  {
   "cell_type": "markdown",
   "id": "f742c2bb",
   "metadata": {},
   "source": [
    "## 1. Python solution1"
   ]
  },
  {
   "cell_type": "code",
   "execution_count": 3,
   "id": "fc7f5e44",
   "metadata": {},
   "outputs": [
    {
     "name": "stdout",
     "output_type": "stream",
     "text": [
      "6\n",
      "2\n",
      "1 6 9 3 6 7\n",
      "5\n"
     ]
    }
   ],
   "source": [
    "import sys\n",
    "\n",
    "N = int(input()) # 센서 개수\n",
    "K = int(input()) # 집중국 개수\n",
    "sensor = list(map(int, input().split())) # 센서 위치\n",
    "sensor.sort()\n",
    "\n",
    "# 집중국의 개수가 n 이상일 때\n",
    "if K >= N:\n",
    "    print(0)\n",
    "    sys.exit()\n",
    "\n",
    "# 각 센서 간의 거리를 계산하여 내림차순 정렬\n",
    "distances = []\n",
    "for i in range(1, N):\n",
    "    distances.append(sensor[i] - sensor[i - 1])\n",
    "distances.sort(reverse=True)\n",
    "    \n",
    "# 가장 긴 거리부터 하나씩 제거\n",
    "for i in range(K - 1):\n",
    "    distances[i] = 0\n",
    "print(sum(distances))"
   ]
  },
  {
   "cell_type": "code",
   "execution_count": 5,
   "id": "3214ac85",
   "metadata": {},
   "outputs": [
    {
     "name": "stdout",
     "output_type": "stream",
     "text": [
      "6\n",
      "2\n",
      "1 6 9 3 6 7\n",
      "5\n"
     ]
    }
   ],
   "source": [
    "N = int(input()) # 센서 개수\n",
    "K = int(input()) # 집중국 개수\n",
    "sensor = list(map(int, input().split())) # 센서 위치\n",
    "sensor.sort()\n",
    "\n",
    "distances = [sensor[i] - sensor[i-1] for i in range(1, N)]\n",
    "distances.sort()\n",
    "\n",
    "print(sum(distances[:N-K]))"
   ]
  }
 ],
 "metadata": {
  "kernelspec": {
   "display_name": "Python 3 (ipykernel)",
   "language": "python",
   "name": "python3"
  },
  "language_info": {
   "codemirror_mode": {
    "name": "ipython",
    "version": 3
   },
   "file_extension": ".py",
   "mimetype": "text/x-python",
   "name": "python",
   "nbconvert_exporter": "python",
   "pygments_lexer": "ipython3",
   "version": "3.11.5"
  }
 },
 "nbformat": 4,
 "nbformat_minor": 5
}
