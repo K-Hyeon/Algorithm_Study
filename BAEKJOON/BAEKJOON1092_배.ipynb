{
 "cells": [
  {
   "cell_type": "markdown",
   "id": "fd22ee51",
   "metadata": {},
   "source": [
    "# 백준 1092(https://www.acmicpc.net/problem/1092)\n",
    "\n",
    "지민이는 항구에서 일한다. 그리고 화물을 배에 실어야 한다. 모든 화물은 박스에 안에 넣어져 있다. 항구에는 크레인이 N대 있고, 1분에 박스를 하나씩 배에 실을 수 있다. 모든 크레인은 동시에 움직인다.\n",
    "\n",
    "각 크레인은 무게 제한이 있다. 이 무게 제한보다 무거운 박스는 크레인으로 움직일 수 없다. 모든 박스를 배로 옮기는데 드는 시간의 최솟값을 구하는 프로그램을 작성하시오."
   ]
  },
  {
   "cell_type": "markdown",
   "id": "5e289d69",
   "metadata": {},
   "source": [
    "> 입력: 첫째 줄에 N이 주어진다. N은 50보다 작거나 같은 자연수이다. 둘째 줄에는 각 크레인의 무게 제한이 주어진다. 이 값은 1,000,000보다 작거나 같다. 셋째 줄에는 박스의 수 M이 주어진다. M은 10,000보다 작거나 같은 자연수이다. 넷째 줄에는 각 박스의 무게가 주어진다. 이 값도 1,000,000보다 작거나 같은 자연수이다.\n",
    "\n",
    "> 출력: 첫째 줄에 모든 박스를 배로 옮기는데 드는 시간의 최솟값을 출력한다. 만약 모든 박스를 배로 옮길 수 없으면 -1을 출력한다."
   ]
  },
  {
   "cell_type": "markdown",
   "id": "f742c2bb",
   "metadata": {},
   "source": [
    "## 1. Python solution1: 33 minutes"
   ]
  },
  {
   "cell_type": "code",
   "execution_count": 24,
   "id": "f61322e0",
   "metadata": {},
   "outputs": [
    {
     "name": "stdout",
     "output_type": "stream",
     "text": [
      "3\n",
      "6 8 9\n",
      "5\n",
      "2 5 2 4 7\n",
      "2\n"
     ]
    }
   ],
   "source": [
    "N = int(input())\n",
    "crane_w = list(map(int, input().split())) # 각 크레인의 무게 제한\n",
    "crane_w.sort(reverse=True) # 내림차순 정렬\n",
    "\n",
    "M = int(input()) # 박스 수\n",
    "box_w = list(map(int, input().split())) # 박스 무게\n",
    "box_w.sort(reverse=True)\n",
    "\n",
    "result = 0\n",
    "\n",
    "# 박스를 옮길 수 없을 경우 -1\n",
    "if max(crane_w) < max(box_w):\n",
    "    result = -1\n",
    "else:\n",
    "    while box_w:\n",
    "        for crane in crane_w:\n",
    "            if box_w and crane < box_w[-1]:\n",
    "                continue\n",
    "            for box in box_w:\n",
    "                if crane >= box:\n",
    "                    box_w.remove(box)\n",
    "                    break\n",
    "        result += 1\n",
    "print(result)"
   ]
  }
 ],
 "metadata": {
  "kernelspec": {
   "display_name": "Python 3 (ipykernel)",
   "language": "python",
   "name": "python3"
  },
  "language_info": {
   "codemirror_mode": {
    "name": "ipython",
    "version": 3
   },
   "file_extension": ".py",
   "mimetype": "text/x-python",
   "name": "python",
   "nbconvert_exporter": "python",
   "pygments_lexer": "ipython3",
   "version": "3.11.5"
  }
 },
 "nbformat": 4,
 "nbformat_minor": 5
}
