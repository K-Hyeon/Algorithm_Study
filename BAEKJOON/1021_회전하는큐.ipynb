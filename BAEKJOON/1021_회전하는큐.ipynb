{
 "cells": [
  {
   "cell_type": "markdown",
   "id": "fd22ee51",
   "metadata": {},
   "source": [
    "# 백준 1021문제(https://www.acmicpc.net/problem/1021)\n",
    "\n",
    "지민이는 N개의 원소를 포함하고 있는 양방향 순환 큐를 가지고 있다. 지민이는 이 큐에서 몇 개의 원소를 뽑아내려고 한다.\n",
    "\n",
    "지민이는 이 큐에서 다음과 같은 3가지 연산을 수행할 수 있다.\n",
    "\n",
    "- 첫 번째 원소를 뽑아낸다. 이 연산을 수행하면, 원래 큐의 원소가 a1, ..., ak이었던 것이 a2, ..., ak와 같이 된다.\n",
    "- 왼쪽으로 한 칸 이동시킨다. 이 연산을 수행하면, a1, ..., ak가 a2, ..., ak, a1이 된다.\n",
    "- 오른쪽으로 한 칸 이동시킨다. 이 연산을 수행하면, a1, ..., ak가 ak, a1, ..., ak-1이 된다.\n",
    "\n",
    "큐에 처음에 포함되어 있던 수 N이 주어진다. 그리고 지민이가 뽑아내려고 하는 원소의 위치가 주어진다. (이 위치는 가장 처음 큐에서의 위치이다.) 이때, 그 원소를 주어진 순서대로 뽑아내는데 드는 2번, 3번 연산의 최솟값을 출력하는 프로그램을 작성하시오."
   ]
  },
  {
   "cell_type": "markdown",
   "id": "5e289d69",
   "metadata": {},
   "source": [
    "> 첫째줄 입력: 첫째 줄에 큐의 크기 N과 뽑아내려고 하는 수의 개수 M이 주어진다.\n",
    "> N은 50보다 작거나 같은 자연수이고, M은 N보다 작거나 같은 자연수이다. 둘째 줄에는 지민이가 뽑아내려고 하는 수의 위치가 순서대로 주어진다. 위치는 1보다 크거나 같고, N보다 작거나 같은 자연수이다.\n",
    "\n",
    "> 출력: 첫째 줄에 문제의 정답을 출력한다."
   ]
  },
  {
   "cell_type": "markdown",
   "id": "f742c2bb",
   "metadata": {},
   "source": [
    "## 1. Python solution1"
   ]
  },
  {
   "cell_type": "code",
   "execution_count": 7,
   "id": "c5e65475",
   "metadata": {},
   "outputs": [
    {
     "name": "stdout",
     "output_type": "stream",
     "text": [
      "10 3\n",
      "1 2 3\n",
      "0\n"
     ]
    }
   ],
   "source": [
    "from collections import deque\n",
    "\n",
    "n, m = map(int, input().split(' '))\n",
    "position = list(map(int, input().split(' ')))\n",
    "dq = deque([i for i in range(1, n+1)])  # deque([1, 2, 3,...,n])\n",
    "\n",
    "# 출력 변수\n",
    "count = 0 \n",
    "for i in position:  \n",
    "    while True:\n",
    "        # 첫 번쨰 인덱스가 목표 값\n",
    "        if dq[0] == i:\n",
    "            dq.popleft()\n",
    "            break\n",
    "        else:\n",
    "            # 왼쪽으로 움직여야 최소\n",
    "            if dq.index(i) < len(dq)/2:\n",
    "                while dq[0] != i:\n",
    "                    dq.append(dq.popleft())  \n",
    "                    count += 1\n",
    "            # 오른쪽으로 움직여야 최소\n",
    "            else:\n",
    "                while dq[0] != i:\n",
    "                    dq.appendleft(dq.pop())  \n",
    "                    count += 1\n",
    "print(count)"
   ]
  }
 ],
 "metadata": {
  "kernelspec": {
   "display_name": "Python 3",
   "language": "python",
   "name": "python3"
  },
  "language_info": {
   "codemirror_mode": {
    "name": "ipython",
    "version": 3
   },
   "file_extension": ".py",
   "mimetype": "text/x-python",
   "name": "python",
   "nbconvert_exporter": "python",
   "pygments_lexer": "ipython3",
   "version": "3.8.8"
  }
 },
 "nbformat": 4,
 "nbformat_minor": 5
}
