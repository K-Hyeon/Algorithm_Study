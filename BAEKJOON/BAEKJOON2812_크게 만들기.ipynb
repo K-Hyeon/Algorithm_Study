{
 "cells": [
  {
   "cell_type": "markdown",
   "id": "fd22ee51",
   "metadata": {},
   "source": [
    "# 백준 2812(https://www.acmicpc.net/problem/2812)\n",
    "\n",
    "N자리 숫자가 주어졌을 때, 여기서 숫자 K개를 지워서 얻을 수 있는 가장 큰 수를 구하는 프로그램을 작성하시오."
   ]
  },
  {
   "cell_type": "markdown",
   "id": "5e289d69",
   "metadata": {},
   "source": [
    "> 입력: 첫째 줄에 N과 K가 주어진다. (1 ≤ K < N ≤ 500,000) 둘째 줄에 N자리 숫자가 주어진다. 이 수는 0으로 시작하지 않는다.\n",
    "\n",
    "> 출력: 입력으로 주어진 숫자에서 K개를 지웠을 때 얻을 수 있는 가장 큰 수를 출력한다."
   ]
  },
  {
   "cell_type": "markdown",
   "id": "f742c2bb",
   "metadata": {},
   "source": [
    "## 1. Python solution1"
   ]
  },
  {
   "cell_type": "code",
   "execution_count": 4,
   "id": "3214ac85",
   "metadata": {},
   "outputs": [
    {
     "name": "stdout",
     "output_type": "stream",
     "text": [
      "4 2\n",
      "1924\n",
      "94\n"
     ]
    }
   ],
   "source": [
    "import sys\n",
    "input = sys.stdin.readline\n",
    "\n",
    "N, K = map(int, input().split(' '))\n",
    "numbers = input().strip()\n",
    "\n",
    "delete = 0\n",
    "stack = []\n",
    "for number in numbers:\n",
    "    # 현재 원소가  top()보다 큼\n",
    "    while (len(stack) > 0) and (stack[-1] < number):\n",
    "        if delete == K:\n",
    "            break\n",
    "        else:\n",
    "            stack.pop()\n",
    "            delete += 1\n",
    "    stack.append(number)\n",
    "\n",
    "# 삭제 횟수가 남았다면\n",
    "for i in range(K - delete):\n",
    "    stack.pop()\n",
    "\n",
    "print(''.join(stack))"
   ]
  }
 ],
 "metadata": {
  "kernelspec": {
   "display_name": "Python 3 (ipykernel)",
   "language": "python",
   "name": "python3"
  },
  "language_info": {
   "codemirror_mode": {
    "name": "ipython",
    "version": 3
   },
   "file_extension": ".py",
   "mimetype": "text/x-python",
   "name": "python",
   "nbconvert_exporter": "python",
   "pygments_lexer": "ipython3",
   "version": "3.11.5"
  }
 },
 "nbformat": 4,
 "nbformat_minor": 5
}
