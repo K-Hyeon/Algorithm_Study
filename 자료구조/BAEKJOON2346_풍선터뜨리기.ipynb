{
 "cells": [
  {
   "cell_type": "markdown",
   "id": "fd22ee51",
   "metadata": {},
   "source": [
    "# 백준 2346문제(https://www.acmicpc.net/problem/2346)\n",
    "\n",
    "1번부터 N번까지 N개의 풍선이 원형으로 놓여 있고. i번 풍선의 오른쪽에는 i+1번 풍선이 있고, 왼쪽에는 i-1번 풍선이 있다. 단, 1번 풍선의 왼쪽에 N번 풍선이 있고, N번 풍선의 오른쪽에 1번 풍선이 있다. 각 풍선 안에는 종이가 하나 들어있고, 종이에는 -N보다 크거나 같고, N보다 작거나 같은 정수가 하나 적혀있다. 이 풍선들을 다음과 같은 규칙으로 터뜨린다.\n",
    "\n",
    "우선, 제일 처음에는 1번 풍선을 터뜨린다. 다음에는 풍선 안에 있는 종이를 꺼내어 그 종이에 적혀있는 값만큼 이동하여 다음 풍선을 터뜨린다. 양수가 적혀 있을 경우에는 오른쪽으로, 음수가 적혀 있을 때는 왼쪽으로 이동한다. 이동할 때에는 이미 터진 풍선은 빼고 이동한다.\n",
    "\n",
    "예를 들어 다섯 개의 풍선 안에 차례로 3, 2, 1, -3, -1이 적혀 있었다고 하자. 이 경우 3이 적혀 있는 1번 풍선, -3이 적혀 있는 4번 풍선, -1이 적혀 있는 5번 풍선, 1이 적혀 있는 3번 풍선, 2가 적혀 있는 2번 풍선의 순서대로 터지게 된다."
   ]
  },
  {
   "cell_type": "markdown",
   "id": "5e289d69",
   "metadata": {},
   "source": [
    "> 첫째줄 입력: 첫째 줄에 자연수 N(1 ≤ N ≤ 1,000)이 주어진다. 다음 줄에는 차례로 각 풍선 안의 종이에 적혀 있는 수가 주어진다. 종이에 0은 적혀있지 않다.\n",
    "\n",
    "> 출력: 첫째 줄에 터진 풍선의 번호를 차례로 나열한다."
   ]
  },
  {
   "cell_type": "markdown",
   "id": "f742c2bb",
   "metadata": {},
   "source": [
    "## 1. Python solution1"
   ]
  },
  {
   "cell_type": "code",
   "execution_count": 1,
   "id": "552730e3",
   "metadata": {},
   "outputs": [
    {
     "name": "stdout",
     "output_type": "stream",
     "text": [
      "5\n",
      "3 2 1 -3 -1\n",
      "1 4 5 2 3 "
     ]
    }
   ],
   "source": [
    "from collections import deque\n",
    "\n",
    "n = int(input())\n",
    "paper = list(map(int, input().split(' ')))\n",
    "dq = deque([i for i in range(1, n+1)])\n",
    "\n",
    "result = []\n",
    "# x = 종이에 적힌 수, y = 풍선 번호\n",
    "for i in range(n):\n",
    "    if i == 0:\n",
    "        y = dq.popleft()\n",
    "        result.append(y)\n",
    "        x = paper[0]\n",
    "    else:\n",
    "        # 양수면 오른쪽\n",
    "        if x > 0:\n",
    "            for i in range(x-1):\n",
    "                dq.append(dq.popleft())\n",
    "            y = dq.popleft()\n",
    "            result.append(y)\n",
    "            x = paper[x-1]\n",
    "        # 음수면 왼쪽\n",
    "        elif x < 0:\n",
    "            for i in range(-x-1):\n",
    "                dq.appendleft(dq.pop())\n",
    "            y = dq.popleft()\n",
    "            result.append(y)\n",
    "            x = paper[x-1]\n",
    "\n",
    "for i in result:\n",
    "    print(i, end = ' ')"
   ]
  },
  {
   "cell_type": "markdown",
   "id": "8d68e27d",
   "metadata": {},
   "source": [
    "## 1. Python solution2"
   ]
  },
  {
   "cell_type": "code",
   "execution_count": null,
   "id": "cdba4fa2",
   "metadata": {},
   "outputs": [],
   "source": [
    "# enumerate() 함수는 기본적으로 인덱스와 원소로 이루어진 튜플(tuple)을 만들어준다."
   ]
  },
  {
   "cell_type": "code",
   "execution_count": null,
   "id": "318f41b6",
   "metadata": {},
   "outputs": [],
   "source": [
    "import sys\n",
    "from collections import deque\n",
    "input = sys.stdin.readline\n",
    "\n",
    "n = int(input())\n",
    "q = deque(enumerate(map(int, input().split())))\n",
    "ans = []\n",
    "\n",
    "while q:\n",
    "    idx, paper = q.popleft()\n",
    "    ans.append(idx + 1)\n",
    "\n",
    "    if paper > 0:\n",
    "        q.rotate(-(paper - 1))\n",
    "    elif paper < 0:\n",
    "        q.rotate(-paper)\n",
    "\n",
    "print(' '.join(map(str, ans)))"
   ]
  },
  {
   "cell_type": "code",
   "execution_count": null,
   "id": "d18a39e1",
   "metadata": {},
   "outputs": [],
   "source": []
  }
 ],
 "metadata": {
  "kernelspec": {
   "display_name": "Python 3",
   "language": "python",
   "name": "python3"
  },
  "language_info": {
   "codemirror_mode": {
    "name": "ipython",
    "version": 3
   },
   "file_extension": ".py",
   "mimetype": "text/x-python",
   "name": "python",
   "nbconvert_exporter": "python",
   "pygments_lexer": "ipython3",
   "version": "3.8.8"
  }
 },
 "nbformat": 4,
 "nbformat_minor": 5
}
