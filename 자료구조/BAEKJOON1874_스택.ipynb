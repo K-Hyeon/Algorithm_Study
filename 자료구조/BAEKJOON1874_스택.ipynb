{
 "cells": [
  {
   "cell_type": "markdown",
   "id": "fd22ee51",
   "metadata": {},
   "source": [
    "# 백준 1874문제(https://www.acmicpc.net/problem/1874)\n",
    "\n",
    "정수를 저장하는 스택을 구현한 다음, 입력으로 주어지는 명령을 처리하는 프로그램을 작성하시오.\n",
    "\n",
    "명령은 총 다섯 가지이다.\n",
    "\n",
    "1) push X: 정수 X를 스택에 넣는 연산이다.\n",
    "\n",
    "2) pop: 스택에서 가장 위에 있는 정수를 빼고, 그 수를 출력한다. 만약 스택에 들어있는 정수가 없는 경우에는 -1을 출력한다.\n",
    "\n",
    "3) size: 스택에 들어있는 정수의 개수를 출력한다.\n",
    "\n",
    "4) empty: 스택이 비어있으면 1, 아니면 0을 출력한다.\n",
    "\n",
    "5) top: 스택의 가장 위에 있는 정수를 출력한다. 만약 스택에 들어있는 정수가 없는 경우에는 -1을 출력한다."
   ]
  },
  {
   "cell_type": "markdown",
   "id": "5e289d69",
   "metadata": {},
   "source": [
    "> 첫째줄 입력: 명령의 수 N (1 ≤ N ≤ 10,000)\n",
    "> 두째줄~n개의 줄 입력: 명령이 하나씩 주어진다.\n",
    "\n",
    "> 출력: 출력해야하는 명령이 주어질 때마다, 한 줄에 하나씩 출력한다."
   ]
  },
  {
   "cell_type": "markdown",
   "id": "f742c2bb",
   "metadata": {},
   "source": [
    "## 1. Python solution1"
   ]
  },
  {
   "cell_type": "code",
   "execution_count": 6,
   "id": "c5e65475",
   "metadata": {},
   "outputs": [
    {
     "name": "stdout",
     "output_type": "stream",
     "text": [
      "14\n",
      "push 1\n",
      "push 2\n",
      "top\n",
      "2\n",
      "size\n",
      "2\n",
      "empty\n",
      "0\n",
      "pop\n",
      "2\n",
      "pop\n",
      "1\n",
      "pop\n",
      "-1\n",
      "size\n",
      "0\n",
      "empty\n",
      "1\n",
      "pop\n",
      "-1\n",
      "push 3\n",
      "empty\n",
      "0\n",
      "top\n",
      "3\n"
     ]
    }
   ],
   "source": [
    "n = int(input())\n",
    "\n",
    "stack = []\n",
    "\n",
    "for i in range(n):\n",
    "    order = input().strip().split()\n",
    "    # push\n",
    "    if order[0] == 'push':\n",
    "        stack.append(int(order[1]))\n",
    "    # pop\n",
    "    elif order[0] == 'pop':\n",
    "        if stack:\n",
    "            print(stack.pop())\n",
    "        else: print(-1)\n",
    "    # size\n",
    "    elif order[0] == 'size':\n",
    "        print(len(stack))\n",
    "    # empty\n",
    "    elif order[0] == 'empty':\n",
    "        if stack:\n",
    "            print(0)\n",
    "        else: print(1)\n",
    "    # top\n",
    "    elif order[0] == 'top':\n",
    "        if stack:\n",
    "            print(stack[-1])\n",
    "        else: print(-1)"
   ]
  }
 ],
 "metadata": {
  "kernelspec": {
   "display_name": "Python 3",
   "language": "python",
   "name": "python3"
  },
  "language_info": {
   "codemirror_mode": {
    "name": "ipython",
    "version": 3
   },
   "file_extension": ".py",
   "mimetype": "text/x-python",
   "name": "python",
   "nbconvert_exporter": "python",
   "pygments_lexer": "ipython3",
   "version": "3.8.8"
  }
 },
 "nbformat": 4,
 "nbformat_minor": 5
}
