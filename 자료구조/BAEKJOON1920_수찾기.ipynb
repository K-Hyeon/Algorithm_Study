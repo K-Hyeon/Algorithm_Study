{
 "cells": [
  {
   "cell_type": "markdown",
   "id": "fd22ee51",
   "metadata": {},
   "source": [
    "# 백준 1920문제(https://www.acmicpc.net/problem/1920)\n",
    "\n",
    "N개의 정수 A[1], A[2], …, A[N]이 주어져 있을 때, 이 안에 X라는 정수가 존재하는지 알아내는 프로그램을 작성하시오."
   ]
  },
  {
   "cell_type": "markdown",
   "id": "5e289d69",
   "metadata": {},
   "source": [
    "> 첫째줄 입력: 자연수 N(1 ≤ N ≤ 100,000)이 주어진다. \n",
    "다음 줄에는 N개의 정수 A[1], A[2], …, A[N]이 주어진다.\n",
    "\n",
    "> 출력: M개의 줄에 답을 출력한다. 존재하면 1을, 존재하지 않으면 0을 출력한다."
   ]
  },
  {
   "cell_type": "markdown",
   "id": "f742c2bb",
   "metadata": {},
   "source": [
    "## 1. Python solution1"
   ]
  },
  {
   "cell_type": "code",
   "execution_count": 6,
   "id": "701eb62e",
   "metadata": {},
   "outputs": [
    {
     "name": "stdout",
     "output_type": "stream",
     "text": [
      "5\n",
      "4 1 5 2 3\n",
      "5\n",
      "1 3 7 9 5\n",
      "1\n",
      "1\n",
      "0\n",
      "0\n",
      "1\n"
     ]
    }
   ],
   "source": [
    "# 이분탐색\n",
    "n = int(input())\n",
    "n_list = list(map(int, input().split()))\n",
    "\n",
    "m = int(input())\n",
    "m_list = list(map(int, input().split()))\n",
    "\n",
    "n_list.sort()\n",
    "\n",
    "def binary_search(array, target, start, end):\n",
    "    if start > end:\n",
    "        return 0\n",
    "\n",
    "    mid = (start+end) // 2\n",
    "\n",
    "    if array[mid] == target:\n",
    "        return 1\n",
    "    if array[mid] > target:\n",
    "        return binary_search(array, target, start, mid-1)\n",
    "    if array[mid] < target:\n",
    "        return binary_search(array, target, mid+1, end)\n",
    "\n",
    "for i in m_list:\n",
    "    print(binary_search(n_list, i, 0, n-1))"
   ]
  },
  {
   "cell_type": "markdown",
   "id": "cf5a5cc4",
   "metadata": {},
   "source": [
    "## 1-2. Python solution2"
   ]
  },
  {
   "cell_type": "code",
   "execution_count": 1,
   "id": "a0900c4c",
   "metadata": {},
   "outputs": [
    {
     "name": "stdout",
     "output_type": "stream",
     "text": [
      "5\n",
      "4 1 5 2 3\n",
      "5\n",
      "1 3 7 9 5\n",
      "1\n",
      "1\n",
      "0\n",
      "0\n",
      "1\n"
     ]
    }
   ],
   "source": [
    "# 집합 자료형을 통한 포함 여부 확인\n",
    "n = int(input())\n",
    "n_list = set(map(int, input().split()))\n",
    "m = int(input())\n",
    "m_list = list(map(int, input().split()))\n",
    "\n",
    "for i in m_list:\n",
    "    if i not in n_list:\n",
    "        print('0')\n",
    "    else:\n",
    "        print('1')"
   ]
  }
 ],
 "metadata": {
  "kernelspec": {
   "display_name": "Python 3",
   "language": "python",
   "name": "python3"
  },
  "language_info": {
   "codemirror_mode": {
    "name": "ipython",
    "version": 3
   },
   "file_extension": ".py",
   "mimetype": "text/x-python",
   "name": "python",
   "nbconvert_exporter": "python",
   "pygments_lexer": "ipython3",
   "version": "3.8.8"
  }
 },
 "nbformat": 4,
 "nbformat_minor": 5
}
