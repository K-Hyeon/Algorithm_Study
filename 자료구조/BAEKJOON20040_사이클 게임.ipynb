{
 "cells": [
  {
   "cell_type": "markdown",
   "id": "fd22ee51",
   "metadata": {},
   "source": [
    "# 백준 20040문제(https://www.acmicpc.net/problem/20040)\n",
    "\n",
    "사이클 게임은 두 명의 플레이어가 차례대로 돌아가며 진행하는 게임으로, 선 플레이어가 홀수 번째 차례를, 후 플레이어가 짝수 번째 차례를 진행한다. 게임 시작 시 0 부터 n − 1 까지 고유한 번호가 부여된 평면 상의 점 n 개가 주어지며, 이 중 어느 세 점도 일직선 위에 놓이지 않는다. 매 차례 마다 플레이어는 두 점을 선택해서 이를 연결하는 선분을 긋는데, 이전에 그린 선분을 다시 그을 수는 없지만 이미 그린 다른 선분과 교차하는 것은 가능하다. 게임을 진행하다가 처음으로 사이클을 완성하는 순간 게임이 종료된다. 사이클 C는 플레이어가 그린 선분들의 부분집합으로, 다음 조건을 만족한다.\n",
    "\n",
    "C에 속한 임의의 선분의 한 끝점에서 출발하여 모든 선분을 한 번씩만 지나서 출발점으로 되돌아올 수 있다.\n",
    "\n",
    "문제는 선분을 여러 개 그리다 보면 사이클이 완성 되었는지의 여부를 판단하기 어려워 이미 사이클이 완성되었음에도 불구하고 게임을 계속 진행하게 될 수 있다는 것이다. 이 문제를 해결하기 위해서 게임의 진행 상황이 주어지면 몇 번째 차례에서 사이클이 완성되었는지, 혹은 아직 게임이 진행 중인지를 판단하는 프로그램을 작성하려 한다.\n",
    "\n",
    "입력으로 점의 개수 n과 m 번째 차례까지의 게임 진행 상황이 주어지면 사이클이 완성 되었는지를 판단하고, 완성되었다면 몇 번째 차례에서 처음으로 사이클이 완성된 것인지를 출력하는 프로그램을 작성하시오."
   ]
  },
  {
   "cell_type": "markdown",
   "id": "5e289d69",
   "metadata": {},
   "source": [
    "> 입력: 입력은 표준입력을 사용한다. 입력의 첫 번째 줄에는 점의 개수를 나타내는 정수 3 ≤ n ≤ 500,000 과 진행된 차례의 수를 나타내는 정수 3 ≤ m ≤ 1,000,000 이 주어진다. 게임에서 사용하는 n개의 점에는 0 부터 n − 1 까지 고유한 번호가 부여되어 있으며, 이 중 어느 세 점도 일직선 위에 놓이지 않는다. 이어지는 m 개의 입력 줄에는 각각 i번째 차례에 해당 플레이어가 선택한 두 점의 번호가 주어진다 (1 ≤ i ≤ m).\n",
    "\n",
    "> 출력: 출력은 표준출력을 사용한다. 입력으로 주어진 케이스에 대해, m 번째 차례까지 게임을 진행한 상황에서 이미 게임이 종료되었다면 사이클이 처음으로 만들어진 차례의 번호를 양의 정수로 출력하고, m 번의 차례를 모두 처리한 이후에도 종료되지 않았다면 0을 출력한다."
   ]
  },
  {
   "cell_type": "markdown",
   "id": "f742c2bb",
   "metadata": {},
   "source": [
    "## 1. Python solution1"
   ]
  },
  {
   "cell_type": "code",
   "execution_count": null,
   "id": "7d3fece7",
   "metadata": {},
   "outputs": [],
   "source": [
    "import sys\n",
    "input = sys.stdin.readline"
   ]
  },
  {
   "cell_type": "code",
   "execution_count": 1,
   "id": "30672ad1",
   "metadata": {},
   "outputs": [
    {
     "name": "stdout",
     "output_type": "stream",
     "text": [
      "6 5\n",
      "0 1\n",
      "1 2\n",
      "2 3\n",
      "5 4\n",
      "0 4\n",
      "0\n"
     ]
    }
   ],
   "source": [
    "n, m = map(int, input().split(' '))\n",
    "parents = [i for i in range(n)]\n",
    "endgame = 0\n",
    "\n",
    "def find(x):\n",
    "    if x == parents[x]:\n",
    "        return x\n",
    "    else:\n",
    "        y = find(parents[x])\n",
    "        parents[x] = y\n",
    "        return y\n",
    "\n",
    "def union(x, y, indx):\n",
    "    global endgame\n",
    "    x = find(x)\n",
    "    y = find(y)\n",
    "    if x != y:\n",
    "        parents[max(x,y)] = min(x,y)\n",
    "    elif endgame == 0:\n",
    "        endgame = indx\n",
    "\n",
    "for i in range(m):\n",
    "    a, b = map(int, input().split())\n",
    "    union(a, b, i + 1)\n",
    "\n",
    "print(endgame)"
   ]
  },
  {
   "cell_type": "markdown",
   "id": "eafddd16",
   "metadata": {},
   "source": [
    "## 1. Python solution2"
   ]
  },
  {
   "cell_type": "code",
   "execution_count": 6,
   "id": "f32b9d60",
   "metadata": {},
   "outputs": [
    {
     "name": "stdout",
     "output_type": "stream",
     "text": [
      "6 5\n",
      "0 1\n",
      "1 2\n",
      "2 3\n",
      "5 4\n",
      "0 4\n",
      "0\n"
     ]
    }
   ],
   "source": [
    "# 특정 원소가 속한 집합을 찾기\n",
    "def find_parent(parent, x):\n",
    "    if parent[x] != x:\n",
    "        # 루트 노드를 찾을 때까지 재귀적으로 호출\n",
    "        parent[x] = find_parent(parent, parent[x])\n",
    "    return parent[x]\n",
    "    \n",
    "# 두 원소가 속한 집합을 합치기\n",
    "def union_parent(parent, a, b):\n",
    "    a = find_parent(parent, a)\n",
    "    b = find_parent(parent, b)\n",
    "    if a < b:\n",
    "        parent[b] = a\n",
    "    else:\n",
    "        parent[a] = b\n",
    "        \n",
    "\n",
    "n, m = map(int, input().split()) \n",
    "parent = [0] * n # 부모 테이블 초기화하기\n",
    "\n",
    "# 부모 테이블상에서, 부모를 자기 자신으로 초기화\n",
    "for i in range(n):\n",
    "    parent[i] = i\n",
    "\n",
    "cycle = False\n",
    "for i in range(m):\n",
    "    a, b = map(int, input().split())\n",
    "    # 사이클이 발생한 경우 종료\n",
    "    if find_parent(parent, a) == find_parent(parent, b):\n",
    "        cycle = True\n",
    "        print(i + 1)\n",
    "        break\n",
    "    # 사이클이 발생하지 않았다면 합집합(Union) 연산 수행\n",
    "    else:\n",
    "        union_parent(parent, a, b)\n",
    "\n",
    "if not cycle:\n",
    "    print(0)"
   ]
  }
 ],
 "metadata": {
  "kernelspec": {
   "display_name": "Python 3",
   "language": "python",
   "name": "python3"
  },
  "language_info": {
   "codemirror_mode": {
    "name": "ipython",
    "version": 3
   },
   "file_extension": ".py",
   "mimetype": "text/x-python",
   "name": "python",
   "nbconvert_exporter": "python",
   "pygments_lexer": "ipython3",
   "version": "3.8.8"
  }
 },
 "nbformat": 4,
 "nbformat_minor": 5
}
