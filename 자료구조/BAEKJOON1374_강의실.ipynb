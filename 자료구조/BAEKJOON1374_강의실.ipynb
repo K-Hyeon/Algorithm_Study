{
 "cells": [
  {
   "cell_type": "markdown",
   "id": "fd22ee51",
   "metadata": {},
   "source": [
    "# 백준 1374문제(https://www.acmicpc.net/problem/1374)\n",
    "\n",
    "N개의 강의가 있다. 우리는 모든 강의의 시작하는 시간과 끝나는 시간을 알고 있다. 이때, 우리는 최대한 적은 수의 강의실을 사용하여 모든 강의가 이루어지게 하고 싶다.\n",
    "\n",
    "물론, 한 강의실에서는 동시에 2개 이상의 강의를 진행할 수 없고, 한 강의의 종료시간과 다른 강의의 시작시간이 겹치는 것은 상관없다. 필요한 최소 강의실의 수를 출력하는 프로그램을 작성하시오."
   ]
  },
  {
   "cell_type": "markdown",
   "id": "5e289d69",
   "metadata": {},
   "source": [
    "> 입력: 첫째 줄에 강의의 개수 N(1 ≤ N ≤ 100,000)이 주어진다. 둘째 줄부터 N개의 줄에 걸쳐 각 줄마다 세 개의 정수가 주어지는데, 순서대로 강의 번호, 강의 시작 시간, 강의 종료 시간을 의미한다. 강의 번호는 1부터 N까지 붙어 있으며, 입력에서 꼭 순서대로 주어지지 않을 수 있으나 한 번씩만 주어진다. 강의 시작 시간과 강의 종료 시간은 0 이상 10억 이하의 정수이고, 시작 시간은 종료 시간보다 작다.\n",
    "\n",
    "> 출력: 첫째 줄에 필요한 최소 강의실 개수를 출력한다."
   ]
  },
  {
   "cell_type": "markdown",
   "id": "f742c2bb",
   "metadata": {},
   "source": [
    "## 1. Python solution1"
   ]
  },
  {
   "cell_type": "code",
   "execution_count": null,
   "id": "f5f3c99b",
   "metadata": {},
   "outputs": [],
   "source": [
    "import sys\n",
    "# 빠른 입력 함수 사용\n",
    "input = sys.stdin.readline"
   ]
  },
  {
   "cell_type": "code",
   "execution_count": 3,
   "id": "b2c1d7f4",
   "metadata": {},
   "outputs": [
    {
     "name": "stdout",
     "output_type": "stream",
     "text": [
      "8\n",
      "6 15 21\n",
      "7 20 25\n",
      "1 3 8\n",
      "3 2 14\n",
      "8 6 27\n",
      "2 7 13\n",
      "4 12 18\n",
      "5 6 20\n",
      "5\n"
     ]
    }
   ],
   "source": [
    "import heapq\n",
    "\n",
    "n = int(input())\n",
    "lectures = []\n",
    "\n",
    "for i in range(n):\n",
    "    # 강의 번호, 강의 시작 시간, 강의 종료 시간\n",
    "    id, start, end = map(int, input().split(' '))\n",
    "    heapq.heappush(lectures, (start, end)) # 자동 정렬\n",
    "    \n",
    "heap = []\n",
    "end = heapq.heappop(lectures)[1]\n",
    "heapq.heappush(heap, end)\n",
    "answer = 1\n",
    "\n",
    "for i in range(n-1):\n",
    "    new_start, new_end = heapq.heappop(lectures)\n",
    "    end = heapq.heappop(heap)\n",
    "    \n",
    "    # 강의 시간이 겹치면\n",
    "    if new_start < end:\n",
    "        heapq.heappush(heap, end)\n",
    "        heapq.heappush(heap, new_end)\n",
    "        answer += 1\n",
    "    else:\n",
    "        heapq.heappush(heap, new_end)\n",
    "        \n",
    "print(answer)    "
   ]
  }
 ],
 "metadata": {
  "kernelspec": {
   "display_name": "Python 3",
   "language": "python",
   "name": "python3"
  },
  "language_info": {
   "codemirror_mode": {
    "name": "ipython",
    "version": 3
   },
   "file_extension": ".py",
   "mimetype": "text/x-python",
   "name": "python",
   "nbconvert_exporter": "python",
   "pygments_lexer": "ipython3",
   "version": "3.8.8"
  }
 },
 "nbformat": 4,
 "nbformat_minor": 5
}
