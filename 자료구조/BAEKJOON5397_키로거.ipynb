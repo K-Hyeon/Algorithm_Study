{
 "cells": [
  {
   "cell_type": "markdown",
   "id": "fd22ee51",
   "metadata": {},
   "source": [
    "# 백준 5397문제(https://www.acmicpc.net/problem/5397)\n",
    "\n",
    "창영이는 강산이의 비밀번호를 훔치기 위해서 강산이가 사용하는 컴퓨터에 키로거를 설치했다. 며칠을 기다린 끝에 창영이는 강산이가 비밀번호 창에 입력하는 글자를 얻어냈다.\n",
    "\n",
    "키로거는 사용자가 키보드를 누른 명령을 모두 기록한다. 따라서, 강산이가 비밀번호를 입력할 때, 화살표나 백스페이스를 입력해도 정확한 비밀번호를 알아낼 수 있다. \n",
    "\n",
    "강산이가 비밀번호 창에서 입력한 키가 주어졌을 때, 강산이의 비밀번호를 알아내는 프로그램을 작성하시오. 강산이는 키보드로 입력한 키는 알파벳 대문자, 소문자, 숫자, 백스페이스, 화살표이다."
   ]
  },
  {
   "cell_type": "markdown",
   "id": "5e289d69",
   "metadata": {},
   "source": [
    "> 첫째줄 입력: 테스트 케이스 수\n",
    "\n",
    "> 각 테스트 케이스는 한줄로 이루어져 있고, 강산이가 입력한 순서대로 길이가 L인 문자열이 주어진다.\n",
    "\n",
    "> 출력: 각 테스트 케이스에 대해서, 강산이의 비밀번호를 출력한다. 비밀번호의 길이는 항상 0보다 크다."
   ]
  },
  {
   "cell_type": "markdown",
   "id": "f742c2bb",
   "metadata": {},
   "source": [
    "## 1. Python solution1"
   ]
  },
  {
   "cell_type": "code",
   "execution_count": null,
   "id": "4f27005c",
   "metadata": {},
   "outputs": [],
   "source": [
    "t = int(input())\n",
    "\n",
    "for _ in range(t):\n",
    "    l_list = []\n",
    "    r_list = []\n",
    "    data = input()\n",
    "    for i in data:\n",
    "        if i == '-':\n",
    "            if l_list: #왼쪽 스택에 있을 경우\n",
    "                l_list.pop()\n",
    "        elif i == '<': # 왼스택에 있는 문자 오른쪽 스택으로\n",
    "            if l_list:\n",
    "                r_list.append(l_list.pop())\n",
    "        elif i == '>': # 오른스택에 있는 문자 왼쪽 스택으로\n",
    "            if r_list:\n",
    "                l_list.append(r_list.pop())\n",
    "        else:\n",
    "            l_list.append(i)\n",
    "    l_list.extend(reversed(r_list)) # 오른쪽 스택에 있는 문자들은 뒤집어서 붙여야 한다.\n",
    "    print(''.join(l_list))"
   ]
  }
 ],
 "metadata": {
  "kernelspec": {
   "display_name": "Python 3",
   "language": "python",
   "name": "python3"
  },
  "language_info": {
   "codemirror_mode": {
    "name": "ipython",
    "version": 3
   },
   "file_extension": ".py",
   "mimetype": "text/x-python",
   "name": "python",
   "nbconvert_exporter": "python",
   "pygments_lexer": "ipython3",
   "version": "3.8.8"
  }
 },
 "nbformat": 4,
 "nbformat_minor": 5
}
