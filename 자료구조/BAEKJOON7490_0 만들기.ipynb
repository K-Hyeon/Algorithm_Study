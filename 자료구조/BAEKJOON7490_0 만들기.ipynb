{
 "cells": [
  {
   "cell_type": "markdown",
   "id": "fd22ee51",
   "metadata": {},
   "source": [
    "# 백준 7490문제(https://www.acmicpc.net/problem/7490)\n",
    "\n",
    "1부터 N까지의 수를 오름차순으로 쓴 수열 1 2 3 ... N을 생각하자.\n",
    "\n",
    "그리고 '+'나 '-', 또는 ' '(공백)을 숫자 사이에 삽입하자(+는 더하기, -는 빼기, 공백은 숫자를 이어 붙이는 것을 뜻한다). 이렇게 만든 수식의 값을 계산하고 그 결과가 0이 될 수 있는지를 살피자.\n",
    "\n",
    "N이 주어졌을 때 수식의 결과가 0이 되는 모든 수식을 찾는 프로그램을 작성하라."
   ]
  },
  {
   "cell_type": "markdown",
   "id": "5e289d69",
   "metadata": {},
   "source": [
    "> 첫째줄 입력: 첫 번째 줄에 테스트 케이스의 개수가 주어진다(<10). 각 테스트 케이스엔 자연수 N이 주어진다(3 <= N <= 9).\n",
    "\n",
    "> 출력: 각 테스트 케이스에 대해 ASCII 순서에 따라 결과가 0이 되는 모든 수식을 출력한다. 각 테스트 케이스의 결과는 한 줄을 띄워 구분한다."
   ]
  },
  {
   "cell_type": "markdown",
   "id": "f742c2bb",
   "metadata": {},
   "source": [
    "## 1. Python solution1"
   ]
  },
  {
   "cell_type": "code",
   "execution_count": 9,
   "id": "b0af91c4",
   "metadata": {},
   "outputs": [
    {
     "name": "stdout",
     "output_type": "stream",
     "text": [
      "2\n",
      "3\n",
      "1+2-3\n",
      "\n",
      "7\n",
      "1+2-3+4-5-6+7\n",
      "1+2-3-4+5+6-7\n",
      "1-2 3+4+5+6+7\n",
      "1-2 3-4 5+6 7\n",
      "1-2+3+4-5+6-7\n",
      "1-2-3-4-5+6+7\n",
      "\n"
     ]
    }
   ],
   "source": [
    "import copy\n",
    "\n",
    "def recursive(array, n):\n",
    "    if len(array) == n:\n",
    "        operators_list.append(copy.deepcopy(array))\n",
    "        return\n",
    "    array.append(' ')\n",
    "    recursive(array, n)\n",
    "    array.pop()\n",
    "    \n",
    "    array.append('+')\n",
    "    recursive(array, n)\n",
    "    array.pop()\n",
    "    \n",
    "    array.append('-')\n",
    "    recursive(array, n)\n",
    "    array.pop()\n",
    "\n",
    "# 입력\n",
    "test_case = int(input())\n",
    "\n",
    "for _ in range(test_case):\n",
    "    operators_list = []\n",
    "    n = int(input())\n",
    "    recursive([], n-1)\n",
    "    \n",
    "    integers = [i for i in range(1, n+1)]\n",
    "    \n",
    "    for operators in operators_list:\n",
    "        string = \"\"\n",
    "        for i in range(n-1):\n",
    "            string += str(integers[i]) + operators[i]\n",
    "        string += str(integers[-1])\n",
    "        if eval(string.replace(\" \", \"\")) == 0:\n",
    "            print(string)\n",
    "    print()"
   ]
  },
  {
   "cell_type": "code",
   "execution_count": null,
   "id": "d49c140a",
   "metadata": {},
   "outputs": [],
   "source": []
  }
 ],
 "metadata": {
  "kernelspec": {
   "display_name": "Python 3",
   "language": "python",
   "name": "python3"
  },
  "language_info": {
   "codemirror_mode": {
    "name": "ipython",
    "version": 3
   },
   "file_extension": ".py",
   "mimetype": "text/x-python",
   "name": "python",
   "nbconvert_exporter": "python",
   "pygments_lexer": "ipython3",
   "version": "3.8.8"
  }
 },
 "nbformat": 4,
 "nbformat_minor": 5
}
